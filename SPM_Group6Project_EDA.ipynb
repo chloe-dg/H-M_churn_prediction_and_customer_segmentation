{
  "cells": [
    {
      "cell_type": "markdown",
      "metadata": {
        "id": "XMUaaz7vfOo3"
      },
      "source": [
        "# Strategy and Performance Management - Fall 2022 - Group Project\n",
        "## H&M Customer Segmentation and Strategies\n",
        "### Group 6: Thi Anh Ba Dang, Eduardo Garcia, MyThu Lam, Carla Weidner\n",
        "\n",
        "---\n",
        "\n"
      ]
    },
    {
      "cell_type": "markdown",
      "metadata": {
        "id": "VeNMHwimntr0"
      },
      "source": [
        "## Group Project Specifications"
      ]
    },
    {
      "cell_type": "markdown",
      "metadata": {
        "id": "PRToCf0KuM4B"
      },
      "source": [
        "**Project Presentation:**\n",
        "\n",
        "*   Max 15 minute presentation\n",
        "*   10 minutes of questions and discussions\n",
        "\n",
        "**Project Criteria (40 pts total):**\n",
        "\n",
        "1.   Relevance of the topic for a CEO (\"Ask the right questions\") - 5 pts\n",
        "2.   Specific for one company - 5 pts\n",
        "3.   Decision Relevant - 5 pts\n",
        "4.   Data (\"Extract, transform, and load the right data\") - 5 pts\n",
        "5.   Advanced Data Science (\"Apply appropriate analytics techniques\") - 10 pts\n",
        "6.   Documentation / Code - 10 pts\n",
        "\n",
        "**Presentation Criteria (20 pts total):**\n",
        "\n",
        "1.   Framing of the topic - 1 pt\n",
        "2.   Content / Explanations - 6 pts\n",
        "3.   Structure - 1 pt\n",
        "4.   Connection to the audience - 1 pt\n",
        "5.   Delivery - 1 pt\n",
        "6.   Creativity - 1 pt\n",
        "7.   Use of Time - 1 pt\n",
        "8.   Use of Media - 2 pts\n",
        "9.   Discussion / Interaction with class - 2 pts\n",
        "10.  Overall Impression - 4 pts\n",
        "\n",
        "**Project Inspiration - Project 2: EMMA**\n",
        "\n",
        "Develop a recommendation engine to display cross-sell options on our webshop.\n",
        "\n",
        "Background: Emma was founded as mattress e-commerce, but we are committed to become the No1 sleep brand in the world. To achieve that, we want to offer and sell more sleep-related products beyond mattresses. Therefore we need to be able to recommend the right additional product to our customers at the point of purchase.\n",
        "\n",
        "Challenge: You will be provided with a list of orders by customers who have placed multiple orders in a short time frame, as well as anonymized customer data. You are then challenged, to develop a recommendation engine that is suited to suggest additional products when a potential customer has placed a product in his cart.\n",
        "\n",
        "\n",
        "---\n"
      ]
    },
    {
      "cell_type": "markdown",
      "metadata": {
        "id": "zqmQSKRyuVCY"
      },
      "source": [
        "## Kaggle Project Description"
      ]
    },
    {
      "cell_type": "markdown",
      "metadata": {
        "id": "vVg8kDCRgFkq"
      },
      "source": [
        "**Project Source - Kaggle Competition**\n",
        "\n",
        "https://www.kaggle.com/competitions/h-and-m-personalized-fashion-recommendations/overview\n",
        "\n",
        "\n",
        "\n",
        "**Description (from Kaggle website)**\n",
        "\n",
        "H&M Group is a family of brands and businesses with 53 online markets and approximately 4,850 stores. Our online store offers shoppers an extensive selection of products to browse through. But with too many choices, customers might not quickly find what interests them or what they are looking for, and ultimately, they might not make a purchase. To enhance the shopping experience, product recommendations are key. More importantly, helping customers make the right choices also has a positive implications for sustainability, as it reduces returns, and thereby minimizes emissions from transportation.\n",
        "\n",
        "In this competition, H&M Group invites you to develop product recommendations based on data from previous transactions, as well as from customer and product meta data. The available meta data spans from simple data, such as garment type and customer age, to text data from product descriptions, to image data from garment images.\n",
        "\n",
        "There are no preconceptions on what information that may be useful – that is for you to find out. If you want to investigate a categorical data type algorithm, or dive into NLP and image processing deep learning, that is up to you.\n",
        "\n",
        "\n",
        "\n",
        "**Evaluation**\n",
        "\n",
        "Submissions are evaluated according to the Mean Average Precision @ 12 (MAP@12):\n",
        "\n",
        "$MAP@12=\\frac{1}{U} \\sum_{u=1}^{U} \\frac{1}{min(m,12)} \\sum_{k=1}^{min(n,12)} P(k) × rel(k)$\n",
        "\n",
        "where 𝑈 is the number of customers, 𝑃(𝑘) is the precision at cutoff 𝑘, 𝑛 is the number predictions per customer, 𝑚 is the number of ground truth values per customer, and 𝑟𝑒𝑙(𝑘) is an indicator function equaling 1 if the item at rank 𝑘 is a relevant (correct) label, zero otherwise.\n",
        "\n",
        "Notes:\n",
        "\n",
        "You will be making purchase predictions for all customer_id values provided, regardless of whether these customers made purchases in the training data.\n",
        "Customer that did not make any purchase during test period are excluded from the scoring.\n",
        "There is never a penalty for using the full 12 predictions for a customer that ordered fewer than 12 items; thus, it's advantageous to make 12 predictions for each customer.\n",
        "\n",
        "**Dataset Description**\n",
        "\n",
        "For this challenge you are given the purchase history of customers across time, along with supporting metadata. Your challenge is to predict what articles each customer will purchase in the 7-day period immediately after the training data ends. Customer who did not make any purchase during that time are excluded from the scoring.\n",
        "\n",
        "**Q&A from Host**\n",
        "\n",
        "https://www.kaggle.com/competitions/h-and-m-personalized-fashion-recommendations/discussion/307001"
      ]
    },
    {
      "cell_type": "markdown",
      "metadata": {
        "id": "PmkIl_KR0xFi"
      },
      "source": [
        "# Exploratory Data Analysis"
      ]
    },
    {
      "cell_type": "markdown",
      "metadata": {
        "id": "GktetwuK4xp5"
      },
      "source": [
        "## Importing Data from Kaggle to Colab"
      ]
    },
    {
      "cell_type": "code",
      "execution_count": 1,
      "metadata": {
        "colab": {
          "base_uri": "https://localhost:8080/",
          "height": 92
        },
        "id": "dt_azwy1fTg8",
        "outputId": "8eb69dcd-46da-433c-f694-0d271eeb9092"
      },
      "outputs": [
        {
          "output_type": "display_data",
          "data": {
            "text/plain": [
              "<IPython.core.display.HTML object>"
            ],
            "text/html": [
              "\n",
              "     <input type=\"file\" id=\"files-e634a388-c900-45fc-ba30-9a8b6d6438ad\" name=\"files[]\" multiple disabled\n",
              "        style=\"border:none\" />\n",
              "     <output id=\"result-e634a388-c900-45fc-ba30-9a8b6d6438ad\">\n",
              "      Upload widget is only available when the cell has been executed in the\n",
              "      current browser session. Please rerun this cell to enable.\n",
              "      </output>\n",
              "      <script>// Copyright 2017 Google LLC\n",
              "//\n",
              "// Licensed under the Apache License, Version 2.0 (the \"License\");\n",
              "// you may not use this file except in compliance with the License.\n",
              "// You may obtain a copy of the License at\n",
              "//\n",
              "//      http://www.apache.org/licenses/LICENSE-2.0\n",
              "//\n",
              "// Unless required by applicable law or agreed to in writing, software\n",
              "// distributed under the License is distributed on an \"AS IS\" BASIS,\n",
              "// WITHOUT WARRANTIES OR CONDITIONS OF ANY KIND, either express or implied.\n",
              "// See the License for the specific language governing permissions and\n",
              "// limitations under the License.\n",
              "\n",
              "/**\n",
              " * @fileoverview Helpers for google.colab Python module.\n",
              " */\n",
              "(function(scope) {\n",
              "function span(text, styleAttributes = {}) {\n",
              "  const element = document.createElement('span');\n",
              "  element.textContent = text;\n",
              "  for (const key of Object.keys(styleAttributes)) {\n",
              "    element.style[key] = styleAttributes[key];\n",
              "  }\n",
              "  return element;\n",
              "}\n",
              "\n",
              "// Max number of bytes which will be uploaded at a time.\n",
              "const MAX_PAYLOAD_SIZE = 100 * 1024;\n",
              "\n",
              "function _uploadFiles(inputId, outputId) {\n",
              "  const steps = uploadFilesStep(inputId, outputId);\n",
              "  const outputElement = document.getElementById(outputId);\n",
              "  // Cache steps on the outputElement to make it available for the next call\n",
              "  // to uploadFilesContinue from Python.\n",
              "  outputElement.steps = steps;\n",
              "\n",
              "  return _uploadFilesContinue(outputId);\n",
              "}\n",
              "\n",
              "// This is roughly an async generator (not supported in the browser yet),\n",
              "// where there are multiple asynchronous steps and the Python side is going\n",
              "// to poll for completion of each step.\n",
              "// This uses a Promise to block the python side on completion of each step,\n",
              "// then passes the result of the previous step as the input to the next step.\n",
              "function _uploadFilesContinue(outputId) {\n",
              "  const outputElement = document.getElementById(outputId);\n",
              "  const steps = outputElement.steps;\n",
              "\n",
              "  const next = steps.next(outputElement.lastPromiseValue);\n",
              "  return Promise.resolve(next.value.promise).then((value) => {\n",
              "    // Cache the last promise value to make it available to the next\n",
              "    // step of the generator.\n",
              "    outputElement.lastPromiseValue = value;\n",
              "    return next.value.response;\n",
              "  });\n",
              "}\n",
              "\n",
              "/**\n",
              " * Generator function which is called between each async step of the upload\n",
              " * process.\n",
              " * @param {string} inputId Element ID of the input file picker element.\n",
              " * @param {string} outputId Element ID of the output display.\n",
              " * @return {!Iterable<!Object>} Iterable of next steps.\n",
              " */\n",
              "function* uploadFilesStep(inputId, outputId) {\n",
              "  const inputElement = document.getElementById(inputId);\n",
              "  inputElement.disabled = false;\n",
              "\n",
              "  const outputElement = document.getElementById(outputId);\n",
              "  outputElement.innerHTML = '';\n",
              "\n",
              "  const pickedPromise = new Promise((resolve) => {\n",
              "    inputElement.addEventListener('change', (e) => {\n",
              "      resolve(e.target.files);\n",
              "    });\n",
              "  });\n",
              "\n",
              "  const cancel = document.createElement('button');\n",
              "  inputElement.parentElement.appendChild(cancel);\n",
              "  cancel.textContent = 'Cancel upload';\n",
              "  const cancelPromise = new Promise((resolve) => {\n",
              "    cancel.onclick = () => {\n",
              "      resolve(null);\n",
              "    };\n",
              "  });\n",
              "\n",
              "  // Wait for the user to pick the files.\n",
              "  const files = yield {\n",
              "    promise: Promise.race([pickedPromise, cancelPromise]),\n",
              "    response: {\n",
              "      action: 'starting',\n",
              "    }\n",
              "  };\n",
              "\n",
              "  cancel.remove();\n",
              "\n",
              "  // Disable the input element since further picks are not allowed.\n",
              "  inputElement.disabled = true;\n",
              "\n",
              "  if (!files) {\n",
              "    return {\n",
              "      response: {\n",
              "        action: 'complete',\n",
              "      }\n",
              "    };\n",
              "  }\n",
              "\n",
              "  for (const file of files) {\n",
              "    const li = document.createElement('li');\n",
              "    li.append(span(file.name, {fontWeight: 'bold'}));\n",
              "    li.append(span(\n",
              "        `(${file.type || 'n/a'}) - ${file.size} bytes, ` +\n",
              "        `last modified: ${\n",
              "            file.lastModifiedDate ? file.lastModifiedDate.toLocaleDateString() :\n",
              "                                    'n/a'} - `));\n",
              "    const percent = span('0% done');\n",
              "    li.appendChild(percent);\n",
              "\n",
              "    outputElement.appendChild(li);\n",
              "\n",
              "    const fileDataPromise = new Promise((resolve) => {\n",
              "      const reader = new FileReader();\n",
              "      reader.onload = (e) => {\n",
              "        resolve(e.target.result);\n",
              "      };\n",
              "      reader.readAsArrayBuffer(file);\n",
              "    });\n",
              "    // Wait for the data to be ready.\n",
              "    let fileData = yield {\n",
              "      promise: fileDataPromise,\n",
              "      response: {\n",
              "        action: 'continue',\n",
              "      }\n",
              "    };\n",
              "\n",
              "    // Use a chunked sending to avoid message size limits. See b/62115660.\n",
              "    let position = 0;\n",
              "    do {\n",
              "      const length = Math.min(fileData.byteLength - position, MAX_PAYLOAD_SIZE);\n",
              "      const chunk = new Uint8Array(fileData, position, length);\n",
              "      position += length;\n",
              "\n",
              "      const base64 = btoa(String.fromCharCode.apply(null, chunk));\n",
              "      yield {\n",
              "        response: {\n",
              "          action: 'append',\n",
              "          file: file.name,\n",
              "          data: base64,\n",
              "        },\n",
              "      };\n",
              "\n",
              "      let percentDone = fileData.byteLength === 0 ?\n",
              "          100 :\n",
              "          Math.round((position / fileData.byteLength) * 100);\n",
              "      percent.textContent = `${percentDone}% done`;\n",
              "\n",
              "    } while (position < fileData.byteLength);\n",
              "  }\n",
              "\n",
              "  // All done.\n",
              "  yield {\n",
              "    response: {\n",
              "      action: 'complete',\n",
              "    }\n",
              "  };\n",
              "}\n",
              "\n",
              "scope.google = scope.google || {};\n",
              "scope.google.colab = scope.google.colab || {};\n",
              "scope.google.colab._files = {\n",
              "  _uploadFiles,\n",
              "  _uploadFilesContinue,\n",
              "};\n",
              "})(self);\n",
              "</script> "
            ]
          },
          "metadata": {}
        },
        {
          "output_type": "stream",
          "name": "stdout",
          "text": [
            "Saving kaggle.json to kaggle.json\n"
          ]
        },
        {
          "output_type": "execute_result",
          "data": {
            "text/plain": [
              "{'kaggle.json': b'{\"username\":\"mythulam\",\"key\":\"419c70bd3309b02f245861c2ded56d0e\"}'}"
            ]
          },
          "metadata": {},
          "execution_count": 1
        }
      ],
      "source": [
        "# upload API's key JSON file to \n",
        "\n",
        "from google.colab import files\n",
        "files.upload()"
      ]
    },
    {
      "cell_type": "code",
      "execution_count": 2,
      "metadata": {
        "id": "gwXnxnLU_ygh"
      },
      "outputs": [],
      "source": [
        "!mkdir ~/.kaggle\n",
        "!cp kaggle.json ~/.kaggle/\n",
        "!chmod 600 ~/.kaggle/kaggle.json"
      ]
    },
    {
      "cell_type": "code",
      "execution_count": 3,
      "metadata": {
        "colab": {
          "base_uri": "https://localhost:8080/"
        },
        "id": "oj5fnSD0Ajnl",
        "outputId": "7e147ed8-c93c-42f3-defc-24678bc6551a"
      },
      "outputs": [
        {
          "output_type": "stream",
          "name": "stdout",
          "text": [
            "Downloading h-and-m-personalized-fashion-recommendations.zip to /content\n",
            "100% 28.7G/28.7G [05:01<00:00, 78.7MB/s]\n",
            "100% 28.7G/28.7G [05:01<00:00, 102MB/s] \n"
          ]
        }
      ],
      "source": [
        "!kaggle competitions download -c h-and-m-personalized-fashion-recommendations"
      ]
    },
    {
      "cell_type": "code",
      "execution_count": 4,
      "metadata": {
        "id": "uy29jdiDA0mT"
      },
      "outputs": [],
      "source": [
        "!unzip -qq h-and-m-personalized-fashion-recommendations.zip"
      ]
    },
    {
      "cell_type": "code",
      "execution_count": 5,
      "metadata": {
        "id": "M9flaVoy7HiW"
      },
      "outputs": [],
      "source": [
        "import shutil\n",
        "shutil.rmtree('images')"
      ]
    },
    {
      "cell_type": "markdown",
      "metadata": {
        "id": "VKv8h5iuJYnE"
      },
      "source": [
        "There are five (5) different sets of data:\n",
        "\n",
        "\n",
        "*   images/ - a folder of images corresponding to each article_id; images are placed in subfolders starting with the first three digits of the article_id; note, not all article_id values have a corresponding image.\n",
        "*   articles.csv - detailed metadata for each article_id available for purchase\n",
        "*   customers.csv - metadata for each customer_id in dataset\n",
        "*   sample_submission.csv - a sample submission file in the correct format\n",
        "*   transactions_train.csv - the training data, consisting of the purchases each customer for each date, as well as additional information. Duplicate rows correspond to multiple purchases of the same item. \n",
        "\n",
        "Your task is to predict the article_ids each customer will purchase during the 7-day period immediately after the training data period."
      ]
    },
    {
      "cell_type": "markdown",
      "metadata": {
        "id": "BOOSF8G5KV8G"
      },
      "source": [
        "## Import and Load Libraries"
      ]
    },
    {
      "cell_type": "code",
      "execution_count": 6,
      "metadata": {
        "id": "cq7TTKF4Ka-_"
      },
      "outputs": [],
      "source": [
        "import pandas as pd\n",
        "import numpy as np\n",
        "import matplotlib.pyplot as plt\n",
        "\n",
        "#import label encoder\n",
        "from sklearn import preprocessing\n",
        "\n",
        "# import one hot encoder\n",
        "from sklearn.preprocessing import OneHotEncoder"
      ]
    },
    {
      "cell_type": "markdown",
      "metadata": {
        "id": "nfBEJQwTJ--x"
      },
      "source": [
        "## articles.csv\n",
        "detailed metadata for each article_id available for purchase\n",
        "\n",
        "This dataset contains 25 features and 105,542 records."
      ]
    },
    {
      "cell_type": "code",
      "execution_count": 7,
      "metadata": {
        "colab": {
          "base_uri": "https://localhost:8080/",
          "height": 1000
        },
        "id": "E_mF5N57G4qU",
        "outputId": "dc9f3130-1658-4d8e-f26f-1b06b716ddd8"
      },
      "outputs": [
        {
          "output_type": "stream",
          "name": "stdout",
          "text": [
            "<class 'pandas.core.frame.DataFrame'>\n",
            "RangeIndex: 105542 entries, 0 to 105541\n",
            "Data columns (total 25 columns):\n",
            " #   Column                        Non-Null Count   Dtype \n",
            "---  ------                        --------------   ----- \n",
            " 0   article_id                    105542 non-null  int64 \n",
            " 1   product_code                  105542 non-null  int64 \n",
            " 2   prod_name                     105542 non-null  object\n",
            " 3   product_type_no               105542 non-null  int64 \n",
            " 4   product_type_name             105542 non-null  object\n",
            " 5   product_group_name            105542 non-null  object\n",
            " 6   graphical_appearance_no       105542 non-null  int64 \n",
            " 7   graphical_appearance_name     105542 non-null  object\n",
            " 8   colour_group_code             105542 non-null  int64 \n",
            " 9   colour_group_name             105542 non-null  object\n",
            " 10  perceived_colour_value_id     105542 non-null  int64 \n",
            " 11  perceived_colour_value_name   105542 non-null  object\n",
            " 12  perceived_colour_master_id    105542 non-null  int64 \n",
            " 13  perceived_colour_master_name  105542 non-null  object\n",
            " 14  department_no                 105542 non-null  int64 \n",
            " 15  department_name               105542 non-null  object\n",
            " 16  index_code                    105542 non-null  object\n",
            " 17  index_name                    105542 non-null  object\n",
            " 18  index_group_no                105542 non-null  int64 \n",
            " 19  index_group_name              105542 non-null  object\n",
            " 20  section_no                    105542 non-null  int64 \n",
            " 21  section_name                  105542 non-null  object\n",
            " 22  garment_group_no              105542 non-null  int64 \n",
            " 23  garment_group_name            105542 non-null  object\n",
            " 24  detail_desc                   105126 non-null  object\n",
            "dtypes: int64(11), object(14)\n",
            "memory usage: 20.1+ MB\n"
          ]
        },
        {
          "output_type": "execute_result",
          "data": {
            "text/plain": [
              "   article_id  product_code          prod_name  product_type_no  \\\n",
              "0   108775015        108775          Strap top              253   \n",
              "1   108775044        108775          Strap top              253   \n",
              "2   108775051        108775      Strap top (1)              253   \n",
              "3   110065001        110065  OP T-shirt (Idro)              306   \n",
              "4   110065002        110065  OP T-shirt (Idro)              306   \n",
              "\n",
              "  product_type_name  product_group_name  graphical_appearance_no  \\\n",
              "0          Vest top  Garment Upper body                  1010016   \n",
              "1          Vest top  Garment Upper body                  1010016   \n",
              "2          Vest top  Garment Upper body                  1010017   \n",
              "3               Bra           Underwear                  1010016   \n",
              "4               Bra           Underwear                  1010016   \n",
              "\n",
              "  graphical_appearance_name  colour_group_code colour_group_name  ...  \\\n",
              "0                     Solid                  9             Black  ...   \n",
              "1                     Solid                 10             White  ...   \n",
              "2                    Stripe                 11         Off White  ...   \n",
              "3                     Solid                  9             Black  ...   \n",
              "4                     Solid                 10             White  ...   \n",
              "\n",
              "   department_name index_code        index_name index_group_no  \\\n",
              "0     Jersey Basic          A        Ladieswear              1   \n",
              "1     Jersey Basic          A        Ladieswear              1   \n",
              "2     Jersey Basic          A        Ladieswear              1   \n",
              "3   Clean Lingerie          B  Lingeries/Tights              1   \n",
              "4   Clean Lingerie          B  Lingeries/Tights              1   \n",
              "\n",
              "   index_group_name section_no            section_name garment_group_no  \\\n",
              "0        Ladieswear         16  Womens Everyday Basics             1002   \n",
              "1        Ladieswear         16  Womens Everyday Basics             1002   \n",
              "2        Ladieswear         16  Womens Everyday Basics             1002   \n",
              "3        Ladieswear         61         Womens Lingerie             1017   \n",
              "4        Ladieswear         61         Womens Lingerie             1017   \n",
              "\n",
              "   garment_group_name                                        detail_desc  \n",
              "0        Jersey Basic            Jersey top with narrow shoulder straps.  \n",
              "1        Jersey Basic            Jersey top with narrow shoulder straps.  \n",
              "2        Jersey Basic            Jersey top with narrow shoulder straps.  \n",
              "3   Under-, Nightwear  Microfibre T-shirt bra with underwired, moulde...  \n",
              "4   Under-, Nightwear  Microfibre T-shirt bra with underwired, moulde...  \n",
              "\n",
              "[5 rows x 25 columns]"
            ],
            "text/html": [
              "\n",
              "  <div id=\"df-ec80a512-a853-4b0f-aab6-3c036d2aa3a0\">\n",
              "    <div class=\"colab-df-container\">\n",
              "      <div>\n",
              "<style scoped>\n",
              "    .dataframe tbody tr th:only-of-type {\n",
              "        vertical-align: middle;\n",
              "    }\n",
              "\n",
              "    .dataframe tbody tr th {\n",
              "        vertical-align: top;\n",
              "    }\n",
              "\n",
              "    .dataframe thead th {\n",
              "        text-align: right;\n",
              "    }\n",
              "</style>\n",
              "<table border=\"1\" class=\"dataframe\">\n",
              "  <thead>\n",
              "    <tr style=\"text-align: right;\">\n",
              "      <th></th>\n",
              "      <th>article_id</th>\n",
              "      <th>product_code</th>\n",
              "      <th>prod_name</th>\n",
              "      <th>product_type_no</th>\n",
              "      <th>product_type_name</th>\n",
              "      <th>product_group_name</th>\n",
              "      <th>graphical_appearance_no</th>\n",
              "      <th>graphical_appearance_name</th>\n",
              "      <th>colour_group_code</th>\n",
              "      <th>colour_group_name</th>\n",
              "      <th>...</th>\n",
              "      <th>department_name</th>\n",
              "      <th>index_code</th>\n",
              "      <th>index_name</th>\n",
              "      <th>index_group_no</th>\n",
              "      <th>index_group_name</th>\n",
              "      <th>section_no</th>\n",
              "      <th>section_name</th>\n",
              "      <th>garment_group_no</th>\n",
              "      <th>garment_group_name</th>\n",
              "      <th>detail_desc</th>\n",
              "    </tr>\n",
              "  </thead>\n",
              "  <tbody>\n",
              "    <tr>\n",
              "      <th>0</th>\n",
              "      <td>108775015</td>\n",
              "      <td>108775</td>\n",
              "      <td>Strap top</td>\n",
              "      <td>253</td>\n",
              "      <td>Vest top</td>\n",
              "      <td>Garment Upper body</td>\n",
              "      <td>1010016</td>\n",
              "      <td>Solid</td>\n",
              "      <td>9</td>\n",
              "      <td>Black</td>\n",
              "      <td>...</td>\n",
              "      <td>Jersey Basic</td>\n",
              "      <td>A</td>\n",
              "      <td>Ladieswear</td>\n",
              "      <td>1</td>\n",
              "      <td>Ladieswear</td>\n",
              "      <td>16</td>\n",
              "      <td>Womens Everyday Basics</td>\n",
              "      <td>1002</td>\n",
              "      <td>Jersey Basic</td>\n",
              "      <td>Jersey top with narrow shoulder straps.</td>\n",
              "    </tr>\n",
              "    <tr>\n",
              "      <th>1</th>\n",
              "      <td>108775044</td>\n",
              "      <td>108775</td>\n",
              "      <td>Strap top</td>\n",
              "      <td>253</td>\n",
              "      <td>Vest top</td>\n",
              "      <td>Garment Upper body</td>\n",
              "      <td>1010016</td>\n",
              "      <td>Solid</td>\n",
              "      <td>10</td>\n",
              "      <td>White</td>\n",
              "      <td>...</td>\n",
              "      <td>Jersey Basic</td>\n",
              "      <td>A</td>\n",
              "      <td>Ladieswear</td>\n",
              "      <td>1</td>\n",
              "      <td>Ladieswear</td>\n",
              "      <td>16</td>\n",
              "      <td>Womens Everyday Basics</td>\n",
              "      <td>1002</td>\n",
              "      <td>Jersey Basic</td>\n",
              "      <td>Jersey top with narrow shoulder straps.</td>\n",
              "    </tr>\n",
              "    <tr>\n",
              "      <th>2</th>\n",
              "      <td>108775051</td>\n",
              "      <td>108775</td>\n",
              "      <td>Strap top (1)</td>\n",
              "      <td>253</td>\n",
              "      <td>Vest top</td>\n",
              "      <td>Garment Upper body</td>\n",
              "      <td>1010017</td>\n",
              "      <td>Stripe</td>\n",
              "      <td>11</td>\n",
              "      <td>Off White</td>\n",
              "      <td>...</td>\n",
              "      <td>Jersey Basic</td>\n",
              "      <td>A</td>\n",
              "      <td>Ladieswear</td>\n",
              "      <td>1</td>\n",
              "      <td>Ladieswear</td>\n",
              "      <td>16</td>\n",
              "      <td>Womens Everyday Basics</td>\n",
              "      <td>1002</td>\n",
              "      <td>Jersey Basic</td>\n",
              "      <td>Jersey top with narrow shoulder straps.</td>\n",
              "    </tr>\n",
              "    <tr>\n",
              "      <th>3</th>\n",
              "      <td>110065001</td>\n",
              "      <td>110065</td>\n",
              "      <td>OP T-shirt (Idro)</td>\n",
              "      <td>306</td>\n",
              "      <td>Bra</td>\n",
              "      <td>Underwear</td>\n",
              "      <td>1010016</td>\n",
              "      <td>Solid</td>\n",
              "      <td>9</td>\n",
              "      <td>Black</td>\n",
              "      <td>...</td>\n",
              "      <td>Clean Lingerie</td>\n",
              "      <td>B</td>\n",
              "      <td>Lingeries/Tights</td>\n",
              "      <td>1</td>\n",
              "      <td>Ladieswear</td>\n",
              "      <td>61</td>\n",
              "      <td>Womens Lingerie</td>\n",
              "      <td>1017</td>\n",
              "      <td>Under-, Nightwear</td>\n",
              "      <td>Microfibre T-shirt bra with underwired, moulde...</td>\n",
              "    </tr>\n",
              "    <tr>\n",
              "      <th>4</th>\n",
              "      <td>110065002</td>\n",
              "      <td>110065</td>\n",
              "      <td>OP T-shirt (Idro)</td>\n",
              "      <td>306</td>\n",
              "      <td>Bra</td>\n",
              "      <td>Underwear</td>\n",
              "      <td>1010016</td>\n",
              "      <td>Solid</td>\n",
              "      <td>10</td>\n",
              "      <td>White</td>\n",
              "      <td>...</td>\n",
              "      <td>Clean Lingerie</td>\n",
              "      <td>B</td>\n",
              "      <td>Lingeries/Tights</td>\n",
              "      <td>1</td>\n",
              "      <td>Ladieswear</td>\n",
              "      <td>61</td>\n",
              "      <td>Womens Lingerie</td>\n",
              "      <td>1017</td>\n",
              "      <td>Under-, Nightwear</td>\n",
              "      <td>Microfibre T-shirt bra with underwired, moulde...</td>\n",
              "    </tr>\n",
              "  </tbody>\n",
              "</table>\n",
              "<p>5 rows × 25 columns</p>\n",
              "</div>\n",
              "      <button class=\"colab-df-convert\" onclick=\"convertToInteractive('df-ec80a512-a853-4b0f-aab6-3c036d2aa3a0')\"\n",
              "              title=\"Convert this dataframe to an interactive table.\"\n",
              "              style=\"display:none;\">\n",
              "        \n",
              "  <svg xmlns=\"http://www.w3.org/2000/svg\" height=\"24px\"viewBox=\"0 0 24 24\"\n",
              "       width=\"24px\">\n",
              "    <path d=\"M0 0h24v24H0V0z\" fill=\"none\"/>\n",
              "    <path d=\"M18.56 5.44l.94 2.06.94-2.06 2.06-.94-2.06-.94-.94-2.06-.94 2.06-2.06.94zm-11 1L8.5 8.5l.94-2.06 2.06-.94-2.06-.94L8.5 2.5l-.94 2.06-2.06.94zm10 10l.94 2.06.94-2.06 2.06-.94-2.06-.94-.94-2.06-.94 2.06-2.06.94z\"/><path d=\"M17.41 7.96l-1.37-1.37c-.4-.4-.92-.59-1.43-.59-.52 0-1.04.2-1.43.59L10.3 9.45l-7.72 7.72c-.78.78-.78 2.05 0 2.83L4 21.41c.39.39.9.59 1.41.59.51 0 1.02-.2 1.41-.59l7.78-7.78 2.81-2.81c.8-.78.8-2.07 0-2.86zM5.41 20L4 18.59l7.72-7.72 1.47 1.35L5.41 20z\"/>\n",
              "  </svg>\n",
              "      </button>\n",
              "      \n",
              "  <style>\n",
              "    .colab-df-container {\n",
              "      display:flex;\n",
              "      flex-wrap:wrap;\n",
              "      gap: 12px;\n",
              "    }\n",
              "\n",
              "    .colab-df-convert {\n",
              "      background-color: #E8F0FE;\n",
              "      border: none;\n",
              "      border-radius: 50%;\n",
              "      cursor: pointer;\n",
              "      display: none;\n",
              "      fill: #1967D2;\n",
              "      height: 32px;\n",
              "      padding: 0 0 0 0;\n",
              "      width: 32px;\n",
              "    }\n",
              "\n",
              "    .colab-df-convert:hover {\n",
              "      background-color: #E2EBFA;\n",
              "      box-shadow: 0px 1px 2px rgba(60, 64, 67, 0.3), 0px 1px 3px 1px rgba(60, 64, 67, 0.15);\n",
              "      fill: #174EA6;\n",
              "    }\n",
              "\n",
              "    [theme=dark] .colab-df-convert {\n",
              "      background-color: #3B4455;\n",
              "      fill: #D2E3FC;\n",
              "    }\n",
              "\n",
              "    [theme=dark] .colab-df-convert:hover {\n",
              "      background-color: #434B5C;\n",
              "      box-shadow: 0px 1px 3px 1px rgba(0, 0, 0, 0.15);\n",
              "      filter: drop-shadow(0px 1px 2px rgba(0, 0, 0, 0.3));\n",
              "      fill: #FFFFFF;\n",
              "    }\n",
              "  </style>\n",
              "\n",
              "      <script>\n",
              "        const buttonEl =\n",
              "          document.querySelector('#df-ec80a512-a853-4b0f-aab6-3c036d2aa3a0 button.colab-df-convert');\n",
              "        buttonEl.style.display =\n",
              "          google.colab.kernel.accessAllowed ? 'block' : 'none';\n",
              "\n",
              "        async function convertToInteractive(key) {\n",
              "          const element = document.querySelector('#df-ec80a512-a853-4b0f-aab6-3c036d2aa3a0');\n",
              "          const dataTable =\n",
              "            await google.colab.kernel.invokeFunction('convertToInteractive',\n",
              "                                                     [key], {});\n",
              "          if (!dataTable) return;\n",
              "\n",
              "          const docLinkHtml = 'Like what you see? Visit the ' +\n",
              "            '<a target=\"_blank\" href=https://colab.research.google.com/notebooks/data_table.ipynb>data table notebook</a>'\n",
              "            + ' to learn more about interactive tables.';\n",
              "          element.innerHTML = '';\n",
              "          dataTable['output_type'] = 'display_data';\n",
              "          await google.colab.output.renderOutput(dataTable, element);\n",
              "          const docLink = document.createElement('div');\n",
              "          docLink.innerHTML = docLinkHtml;\n",
              "          element.appendChild(docLink);\n",
              "        }\n",
              "      </script>\n",
              "    </div>\n",
              "  </div>\n",
              "  "
            ]
          },
          "metadata": {},
          "execution_count": 7
        }
      ],
      "source": [
        "# Load the data\n",
        "\n",
        "df_articles = pd.read_csv('articles.csv')\n",
        "\n",
        "#View basic info about data and data itself\n",
        "df_articles.info()\n",
        "df_articles.describe()\n",
        "df_articles.head()"
      ]
    },
    {
      "cell_type": "markdown",
      "metadata": {
        "id": "AmnaW-DiMvJy"
      },
      "source": [
        "First, we need to check if there are duplicate rows and null/NaN values in the dataset."
      ]
    },
    {
      "cell_type": "code",
      "execution_count": 8,
      "metadata": {
        "colab": {
          "base_uri": "https://localhost:8080/"
        },
        "id": "4CGCY7K7KoTF",
        "outputId": "ad4b73ae-75a4-48f8-f53b-80b5118f80cc"
      },
      "outputs": [
        {
          "output_type": "execute_result",
          "data": {
            "text/plain": [
              "0"
            ]
          },
          "metadata": {},
          "execution_count": 8
        }
      ],
      "source": [
        "# find duplicate rows\n",
        "df_articles.duplicated().sum()"
      ]
    },
    {
      "cell_type": "markdown",
      "metadata": {
        "id": "ShVUsOJeLRuB"
      },
      "source": [
        "This means that all rows are unique."
      ]
    },
    {
      "cell_type": "code",
      "execution_count": 9,
      "metadata": {
        "colab": {
          "base_uri": "https://localhost:8080/"
        },
        "id": "fEj3El2JLQDD",
        "outputId": "02974efb-f1c2-4313-82b2-e25d7aeab465"
      },
      "outputs": [
        {
          "output_type": "execute_result",
          "data": {
            "text/plain": [
              "article_id                        0\n",
              "product_code                      0\n",
              "prod_name                         0\n",
              "product_type_no                   0\n",
              "product_type_name                 0\n",
              "product_group_name                0\n",
              "graphical_appearance_no           0\n",
              "graphical_appearance_name         0\n",
              "colour_group_code                 0\n",
              "colour_group_name                 0\n",
              "perceived_colour_value_id         0\n",
              "perceived_colour_value_name       0\n",
              "perceived_colour_master_id        0\n",
              "perceived_colour_master_name      0\n",
              "department_no                     0\n",
              "department_name                   0\n",
              "index_code                        0\n",
              "index_name                        0\n",
              "index_group_no                    0\n",
              "index_group_name                  0\n",
              "section_no                        0\n",
              "section_name                      0\n",
              "garment_group_no                  0\n",
              "garment_group_name                0\n",
              "detail_desc                     416\n",
              "dtype: int64"
            ]
          },
          "metadata": {},
          "execution_count": 9
        }
      ],
      "source": [
        "# Find null values\n",
        "df_articles.isnull().sum()"
      ]
    },
    {
      "cell_type": "markdown",
      "metadata": {
        "id": "RRxc8RVrLnKf"
      },
      "source": [
        "All features, except for detail_desc, do not have null values. detail_desc has 416 null values. We should determine if this feature is important and needs to be rectified or can be dropped."
      ]
    },
    {
      "cell_type": "markdown",
      "metadata": {
        "id": "NH5HNMFKM90_"
      },
      "source": [
        "For now, let's try to understand what each variable is."
      ]
    },
    {
      "cell_type": "code",
      "execution_count": 10,
      "metadata": {
        "colab": {
          "base_uri": "https://localhost:8080/"
        },
        "id": "G9LsCyjCXXUD",
        "outputId": "73bda9fa-d244-4cc5-86b5-cc8d2bb7139f"
      },
      "outputs": [
        {
          "output_type": "stream",
          "name": "stdout",
          "text": [
            "Number of Unique Values in Each Feature\n",
            "article_id 105542\n",
            "product_code 47224\n",
            "prod_name 45875\n",
            "product_type_no 132\n",
            "product_type_name 131\n",
            "product_group_name 19\n",
            "graphical_appearance_no 30\n",
            "graphical_appearance_name 30\n",
            "colour_group_code 50\n",
            "colour_group_name 50\n",
            "perceived_colour_value_id 8\n",
            "perceived_colour_value_name 8\n",
            "perceived_colour_master_id 20\n",
            "perceived_colour_master_name 20\n",
            "department_no 299\n",
            "department_name 250\n",
            "index_code 10\n",
            "index_name 10\n",
            "index_group_no 5\n",
            "index_group_name 5\n",
            "section_no 57\n",
            "section_name 56\n",
            "garment_group_no 21\n",
            "garment_group_name 21\n",
            "detail_desc 43405\n"
          ]
        }
      ],
      "source": [
        "# number of unique values in each feature\n",
        "print('Number of Unique Values in Each Feature')\n",
        "articles_columns = df_articles.columns\n",
        "for col in df_articles.columns:\n",
        "  print(col,len(df_articles[col].unique()))"
      ]
    },
    {
      "cell_type": "markdown",
      "metadata": {
        "id": "LcsWWyl5ZMVj"
      },
      "source": [
        "**QUESTION:**\n",
        "\n",
        "Why is there a mismatch in product code + product name, product type no + product type name, department number + department name, and section no + section name?"
      ]
    },
    {
      "cell_type": "markdown",
      "metadata": {
        "id": "pxyLWdD4zPNb"
      },
      "source": [
        "###Index Group"
      ]
    },
    {
      "cell_type": "code",
      "execution_count": 11,
      "metadata": {
        "colab": {
          "base_uri": "https://localhost:8080/"
        },
        "id": "NY-We8gO56AA",
        "outputId": "02d963fa-9b64-4453-f967-641ae68cfd67"
      },
      "outputs": [
        {
          "output_type": "execute_result",
          "data": {
            "text/plain": [
              "index_group_no  index_group_name\n",
              "1               Ladieswear          39737\n",
              "2               Divided             15149\n",
              "3               Menswear            12553\n",
              "4               Baby/Children       34711\n",
              "26              Sport                3392\n",
              "Name: article_id, dtype: int64"
            ]
          },
          "metadata": {},
          "execution_count": 11
        }
      ],
      "source": [
        "df_articles.groupby(['index_group_no', 'index_group_name']).count()['article_id']"
      ]
    },
    {
      "cell_type": "markdown",
      "metadata": {
        "id": "b3jBWOHFzVEK"
      },
      "source": [
        "### Index Code"
      ]
    },
    {
      "cell_type": "code",
      "execution_count": 12,
      "metadata": {
        "colab": {
          "base_uri": "https://localhost:8080/"
        },
        "id": "GUIk0pyzzbxw",
        "outputId": "1e31a41b-fe4a-408c-e4a2-29903add0002"
      },
      "outputs": [
        {
          "output_type": "execute_result",
          "data": {
            "text/plain": [
              "index_code  index_name                    \n",
              "A           Ladieswear                        26001\n",
              "B           Lingeries/Tights                   6775\n",
              "C           Ladies Accessories                 6961\n",
              "D           Divided                           15149\n",
              "F           Menswear                          12553\n",
              "G           Baby Sizes 50-98                   8875\n",
              "H           Children Sizes 92-140             12007\n",
              "I           Children Sizes 134-170             9214\n",
              "J           Children Accessories, Swimwear     4615\n",
              "S           Sport                              3392\n",
              "Name: article_id, dtype: int64"
            ]
          },
          "metadata": {},
          "execution_count": 12
        }
      ],
      "source": [
        "df_articles.groupby(['index_code', 'index_name']).count()['article_id']"
      ]
    },
    {
      "cell_type": "code",
      "execution_count": 13,
      "metadata": {
        "colab": {
          "base_uri": "https://localhost:8080/"
        },
        "id": "gxKKp46-5erT",
        "outputId": "a7c649c2-c916-46ae-ea82-dfb337a462a5"
      },
      "outputs": [
        {
          "output_type": "execute_result",
          "data": {
            "text/plain": [
              "index_group_name  index_name                    \n",
              "Baby/Children     Baby Sizes 50-98                   8875\n",
              "                  Children Accessories, Swimwear     4615\n",
              "                  Children Sizes 134-170             9214\n",
              "                  Children Sizes 92-140             12007\n",
              "Divided           Divided                           15149\n",
              "Ladieswear        Ladies Accessories                 6961\n",
              "                  Ladieswear                        26001\n",
              "                  Lingeries/Tights                   6775\n",
              "Menswear          Menswear                          12553\n",
              "Sport             Sport                              3392\n",
              "Name: article_id, dtype: int64"
            ]
          },
          "metadata": {},
          "execution_count": 13
        }
      ],
      "source": [
        "pd.options.display.max_rows = None\n",
        "df_articles.groupby(['index_group_name', 'index_name']).count()['article_id']"
      ]
    },
    {
      "cell_type": "markdown",
      "metadata": {
        "id": "oBCXZBBS1IRg"
      },
      "source": [
        "### Garment Group"
      ]
    },
    {
      "cell_type": "code",
      "execution_count": 14,
      "metadata": {
        "colab": {
          "base_uri": "https://localhost:8080/"
        },
        "id": "utuOs5NF1HLA",
        "outputId": "77176987-ec3e-443c-f480-7d9e747c3980"
      },
      "outputs": [
        {
          "output_type": "execute_result",
          "data": {
            "text/plain": [
              "garment_group_no  garment_group_name           \n",
              "1001              Unknown                           3873\n",
              "1002              Jersey Basic                      8126\n",
              "1003              Knitwear                          7490\n",
              "1005              Jersey Fancy                     21445\n",
              "1006              Woven/Jersey/Knitted mix Baby     1965\n",
              "1007              Outdoor                           4501\n",
              "1008              Dressed                            908\n",
              "1009              Trousers                          6727\n",
              "1010              Blouses                           5838\n",
              "1011              Shirts                            2116\n",
              "1012              Skirts                            1254\n",
              "1013              Dresses Ladies                    4874\n",
              "1014              Dresses/Skirts girls              1541\n",
              "1016              Trousers Denim                    3100\n",
              "1017              Under-, Nightwear                 7441\n",
              "1018              Swimwear                          2787\n",
              "1019              Accessories                      11519\n",
              "1020              Shoes                             5145\n",
              "1021              Socks and Tights                  2272\n",
              "1023              Special Offers                    1061\n",
              "1025              Shorts                            1559\n",
              "Name: article_id, dtype: int64"
            ]
          },
          "metadata": {},
          "execution_count": 14
        }
      ],
      "source": [
        "df_articles.groupby(['garment_group_no', 'garment_group_name']).count()['article_id']"
      ]
    },
    {
      "cell_type": "code",
      "execution_count": 15,
      "metadata": {
        "colab": {
          "base_uri": "https://localhost:8080/"
        },
        "id": "6LlfVwwz6huY",
        "outputId": "2c0592b8-214c-4eda-e146-ae26d641dc09"
      },
      "outputs": [
        {
          "output_type": "execute_result",
          "data": {
            "text/plain": [
              "index_group_name  index_name                      garment_group_name           \n",
              "Baby/Children     Baby Sizes 50-98                Accessories                      1054\n",
              "                                                  Jersey Basic                     1147\n",
              "                                                  Jersey Fancy                     2584\n",
              "                                                  Knitwear                          397\n",
              "                                                  Outdoor                           328\n",
              "                                                  Shoes                             457\n",
              "                                                  Socks and Tights                  465\n",
              "                                                  Special Offers                     58\n",
              "                                                  Under-, Nightwear                 420\n",
              "                                                  Woven/Jersey/Knitted mix Baby    1965\n",
              "                  Children Accessories, Swimwear  Accessories                      2239\n",
              "                                                  Shoes                            1740\n",
              "                                                  Swimwear                          636\n",
              "                  Children Sizes 134-170          Dresses/Skirts girls              662\n",
              "                                                  Jersey Basic                     1275\n",
              "                                                  Jersey Fancy                     2995\n",
              "                                                  Knitwear                          675\n",
              "                                                  Outdoor                           636\n",
              "                                                  Shirts                            290\n",
              "                                                  Shorts                            166\n",
              "                                                  Socks and Tights                  263\n",
              "                                                  Trousers                          679\n",
              "                                                  Trousers Denim                    784\n",
              "                                                  Under-, Nightwear                 789\n",
              "                  Children Sizes 92-140           Dresses/Skirts girls              879\n",
              "                                                  Jersey Basic                     1771\n",
              "                                                  Jersey Fancy                     3524\n",
              "                                                  Knitwear                          966\n",
              "                                                  Outdoor                           830\n",
              "                                                  Shirts                            392\n",
              "                                                  Shorts                            225\n",
              "                                                  Socks and Tights                  528\n",
              "                                                  Special Offers                    246\n",
              "                                                  Trousers                          877\n",
              "                                                  Trousers Denim                    812\n",
              "                                                  Under-, Nightwear                 898\n",
              "                                                  Unknown                            59\n",
              "Divided           Divided                         Accessories                      1458\n",
              "                                                  Blouses                          1346\n",
              "                                                  Dresses Ladies                   2267\n",
              "                                                  Jersey Basic                     1381\n",
              "                                                  Jersey Fancy                     2128\n",
              "                                                  Knitwear                         1296\n",
              "                                                  Outdoor                           770\n",
              "                                                  Shoes                             277\n",
              "                                                  Shorts                            275\n",
              "                                                  Skirts                            528\n",
              "                                                  Special Offers                    148\n",
              "                                                  Swimwear                           76\n",
              "                                                  Trousers                         1279\n",
              "                                                  Trousers Denim                    879\n",
              "                                                  Under-, Nightwear                 293\n",
              "                                                  Unknown                           748\n",
              "Ladieswear        Ladies Accessories              Accessories                      4935\n",
              "                                                  Shoes                            2026\n",
              "                  Ladieswear                      Accessories                        64\n",
              "                                                  Blouses                          4492\n",
              "                                                  Dressed                           624\n",
              "                                                  Dresses Ladies                   2607\n",
              "                                                  Jersey Basic                     1359\n",
              "                                                  Jersey Fancy                     6163\n",
              "                                                  Knitwear                         2917\n",
              "                                                  Outdoor                          1025\n",
              "                                                  Shorts                            429\n",
              "                                                  Skirts                            726\n",
              "                                                  Special Offers                    584\n",
              "                                                  Trousers                         2767\n",
              "                                                  Trousers Denim                    227\n",
              "                                                  Under-, Nightwear                 228\n",
              "                                                  Unknown                          1789\n",
              "                  Lingeries/Tights                Socks and Tights                  651\n",
              "                                                  Swimwear                         1839\n",
              "                                                  Under-, Nightwear                4285\n",
              "Menswear          Menswear                        Accessories                      1388\n",
              "                                                  Dressed                           284\n",
              "                                                  Jersey Basic                     1193\n",
              "                                                  Jersey Fancy                     2077\n",
              "                                                  Knitwear                         1239\n",
              "                                                  Outdoor                           664\n",
              "                                                  Shirts                           1434\n",
              "                                                  Shoes                             645\n",
              "                                                  Shorts                            464\n",
              "                                                  Socks and Tights                  365\n",
              "                                                  Special Offers                     25\n",
              "                                                  Swimwear                          236\n",
              "                                                  Trousers                         1124\n",
              "                                                  Trousers Denim                    398\n",
              "                                                  Under-, Nightwear                 528\n",
              "                                                  Unknown                           489\n",
              "Sport             Sport                           Accessories                       381\n",
              "                                                  Jersey Fancy                     1974\n",
              "                                                  Outdoor                           248\n",
              "                                                  Trousers                            1\n",
              "                                                  Unknown                           788\n",
              "Name: article_id, dtype: int64"
            ]
          },
          "metadata": {},
          "execution_count": 15
        }
      ],
      "source": [
        "df_articles.groupby(['index_group_name', 'index_name', 'garment_group_name']).count()['article_id']"
      ]
    },
    {
      "cell_type": "markdown",
      "metadata": {
        "id": "zBHiEFkh2B7g"
      },
      "source": [
        "### Section"
      ]
    },
    {
      "cell_type": "code",
      "execution_count": 16,
      "metadata": {
        "colab": {
          "base_uri": "https://localhost:8080/"
        },
        "id": "7RwCCNYD2DkT",
        "outputId": "f7016b5a-b037-4849-e631-e370f7954af7"
      },
      "outputs": [
        {
          "output_type": "execute_result",
          "data": {
            "text/plain": [
              "section_no  section_name                  \n",
              "2           H&M+                              2337\n",
              "4           Ladies Other                         3\n",
              "5           Ladies H&M Sport                  1894\n",
              "6           Womens Casual                     2725\n",
              "8           Mama                              2266\n",
              "11          Womens Tailoring                  3376\n",
              "14          Womens Premium                    1270\n",
              "15          Womens Everyday Collection        7295\n",
              "16          Womens Everyday Basics            1581\n",
              "17          Ladies Other                         1\n",
              "18          Womens Trend                      2622\n",
              "19          Womens Jackets                     829\n",
              "20          Contemporary Smart                1778\n",
              "21          Contemporary Casual               1560\n",
              "22          Men H&M Sport                      872\n",
              "23          Men Suits & Tailoring             1428\n",
              "24          Men Project                        298\n",
              "25          Men Accessories                   1337\n",
              "26          Men Underwear                     2322\n",
              "27          Men Shoes                          645\n",
              "28          Men Edition                        330\n",
              "29          Men Other                           25\n",
              "30          Men Other 2                        190\n",
              "31          Mens Outerwear                     629\n",
              "40          Baby Girl                         1760\n",
              "41          Baby Boy                          1717\n",
              "42          Kids & Baby Shoes                 2142\n",
              "43          Kids Accessories, Swimwear & D    1731\n",
              "44          Baby Essentials & Complements     4932\n",
              "45          Kids Outerwear                    2665\n",
              "46          Kids Boy                          3328\n",
              "47          Young Boy                         2352\n",
              "48          Kids Local Relevance               192\n",
              "49          Kids Sports                        626\n",
              "50          Divided Projects                  2364\n",
              "51          Divided Basics                    1723\n",
              "52          Divided Accessories               1732\n",
              "53          Divided Collection                7124\n",
              "55          Contemporary Street               1490\n",
              "56          Denim Men                          521\n",
              "57          Ladies Denim                      1101\n",
              "58          Divided Selected                   991\n",
              "60          Womens Swimwear, beachwear        1839\n",
              "61          Womens Lingerie                   3598\n",
              "62          Womens Nightwear, Socks & Tigh    1566\n",
              "64          Womens Shoes                      2026\n",
              "65          Womens Big accessories            1665\n",
              "66          Womens Small accessories          3270\n",
              "70          Divided Asia keys                  280\n",
              "71          EQ Divided                          26\n",
              "72          Boys Underwear & Basics           2034\n",
              "76          Kids Girl                         4469\n",
              "77          Young Girl                        3899\n",
              "79          Girls Underwear & Basics          3490\n",
              "80          Divided Complements Other           35\n",
              "82          Special Collections                682\n",
              "97          Collaborations                     559\n",
              "Name: article_id, dtype: int64"
            ]
          },
          "metadata": {},
          "execution_count": 16
        }
      ],
      "source": [
        "df_articles.groupby(['section_no', 'section_name']).count()['article_id']"
      ]
    },
    {
      "cell_type": "code",
      "execution_count": 17,
      "metadata": {
        "colab": {
          "base_uri": "https://localhost:8080/"
        },
        "id": "-WkFxkQj6y6Q",
        "outputId": "ea362290-e8a2-498e-8c98-022c8016c3aa"
      },
      "outputs": [
        {
          "output_type": "execute_result",
          "data": {
            "text/plain": [
              "index_group_name  index_name                      section_name                  \n",
              "Baby/Children     Baby Sizes 50-98                Baby Boy                          1717\n",
              "                                                  Baby Essentials & Complements     4932\n",
              "                                                  Baby Girl                         1760\n",
              "                                                  Kids & Baby Shoes                  457\n",
              "                                                  Kids Local Relevance                 9\n",
              "                  Children Accessories, Swimwear  Kids & Baby Shoes                 1685\n",
              "                                                  Kids Accessories, Swimwear & D    1731\n",
              "                                                  Kids Outerwear                    1199\n",
              "                  Children Sizes 134-170          Boys Underwear & Basics            842\n",
              "                                                  Girls Underwear & Basics          1485\n",
              "                                                  Kids Outerwear                     636\n",
              "                                                  Young Boy                         2352\n",
              "                                                  Young Girl                        3899\n",
              "                  Children Sizes 92-140           Boys Underwear & Basics           1192\n",
              "                                                  Girls Underwear & Basics          2005\n",
              "                                                  Kids Boy                          3328\n",
              "                                                  Kids Girl                         4469\n",
              "                                                  Kids Local Relevance               183\n",
              "                                                  Kids Outerwear                     830\n",
              "Divided           Divided                         Divided Accessories               1732\n",
              "                                                  Divided Asia keys                  280\n",
              "                                                  Divided Basics                    1723\n",
              "                                                  Divided Collection                7124\n",
              "                                                  Divided Complements Other           35\n",
              "                                                  Divided Projects                  2364\n",
              "                                                  Divided Selected                   991\n",
              "                                                  EQ Divided                          26\n",
              "                                                  Ladies Denim                       874\n",
              "Ladieswear        Ladies Accessories              Womens Big accessories            1665\n",
              "                                                  Womens Shoes                      2026\n",
              "                                                  Womens Small accessories          3270\n",
              "                  Ladieswear                      Collaborations                     559\n",
              "                                                  H&M+                              2337\n",
              "                                                  Ladies Denim                       227\n",
              "                                                  Ladies Other                         4\n",
              "                                                  Mama                              2266\n",
              "                                                  Special Collections                682\n",
              "                                                  Womens Casual                     2725\n",
              "                                                  Womens Everyday Basics            1581\n",
              "                                                  Womens Everyday Collection        7295\n",
              "                                                  Womens Jackets                     829\n",
              "                                                  Womens Nightwear, Socks & Tigh     228\n",
              "                                                  Womens Premium                    1270\n",
              "                                                  Womens Tailoring                  3376\n",
              "                                                  Womens Trend                      2622\n",
              "                  Lingeries/Tights                Womens Lingerie                   3598\n",
              "                                                  Womens Nightwear, Socks & Tigh    1338\n",
              "                                                  Womens Swimwear, beachwear        1839\n",
              "Menswear          Menswear                        Contemporary Casual               1560\n",
              "                                                  Contemporary Smart                1778\n",
              "                                                  Contemporary Street               1490\n",
              "                                                  Denim Men                          521\n",
              "                                                  Men Accessories                   1337\n",
              "                                                  Men Edition                        330\n",
              "                                                  Men Other                           25\n",
              "                                                  Men Other 2                        190\n",
              "                                                  Men Project                        298\n",
              "                                                  Men Shoes                          645\n",
              "                                                  Men Suits & Tailoring             1428\n",
              "                                                  Men Underwear                     2322\n",
              "                                                  Mens Outerwear                     629\n",
              "Sport             Sport                           Kids Sports                        626\n",
              "                                                  Ladies H&M Sport                  1894\n",
              "                                                  Men H&M Sport                      872\n",
              "Name: article_id, dtype: int64"
            ]
          },
          "metadata": {},
          "execution_count": 17
        }
      ],
      "source": [
        "df_articles.groupby(['index_group_name', 'index_name','section_name']).count()['article_id']"
      ]
    },
    {
      "cell_type": "markdown",
      "metadata": {
        "id": "Ew8tSQce347t"
      },
      "source": [
        "### Product Group Name"
      ]
    },
    {
      "cell_type": "code",
      "execution_count": 18,
      "metadata": {
        "colab": {
          "base_uri": "https://localhost:8080/"
        },
        "id": "fMH-387L367l",
        "outputId": "8f1e7a8d-7f92-420b-ca46-4e39a61f03d2"
      },
      "outputs": [
        {
          "output_type": "execute_result",
          "data": {
            "text/plain": [
              "array(['Garment Upper body', 'Underwear', 'Socks & Tights',\n",
              "       'Garment Lower body', 'Accessories', 'Items', 'Nightwear',\n",
              "       'Unknown', 'Underwear/nightwear', 'Shoes', 'Swimwear',\n",
              "       'Garment Full body', 'Cosmetic', 'Interior textile', 'Bags',\n",
              "       'Furniture', 'Garment and Shoe care', 'Fun', 'Stationery'],\n",
              "      dtype=object)"
            ]
          },
          "metadata": {},
          "execution_count": 18
        }
      ],
      "source": [
        "df_articles['product_group_name'].unique()"
      ]
    },
    {
      "cell_type": "markdown",
      "metadata": {
        "id": "GfzNvw2n7bFw"
      },
      "source": [
        "### Department Name"
      ]
    },
    {
      "cell_type": "code",
      "execution_count": 19,
      "metadata": {
        "colab": {
          "base_uri": "https://localhost:8080/"
        },
        "id": "bz_qAbvw7dPT",
        "outputId": "0dcca471-733f-448b-f011-db98a7be46ec"
      },
      "outputs": [
        {
          "output_type": "execute_result",
          "data": {
            "text/plain": [
              "array(['Jersey Basic', 'Clean Lingerie', 'Tights basic', 'Baby basics',\n",
              "       'Casual Lingerie', 'Jersey', 'EQ & Special Collections',\n",
              "       'Hair Accessories', 'Other items', 'Baby Nightwear',\n",
              "       'Men Sport Woven', 'Men Sport Bottoms', 'Kids Boy Denim',\n",
              "       'Shopbasket Socks', 'Socks', 'UW', 'Young Girl Jersey Basic',\n",
              "       'Jacket Street', 'Belts', 'Divided Shoes', 'Swimwear',\n",
              "       'Underwear Jersey', 'Basic 1', 'Tops Knitwear DS', 'Men Sport Acc',\n",
              "       'Kids Boy Jersey Basic', 'Young Girl UW/NW', 'Shirt', 'Nightwear',\n",
              "       'Trouser', 'Small Accessories', 'Sunglasses', 'Gloves/Hats',\n",
              "       'Knit & Woven', 'Basics', 'Accessories', 'Jewellery',\n",
              "       'Jersey Fancy DS', 'Trousers DS', 'Bags', 'Blazer S&T', 'Knitwear',\n",
              "       'Woven bottoms', 'Shorts', 'Dresses DS', 'Expressive Lingerie',\n",
              "       'Kids Girl UW/NW', 'Young Boy Jersey Basic', 'Kids Girl S&T',\n",
              "       'Young Girl S&T', 'Shoes / Boots inactive from s5', 'Nursing',\n",
              "       'Jersey Fancy', 'Shoes', 'Functional Lingerie', 'Men Sport Tops',\n",
              "       'Other Accessories', 'Young Boy Trouser', 'Outdoor/Blazers DS',\n",
              "       'Mama Lingerie', 'Socks Bin', 'Denim Other Garments',\n",
              "       'Everyday Waredrobe Denim', 'Trousers', 'Denim Trousers',\n",
              "       'Outdoor/Blazers', 'Young Boy Denim', 'Scarves', 'Dresses',\n",
              "       'Skirts', 'Kids Girl Jersey Basic', 'Baby Socks',\n",
              "       'Trousers & Skirt', 'Young Boy Shirt', 'Kids Girl Big Acc',\n",
              "       'Young Girl Denim', 'Flats', 'Baby Toys/Acc', 'Projects Dresses',\n",
              "       'Denim shorts', 'Jersey inactive from s1', 'Promotion/Other/Offer',\n",
              "       'Bags & Items', 'Small Bags', 'Trouser S&T', 'Shirt S&T',\n",
              "       'Woven Tops', 'Denim trousers', 'Young Girl Knitwear', 'Outwear',\n",
              "       'Knitwear inactive from s1', 'Projects Woven Tops',\n",
              "       'Projects Jersey & Knitwear',\n",
              "       'Denim wardrobe H&M man inactive from S.6', 'Baby Boy Outdoor',\n",
              "       'Premium Quality', 'Woven inactive from s1', 'Tops woven DS',\n",
              "       'Newborn', 'Skirt', 'Jersey License', 'Jewellery Extended',\n",
              "       'Light Basic Jersey', 'Suit Extended inactive from s1',\n",
              "       'Young Boy UW/NW', 'Tops Knitwear', 'Kids Boy Socks',\n",
              "       'Young Boy Socks', 'Outdoor inactive from s1',\n",
              "       'Kids Girl Swimwear', 'Young Girl Swimwear', 'Ladies Sport Bras',\n",
              "       'Ladies Sport Bottoms', 'Jersey fancy', 'Blazer', 'Baby Boy Woven',\n",
              "       'Kids Boy Swimwear', 'Young boy Swimwear',\n",
              "       'Kids Dress-up/Football', 'Sneakers small girl inactive from s2',\n",
              "       'Tops Woven', 'Blouse', 'Shorts DS', 'Boots', 'Kids Boy Big Acc',\n",
              "       'Boys Small Acc & Bags', 'Woven top', 'Young Girl Dresses',\n",
              "       'Knitwear Basic', 'Sneakers', 'Dress', 'Baby Girl Woven',\n",
              "       'Baby Girl Jersey Fancy', 'Jacket Casual', 'Kids Boy UW/NW',\n",
              "       'Ladies Sport Acc', 'Kids Girl Jersey Fancy', 'Baby Exclusive',\n",
              "       'Young Boy Shorts', 'EQ Divided Basics', 'Shorts & Skirts',\n",
              "       'Promotion/ Other /Offer', 'Kids Boy Trouser', 'Tops Fancy Jersey',\n",
              "       'Kids Girl Knitwear', 'Kids Boy Jersey Fancy', 'Heels',\n",
              "       'Woven Premium', 'Blouse & Dress', 'Kids Girl Trouser',\n",
              "       'Kids Girl Dresses', 'Projects Woven Bottoms',\n",
              "       'Conscious Exclusive', 'Shoes Other', 'Kids Girl Outdoor',\n",
              "       'Skirts DS', 'Young Girl Jersey Fancy', 'Young Boy Outdoor',\n",
              "       'Young Girl Outdoor', 'Woven Occasion', 'Kids Boy Outdoor',\n",
              "       'Young Boy Jersey Fancy', 'Kids Boy Shoes', 'Ladies Sport Woven',\n",
              "       'Bottoms Girls', 'Tops Girls', 'Young Girl Big Acc',\n",
              "       'Young Boy Shoes', 'Young Boy Knitwear', 'Suit', 'Kids Girl Shoes',\n",
              "       'Jacket Smart', 'Projects', 'Kids Boy Knitwear',\n",
              "       'Woven bottoms inactive from S.7', 'Jersey/Knitwear Premium',\n",
              "       'Sneakers big girl inactive from s2', 'Suit jacket',\n",
              "       'Kids Boy Shirt', 'Jacket', 'Kids Girl Denim',\n",
              "       'Young Girl Trouser', 'Girls Small Acc/Bags',\n",
              "       'Shirt Extended inactive from s1', 'Tops Boys',\n",
              "       'Baby Girl Knitwear', 'Baby Shoes', 'Jackets', 'Jersey Occasion',\n",
              "       'Young Boy Big Acc', 'Kids Girl License', 'Baby Boy Jersey Fancy',\n",
              "       'Bottoms Boys', 'Local relevance', 'Dress-up Boys',\n",
              "       'Small Acc. Jewellery & Other', 'Baby Boy Knitwear',\n",
              "       'Equatorial Assortment', 'Loungewear', 'Studio Collection',\n",
              "       'Woven', 'Outwear & Blazers',\n",
              "       'Underwear Jersey Fancy inactive from s1', 'Special Collection',\n",
              "       'Take Care External', 'Equatorial', 'Divided+',\n",
              "       'OL Extended Sizes', 'Campaigns', 'Underwear Woven',\n",
              "       'Heavy Basic Jersey', 'EQ H&M Man', 'Young Girl Shoes', 'AK Other',\n",
              "       'Kids Boy Shorts', 'Bottoms', 'Shopbasket Lingerie',\n",
              "       'Kids Boy License', 'Baby Girl Outdoor',\n",
              "       'Promotion / Other / Offer', 'Divided+ inactive from s.1',\n",
              "       'Tops & Bottoms Other', 'Take care', 'Girls Local Relevance',\n",
              "       'AK Dresses & Outdoor', 'Limited Edition',\n",
              "       'AK Tops Jersey & Woven', 'AK Tops Knitwear', 'Divided Swimwear',\n",
              "       'AK Bottoms', 'Girls Projects', 'On Demand', 'Test Ladies',\n",
              "       'Socks Wall', 'Jersey inactive from S.6', 'Boys Local Relevance',\n",
              "       'License', 'Price Items', 'Asia Assortment', 'Accessories Boys',\n",
              "       'Read & React', 'EQ Ladies Denim', 'Small Accessories Extended',\n",
              "       'Baby Boy Local Relevance', 'Kids Girl Exclusive',\n",
              "       'Baby Girl Local Relevance', 'EQ Divided Blue',\n",
              "       'Kids Boy Exclusive', 'Accessories Other', 'Blanks'], dtype=object)"
            ]
          },
          "metadata": {},
          "execution_count": 19
        }
      ],
      "source": [
        "df_articles['department_name'].unique()"
      ]
    },
    {
      "cell_type": "markdown",
      "metadata": {
        "id": "b5zfxTJm7vHK"
      },
      "source": [
        "### Product Name"
      ]
    },
    {
      "cell_type": "code",
      "execution_count": 20,
      "metadata": {
        "colab": {
          "base_uri": "https://localhost:8080/"
        },
        "id": "xxMK1lwW7x4h",
        "outputId": "f179678d-e885-48c3-c13d-bcb7b7e4088c"
      },
      "outputs": [
        {
          "output_type": "execute_result",
          "data": {
            "text/plain": [
              "array(['Strap top', 'Strap top (1)', 'OP T-shirt (Idro)', ...,\n",
              "       'Cartwheel dress', 'CLAIRE HAIR CLAW', 'Lounge dress'],\n",
              "      dtype=object)"
            ]
          },
          "metadata": {},
          "execution_count": 20
        }
      ],
      "source": [
        "df_articles['prod_name'].unique()"
      ]
    },
    {
      "cell_type": "markdown",
      "metadata": {
        "id": "jwAq-MUdoZjz"
      },
      "source": [
        "From this exploratory analysis of the articles dataframe, we think the most valuable features for us right now are article_id and index_name."
      ]
    },
    {
      "cell_type": "markdown",
      "metadata": {
        "id": "1oqK57xWoQ6Z"
      },
      "source": [
        "## customers.csv\n",
        "\n",
        "metadata for each customer_id in dataset\n",
        "\n",
        "This dataset has seven (7) features and 1,371,980 records."
      ]
    },
    {
      "cell_type": "code",
      "execution_count": 21,
      "metadata": {
        "colab": {
          "base_uri": "https://localhost:8080/",
          "height": 520
        },
        "id": "ZrUkmm0yUxfZ",
        "outputId": "d5b193ae-80f3-4f53-ce0d-f790f7eb79c6"
      },
      "outputs": [
        {
          "output_type": "stream",
          "name": "stdout",
          "text": [
            "<class 'pandas.core.frame.DataFrame'>\n",
            "RangeIndex: 1371980 entries, 0 to 1371979\n",
            "Data columns (total 7 columns):\n",
            " #   Column                  Non-Null Count    Dtype  \n",
            "---  ------                  --------------    -----  \n",
            " 0   customer_id             1371980 non-null  object \n",
            " 1   FN                      476930 non-null   float64\n",
            " 2   Active                  464404 non-null   float64\n",
            " 3   club_member_status      1365918 non-null  object \n",
            " 4   fashion_news_frequency  1355971 non-null  object \n",
            " 5   age                     1356119 non-null  float64\n",
            " 6   postal_code             1371980 non-null  object \n",
            "dtypes: float64(3), object(4)\n",
            "memory usage: 73.3+ MB\n"
          ]
        },
        {
          "output_type": "execute_result",
          "data": {
            "text/plain": [
              "                                         customer_id   FN  Active  \\\n",
              "0  00000dbacae5abe5e23885899a1fa44253a17956c6d1c3...  NaN     NaN   \n",
              "1  0000423b00ade91418cceaf3b26c6af3dd342b51fd051e...  NaN     NaN   \n",
              "2  000058a12d5b43e67d225668fa1f8d618c13dc232df0ca...  NaN     NaN   \n",
              "3  00005ca1c9ed5f5146b52ac8639a40ca9d57aeff4d1bd2...  NaN     NaN   \n",
              "4  00006413d8573cd20ed7128e53b7b13819fe5cfc2d801f...  1.0     1.0   \n",
              "\n",
              "  club_member_status fashion_news_frequency   age  \\\n",
              "0             ACTIVE                   NONE  49.0   \n",
              "1             ACTIVE                   NONE  25.0   \n",
              "2             ACTIVE                   NONE  24.0   \n",
              "3             ACTIVE                   NONE  54.0   \n",
              "4             ACTIVE              Regularly  52.0   \n",
              "\n",
              "                                         postal_code  \n",
              "0  52043ee2162cf5aa7ee79974281641c6f11a68d276429a...  \n",
              "1  2973abc54daa8a5f8ccfe9362140c63247c5eee03f1d93...  \n",
              "2  64f17e6a330a85798e4998f62d0930d14db8db1c054af6...  \n",
              "3  5d36574f52495e81f019b680c843c443bd343d5ca5b1c2...  \n",
              "4  25fa5ddee9aac01b35208d01736e57942317d756b32ddd...  "
            ],
            "text/html": [
              "\n",
              "  <div id=\"df-1b0c1184-72e1-4e82-b64a-9418dbdf58e3\">\n",
              "    <div class=\"colab-df-container\">\n",
              "      <div>\n",
              "<style scoped>\n",
              "    .dataframe tbody tr th:only-of-type {\n",
              "        vertical-align: middle;\n",
              "    }\n",
              "\n",
              "    .dataframe tbody tr th {\n",
              "        vertical-align: top;\n",
              "    }\n",
              "\n",
              "    .dataframe thead th {\n",
              "        text-align: right;\n",
              "    }\n",
              "</style>\n",
              "<table border=\"1\" class=\"dataframe\">\n",
              "  <thead>\n",
              "    <tr style=\"text-align: right;\">\n",
              "      <th></th>\n",
              "      <th>customer_id</th>\n",
              "      <th>FN</th>\n",
              "      <th>Active</th>\n",
              "      <th>club_member_status</th>\n",
              "      <th>fashion_news_frequency</th>\n",
              "      <th>age</th>\n",
              "      <th>postal_code</th>\n",
              "    </tr>\n",
              "  </thead>\n",
              "  <tbody>\n",
              "    <tr>\n",
              "      <th>0</th>\n",
              "      <td>00000dbacae5abe5e23885899a1fa44253a17956c6d1c3...</td>\n",
              "      <td>NaN</td>\n",
              "      <td>NaN</td>\n",
              "      <td>ACTIVE</td>\n",
              "      <td>NONE</td>\n",
              "      <td>49.0</td>\n",
              "      <td>52043ee2162cf5aa7ee79974281641c6f11a68d276429a...</td>\n",
              "    </tr>\n",
              "    <tr>\n",
              "      <th>1</th>\n",
              "      <td>0000423b00ade91418cceaf3b26c6af3dd342b51fd051e...</td>\n",
              "      <td>NaN</td>\n",
              "      <td>NaN</td>\n",
              "      <td>ACTIVE</td>\n",
              "      <td>NONE</td>\n",
              "      <td>25.0</td>\n",
              "      <td>2973abc54daa8a5f8ccfe9362140c63247c5eee03f1d93...</td>\n",
              "    </tr>\n",
              "    <tr>\n",
              "      <th>2</th>\n",
              "      <td>000058a12d5b43e67d225668fa1f8d618c13dc232df0ca...</td>\n",
              "      <td>NaN</td>\n",
              "      <td>NaN</td>\n",
              "      <td>ACTIVE</td>\n",
              "      <td>NONE</td>\n",
              "      <td>24.0</td>\n",
              "      <td>64f17e6a330a85798e4998f62d0930d14db8db1c054af6...</td>\n",
              "    </tr>\n",
              "    <tr>\n",
              "      <th>3</th>\n",
              "      <td>00005ca1c9ed5f5146b52ac8639a40ca9d57aeff4d1bd2...</td>\n",
              "      <td>NaN</td>\n",
              "      <td>NaN</td>\n",
              "      <td>ACTIVE</td>\n",
              "      <td>NONE</td>\n",
              "      <td>54.0</td>\n",
              "      <td>5d36574f52495e81f019b680c843c443bd343d5ca5b1c2...</td>\n",
              "    </tr>\n",
              "    <tr>\n",
              "      <th>4</th>\n",
              "      <td>00006413d8573cd20ed7128e53b7b13819fe5cfc2d801f...</td>\n",
              "      <td>1.0</td>\n",
              "      <td>1.0</td>\n",
              "      <td>ACTIVE</td>\n",
              "      <td>Regularly</td>\n",
              "      <td>52.0</td>\n",
              "      <td>25fa5ddee9aac01b35208d01736e57942317d756b32ddd...</td>\n",
              "    </tr>\n",
              "  </tbody>\n",
              "</table>\n",
              "</div>\n",
              "      <button class=\"colab-df-convert\" onclick=\"convertToInteractive('df-1b0c1184-72e1-4e82-b64a-9418dbdf58e3')\"\n",
              "              title=\"Convert this dataframe to an interactive table.\"\n",
              "              style=\"display:none;\">\n",
              "        \n",
              "  <svg xmlns=\"http://www.w3.org/2000/svg\" height=\"24px\"viewBox=\"0 0 24 24\"\n",
              "       width=\"24px\">\n",
              "    <path d=\"M0 0h24v24H0V0z\" fill=\"none\"/>\n",
              "    <path d=\"M18.56 5.44l.94 2.06.94-2.06 2.06-.94-2.06-.94-.94-2.06-.94 2.06-2.06.94zm-11 1L8.5 8.5l.94-2.06 2.06-.94-2.06-.94L8.5 2.5l-.94 2.06-2.06.94zm10 10l.94 2.06.94-2.06 2.06-.94-2.06-.94-.94-2.06-.94 2.06-2.06.94z\"/><path d=\"M17.41 7.96l-1.37-1.37c-.4-.4-.92-.59-1.43-.59-.52 0-1.04.2-1.43.59L10.3 9.45l-7.72 7.72c-.78.78-.78 2.05 0 2.83L4 21.41c.39.39.9.59 1.41.59.51 0 1.02-.2 1.41-.59l7.78-7.78 2.81-2.81c.8-.78.8-2.07 0-2.86zM5.41 20L4 18.59l7.72-7.72 1.47 1.35L5.41 20z\"/>\n",
              "  </svg>\n",
              "      </button>\n",
              "      \n",
              "  <style>\n",
              "    .colab-df-container {\n",
              "      display:flex;\n",
              "      flex-wrap:wrap;\n",
              "      gap: 12px;\n",
              "    }\n",
              "\n",
              "    .colab-df-convert {\n",
              "      background-color: #E8F0FE;\n",
              "      border: none;\n",
              "      border-radius: 50%;\n",
              "      cursor: pointer;\n",
              "      display: none;\n",
              "      fill: #1967D2;\n",
              "      height: 32px;\n",
              "      padding: 0 0 0 0;\n",
              "      width: 32px;\n",
              "    }\n",
              "\n",
              "    .colab-df-convert:hover {\n",
              "      background-color: #E2EBFA;\n",
              "      box-shadow: 0px 1px 2px rgba(60, 64, 67, 0.3), 0px 1px 3px 1px rgba(60, 64, 67, 0.15);\n",
              "      fill: #174EA6;\n",
              "    }\n",
              "\n",
              "    [theme=dark] .colab-df-convert {\n",
              "      background-color: #3B4455;\n",
              "      fill: #D2E3FC;\n",
              "    }\n",
              "\n",
              "    [theme=dark] .colab-df-convert:hover {\n",
              "      background-color: #434B5C;\n",
              "      box-shadow: 0px 1px 3px 1px rgba(0, 0, 0, 0.15);\n",
              "      filter: drop-shadow(0px 1px 2px rgba(0, 0, 0, 0.3));\n",
              "      fill: #FFFFFF;\n",
              "    }\n",
              "  </style>\n",
              "\n",
              "      <script>\n",
              "        const buttonEl =\n",
              "          document.querySelector('#df-1b0c1184-72e1-4e82-b64a-9418dbdf58e3 button.colab-df-convert');\n",
              "        buttonEl.style.display =\n",
              "          google.colab.kernel.accessAllowed ? 'block' : 'none';\n",
              "\n",
              "        async function convertToInteractive(key) {\n",
              "          const element = document.querySelector('#df-1b0c1184-72e1-4e82-b64a-9418dbdf58e3');\n",
              "          const dataTable =\n",
              "            await google.colab.kernel.invokeFunction('convertToInteractive',\n",
              "                                                     [key], {});\n",
              "          if (!dataTable) return;\n",
              "\n",
              "          const docLinkHtml = 'Like what you see? Visit the ' +\n",
              "            '<a target=\"_blank\" href=https://colab.research.google.com/notebooks/data_table.ipynb>data table notebook</a>'\n",
              "            + ' to learn more about interactive tables.';\n",
              "          element.innerHTML = '';\n",
              "          dataTable['output_type'] = 'display_data';\n",
              "          await google.colab.output.renderOutput(dataTable, element);\n",
              "          const docLink = document.createElement('div');\n",
              "          docLink.innerHTML = docLinkHtml;\n",
              "          element.appendChild(docLink);\n",
              "        }\n",
              "      </script>\n",
              "    </div>\n",
              "  </div>\n",
              "  "
            ]
          },
          "metadata": {},
          "execution_count": 21
        }
      ],
      "source": [
        "# Load the data\n",
        "\n",
        "df_customers = pd.read_csv('customers.csv')\n",
        "\n",
        "#View basic info about data and data itself\n",
        "df_customers.info()\n",
        "df_customers.describe()\n",
        "df_customers.head()"
      ]
    },
    {
      "cell_type": "markdown",
      "metadata": {
        "id": "9HoCQ3iimGoQ"
      },
      "source": [
        "Check for duplicate records"
      ]
    },
    {
      "cell_type": "code",
      "execution_count": 22,
      "metadata": {
        "colab": {
          "base_uri": "https://localhost:8080/"
        },
        "id": "2FSmOl8CrGS3",
        "outputId": "cc6fc857-a7e2-4e87-c70d-ecdae59beeea"
      },
      "outputs": [
        {
          "output_type": "execute_result",
          "data": {
            "text/plain": [
              "0"
            ]
          },
          "metadata": {},
          "execution_count": 22
        }
      ],
      "source": [
        "# find duplicate rows\n",
        "df_customers.duplicated().sum()"
      ]
    },
    {
      "cell_type": "markdown",
      "metadata": {
        "id": "BFUiy24omIs7"
      },
      "source": [
        "Check for NaN/Null values"
      ]
    },
    {
      "cell_type": "code",
      "execution_count": 23,
      "metadata": {
        "colab": {
          "base_uri": "https://localhost:8080/"
        },
        "id": "cIDHqJAwmEsB",
        "outputId": "e92f73b6-1b39-4d8e-c611-58db264cba1c"
      },
      "outputs": [
        {
          "output_type": "execute_result",
          "data": {
            "text/plain": [
              "customer_id                    0\n",
              "FN                        895050\n",
              "Active                    907576\n",
              "club_member_status          6062\n",
              "fashion_news_frequency     16009\n",
              "age                        15861\n",
              "postal_code                    0\n",
              "dtype: int64"
            ]
          },
          "metadata": {},
          "execution_count": 23
        }
      ],
      "source": [
        "# Find null values\n",
        "df_customers.isnull().sum()"
      ]
    },
    {
      "cell_type": "markdown",
      "metadata": {
        "id": "dDICdO8YmVXq"
      },
      "source": [
        "There are many null values in all of the fields except for customer_id and postal_code."
      ]
    },
    {
      "cell_type": "markdown",
      "metadata": {
        "id": "a_1haBfonCzp"
      },
      "source": [
        "For now, let's try to understand what each variable is."
      ]
    },
    {
      "cell_type": "code",
      "execution_count": 24,
      "metadata": {
        "colab": {
          "base_uri": "https://localhost:8080/"
        },
        "id": "wT_Isr_gmOZ7",
        "outputId": "036c7ffc-6660-41d0-e844-dd5226f81a08"
      },
      "outputs": [
        {
          "output_type": "stream",
          "name": "stdout",
          "text": [
            "customer_id 1371980\n",
            "FN 2\n",
            "Active 2\n",
            "club_member_status 4\n",
            "fashion_news_frequency 5\n",
            "age 85\n",
            "postal_code 352899\n"
          ]
        }
      ],
      "source": [
        "customers_columns = df_customers.columns\n",
        "for col in df_customers.columns:\n",
        "  print(col,len(df_customers[col].unique()))"
      ]
    },
    {
      "cell_type": "markdown",
      "metadata": {
        "id": "TVW6khkQ8PUJ"
      },
      "source": [
        "### FN"
      ]
    },
    {
      "cell_type": "code",
      "execution_count": 25,
      "metadata": {
        "colab": {
          "base_uri": "https://localhost:8080/"
        },
        "id": "SPuQk-CtngS3",
        "outputId": "151eb729-2825-4796-cd37-795e1358cd3d"
      },
      "outputs": [
        {
          "output_type": "execute_result",
          "data": {
            "text/plain": [
              "FN\n",
              "1.0    476930\n",
              "Name: customer_id, dtype: int64"
            ]
          },
          "metadata": {},
          "execution_count": 25
        }
      ],
      "source": [
        "df_customers.groupby(['FN']).count()['customer_id']"
      ]
    },
    {
      "cell_type": "markdown",
      "metadata": {
        "id": "oVAuvGFF9Wic"
      },
      "source": [
        "We should transform the data, by filling in the Nulls/NaN with 0."
      ]
    },
    {
      "cell_type": "code",
      "execution_count": 26,
      "metadata": {
        "id": "xQ56Eek09dBR"
      },
      "outputs": [],
      "source": [
        "df_customers['FN'] = df_customers['FN'].fillna(0)"
      ]
    },
    {
      "cell_type": "markdown",
      "metadata": {
        "id": "QjxvE_sw-TGf"
      },
      "source": [
        "okay, let's check again"
      ]
    },
    {
      "cell_type": "code",
      "execution_count": 27,
      "metadata": {
        "colab": {
          "base_uri": "https://localhost:8080/"
        },
        "id": "V5Ek7d2d-Qdh",
        "outputId": "ddeff68e-15ec-4e61-aeb2-1a8f4e37fa20"
      },
      "outputs": [
        {
          "output_type": "execute_result",
          "data": {
            "text/plain": [
              "FN\n",
              "0.0    895050\n",
              "1.0    476930\n",
              "Name: customer_id, dtype: int64"
            ]
          },
          "metadata": {},
          "execution_count": 27
        }
      ],
      "source": [
        "df_customers.groupby(['FN']).count()['customer_id']"
      ]
    },
    {
      "cell_type": "code",
      "execution_count": 28,
      "metadata": {
        "colab": {
          "base_uri": "https://localhost:8080/",
          "height": 537
        },
        "id": "_ciVvQcgh1xg",
        "outputId": "d86709e2-d762-4def-a370-55eeaed56246"
      },
      "outputs": [
        {
          "output_type": "execute_result",
          "data": {
            "text/plain": [
              "Text(0, 0.5, '# of Customers')"
            ]
          },
          "metadata": {},
          "execution_count": 28
        },
        {
          "output_type": "display_data",
          "data": {
            "text/plain": [
              "<Figure size 1008x576 with 1 Axes>"
            ],
            "image/png": "[encoded data removed]"
          },
          "metadata": {
            "needs_background": "light"
          }
        }
      ],
      "source": [
        "ax = df_customers['FN'].value_counts().plot(kind='bar',\n",
        "                                    figsize=(14,8),\n",
        "                                    title='FN')\n",
        "ax.set_xlabel('FN')\n",
        "ax.set_ylabel(\"# of Customers\")"
      ]
    },
    {
      "cell_type": "markdown",
      "metadata": {
        "id": "oSWs3reP8i5a"
      },
      "source": [
        "### Active"
      ]
    },
    {
      "cell_type": "code",
      "execution_count": 29,
      "metadata": {
        "colab": {
          "base_uri": "https://localhost:8080/"
        },
        "id": "3xjjWEhrnqwu",
        "outputId": "cde833b1-14f4-456d-b848-eee0f482032d"
      },
      "outputs": [
        {
          "output_type": "execute_result",
          "data": {
            "text/plain": [
              "Active\n",
              "1.0    464404\n",
              "Name: customer_id, dtype: int64"
            ]
          },
          "metadata": {},
          "execution_count": 29
        }
      ],
      "source": [
        "df_customers.groupby(['Active']).count()['customer_id']"
      ]
    },
    {
      "cell_type": "markdown",
      "metadata": {
        "id": "5hkXy0Fi_s9V"
      },
      "source": [
        "We need to fill in the Nulls/NaN with 0."
      ]
    },
    {
      "cell_type": "code",
      "execution_count": 30,
      "metadata": {
        "colab": {
          "base_uri": "https://localhost:8080/"
        },
        "id": "VtoFJXDr_vlj",
        "outputId": "b798a245-0cda-4cdc-9bac-f88984ffe438"
      },
      "outputs": [
        {
          "output_type": "execute_result",
          "data": {
            "text/plain": [
              "Active\n",
              "0.0    907576\n",
              "1.0    464404\n",
              "Name: customer_id, dtype: int64"
            ]
          },
          "metadata": {},
          "execution_count": 30
        }
      ],
      "source": [
        "df_customers['Active'] = df_customers['Active'].fillna(0)\n",
        "df_customers.groupby(['Active']).count()['customer_id']"
      ]
    },
    {
      "cell_type": "code",
      "execution_count": 31,
      "metadata": {
        "colab": {
          "base_uri": "https://localhost:8080/",
          "height": 537
        },
        "id": "ROXvgp2OhriF",
        "outputId": "7144f5b4-56f0-4d25-c6a7-11a54e44c06f"
      },
      "outputs": [
        {
          "output_type": "execute_result",
          "data": {
            "text/plain": [
              "Text(0, 0.5, '# of Customers')"
            ]
          },
          "metadata": {},
          "execution_count": 31
        },
        {
          "output_type": "display_data",
          "data": {
            "text/plain": [
              "<Figure size 1008x576 with 1 Axes>"
            ],
            "image/png": "[encoded data removed]"
          },
          "metadata": {
            "needs_background": "light"
          }
        }
      ],
      "source": [
        "ax = df_customers['Active'].value_counts().plot(kind='bar',\n",
        "                                    figsize=(14,8),\n",
        "                                    title='Active')\n",
        "ax.set_xlabel('Active')\n",
        "ax.set_ylabel(\"# of Customers\")"
      ]
    },
    {
      "cell_type": "markdown",
      "metadata": {
        "id": "0ugyzA2G8rpf"
      },
      "source": [
        "### Club Member Status"
      ]
    },
    {
      "cell_type": "code",
      "execution_count": 32,
      "metadata": {
        "colab": {
          "base_uri": "https://localhost:8080/"
        },
        "id": "vqONTURenvvH",
        "outputId": "b243218f-517b-4891-94c3-32978b7b2873"
      },
      "outputs": [
        {
          "output_type": "execute_result",
          "data": {
            "text/plain": [
              "club_member_status\n",
              "ACTIVE        1272491\n",
              "LEFT CLUB         467\n",
              "PRE-CREATE      92960\n",
              "Name: customer_id, dtype: int64"
            ]
          },
          "metadata": {},
          "execution_count": 32
        }
      ],
      "source": [
        "df_customers.groupby(['club_member_status']).count()['customer_id']"
      ]
    },
    {
      "cell_type": "code",
      "execution_count": 33,
      "metadata": {
        "colab": {
          "base_uri": "https://localhost:8080/"
        },
        "id": "PvFfH_Rg_57L",
        "outputId": "0cc3bd86-f0c3-4ff6-df5f-875e62a2a4d2"
      },
      "outputs": [
        {
          "output_type": "execute_result",
          "data": {
            "text/plain": [
              "6062"
            ]
          },
          "metadata": {},
          "execution_count": 33
        }
      ],
      "source": [
        "df_customers['club_member_status'].isnull().sum()"
      ]
    },
    {
      "cell_type": "markdown",
      "metadata": {
        "id": "NGPzG870AIEP"
      },
      "source": [
        "We need to replace Null/NaN values with 'NONE'."
      ]
    },
    {
      "cell_type": "code",
      "execution_count": 34,
      "metadata": {
        "colab": {
          "base_uri": "https://localhost:8080/"
        },
        "id": "A002ElRaAMLe",
        "outputId": "773a043c-5ade-450e-daa9-549eb8bc31b2"
      },
      "outputs": [
        {
          "output_type": "execute_result",
          "data": {
            "text/plain": [
              "club_member_status\n",
              "ACTIVE        1272491\n",
              "LEFT CLUB         467\n",
              "NONE             6062\n",
              "PRE-CREATE      92960\n",
              "Name: customer_id, dtype: int64"
            ]
          },
          "metadata": {},
          "execution_count": 34
        }
      ],
      "source": [
        "df_customers['club_member_status'] = df_customers['club_member_status'].fillna('NONE')\n",
        "df_customers.groupby(['club_member_status']).count()['customer_id']"
      ]
    },
    {
      "cell_type": "code",
      "execution_count": 35,
      "metadata": {
        "colab": {
          "base_uri": "https://localhost:8080/",
          "height": 583
        },
        "id": "SVlRdnjehfo-",
        "outputId": "10e31484-0280-44b2-d49f-fd6fb94cdd4e"
      },
      "outputs": [
        {
          "output_type": "execute_result",
          "data": {
            "text/plain": [
              "Text(0, 0.5, '# of Customers')"
            ]
          },
          "metadata": {},
          "execution_count": 35
        },
        {
          "output_type": "display_data",
          "data": {
            "text/plain": [
              "<Figure size 1008x576 with 1 Axes>"
            ],
            "image/png": "[encoded data removed]"
          },
          "metadata": {
            "needs_background": "light"
          }
        }
      ],
      "source": [
        "ax = df_customers['club_member_status'].value_counts().plot(kind='bar',\n",
        "                                    figsize=(14,8),\n",
        "                                    title='club_member_status')\n",
        "ax.set_xlabel('club_member_status')\n",
        "ax.set_ylabel(\"# of Customers\")"
      ]
    },
    {
      "cell_type": "markdown",
      "metadata": {
        "id": "cpYPqf1l80o8"
      },
      "source": [
        "### Fashion News Frequency"
      ]
    },
    {
      "cell_type": "code",
      "execution_count": 36,
      "metadata": {
        "colab": {
          "base_uri": "https://localhost:8080/"
        },
        "id": "iXoYlnuTnysa",
        "outputId": "bb113b96-e45c-4e1c-8341-8b6745d8d54c"
      },
      "outputs": [
        {
          "output_type": "execute_result",
          "data": {
            "text/plain": [
              "fashion_news_frequency\n",
              "Monthly         842\n",
              "NONE         877711\n",
              "None              2\n",
              "Regularly    477416\n",
              "Name: customer_id, dtype: int64"
            ]
          },
          "metadata": {},
          "execution_count": 36
        }
      ],
      "source": [
        "df_customers.groupby(['fashion_news_frequency']).count()['customer_id']"
      ]
    },
    {
      "cell_type": "code",
      "execution_count": 37,
      "metadata": {
        "colab": {
          "base_uri": "https://localhost:8080/"
        },
        "id": "um71fYniAXYY",
        "outputId": "e79026b5-d985-42be-8f47-75fa45df8cea"
      },
      "outputs": [
        {
          "output_type": "execute_result",
          "data": {
            "text/plain": [
              "fashion_news_frequency\n",
              "Monthly         842\n",
              "NONE         893722\n",
              "Regularly    477416\n",
              "Name: customer_id, dtype: int64"
            ]
          },
          "metadata": {},
          "execution_count": 37
        }
      ],
      "source": [
        "df_customers['fashion_news_frequency'] = df_customers['fashion_news_frequency'].fillna('NONE')\n",
        "df_customers['fashion_news_frequency'] = df_customers['fashion_news_frequency'].replace('None', 'NONE')\n",
        "df_customers.groupby(['fashion_news_frequency']).count()['customer_id']"
      ]
    },
    {
      "cell_type": "code",
      "execution_count": 38,
      "metadata": {
        "colab": {
          "base_uri": "https://localhost:8080/",
          "height": 568
        },
        "id": "huTtR-oxftVW",
        "outputId": "74de1cc7-578d-4938-db9a-d6629f4fec07"
      },
      "outputs": [
        {
          "output_type": "execute_result",
          "data": {
            "text/plain": [
              "Text(0, 0.5, '# of Customers')"
            ]
          },
          "metadata": {},
          "execution_count": 38
        },
        {
          "output_type": "display_data",
          "data": {
            "text/plain": [
              "<Figure size 1008x576 with 1 Axes>"
            ],
            "image/png": "[encoded data removed]"
          },
          "metadata": {
            "needs_background": "light"
          }
        }
      ],
      "source": [
        "ax = df_customers['fashion_news_frequency'].value_counts().plot(kind='bar',\n",
        "                                    figsize=(14,8),\n",
        "                                    title=\"Fashion News Frequency\")\n",
        "ax.set_xlabel(\"Fashion News Frequency\")\n",
        "ax.set_ylabel(\"# of Customers\")"
      ]
    },
    {
      "cell_type": "markdown",
      "metadata": {
        "id": "qG8O9RFwCuzF"
      },
      "source": [
        "### Age"
      ]
    },
    {
      "cell_type": "code",
      "execution_count": 39,
      "metadata": {
        "colab": {
          "base_uri": "https://localhost:8080/",
          "height": 317
        },
        "id": "XJxifyH_Cucb",
        "outputId": "2a290171-ad86-4548-acd7-65c6aba6710b"
      },
      "outputs": [
        {
          "output_type": "execute_result",
          "data": {
            "text/plain": [
              "array([[<matplotlib.axes._subplots.AxesSubplot object at 0x7ff021398e10>]],\n",
              "      dtype=object)"
            ]
          },
          "metadata": {},
          "execution_count": 39
        },
        {
          "output_type": "display_data",
          "data": {
            "text/plain": [
              "<Figure size 432x288 with 1 Axes>"
            ],
            "image/png": "[encoded data removed]"
          },
          "metadata": {
            "needs_background": "light"
          }
        }
      ],
      "source": [
        "df_customers.hist(column='age', bins=[0, 10, 20, 30, 40, 50, 60, 70, 80, 90, 100])"
      ]
    },
    {
      "cell_type": "code",
      "execution_count": 40,
      "metadata": {
        "colab": {
          "base_uri": "https://localhost:8080/"
        },
        "id": "1FWAo1B_s9SW",
        "outputId": "dce12bf7-afea-4ad3-9551-df37d915ad86"
      },
      "outputs": [
        {
          "output_type": "execute_result",
          "data": {
            "text/plain": [
              "age\n",
              "(0, 10]           0\n",
              "(10, 20]     126779\n",
              "(20, 30]     512397\n",
              "(30, 40]     210991\n",
              "(40, 50]     216880\n",
              "(50, 60]     209856\n",
              "(60, 70]      63363\n",
              "(70, 80]      14741\n",
              "(80, 90]       1035\n",
              "(90, 100]        77\n",
              "dtype: int64"
            ]
          },
          "metadata": {},
          "execution_count": 40
        }
      ],
      "source": [
        "bins=[0, 10, 20, 30, 40, 50, 60, 70, 80, 90, 100]\n",
        "age_groups = df_customers.groupby([pd.cut(df_customers.age, bins)]).size()\n",
        "age_groups"
      ]
    },
    {
      "cell_type": "markdown",
      "metadata": {
        "id": "NlyeBr2uD_oc"
      },
      "source": [
        "Majority of customers are aged 20 to 30."
      ]
    },
    {
      "cell_type": "markdown",
      "metadata": {
        "id": "gTUvzsvQqCyN"
      },
      "source": [
        "## transaction_train.csv\n",
        "\n",
        "the training data, consisting of the purchases each customer for each date, as well as additional information. Duplicate rows correspond to multiple purchases of the same item. \n",
        "\n",
        "This dataset has five (5) features and 31,788,324 records."
      ]
    },
    {
      "cell_type": "code",
      "execution_count": 41,
      "metadata": {
        "colab": {
          "base_uri": "https://localhost:8080/",
          "height": 420
        },
        "id": "N-106rlRppEk",
        "outputId": "9dbe25b6-7605-41f7-f45f-c37795eb30da"
      },
      "outputs": [
        {
          "output_type": "stream",
          "name": "stdout",
          "text": [
            "<class 'pandas.core.frame.DataFrame'>\n",
            "RangeIndex: 31788324 entries, 0 to 31788323\n",
            "Data columns (total 5 columns):\n",
            " #   Column            Dtype  \n",
            "---  ------            -----  \n",
            " 0   t_dat             object \n",
            " 1   customer_id       object \n",
            " 2   article_id        int64  \n",
            " 3   price             float64\n",
            " 4   sales_channel_id  int64  \n",
            "dtypes: float64(1), int64(2), object(2)\n",
            "memory usage: 1.2+ GB\n"
          ]
        },
        {
          "output_type": "execute_result",
          "data": {
            "text/plain": [
              "        t_dat                                        customer_id  article_id  \\\n",
              "0  2018-09-20  000058a12d5b43e67d225668fa1f8d618c13dc232df0ca...   663713001   \n",
              "1  2018-09-20  000058a12d5b43e67d225668fa1f8d618c13dc232df0ca...   541518023   \n",
              "2  2018-09-20  00007d2de826758b65a93dd24ce629ed66842531df6699...   505221004   \n",
              "3  2018-09-20  00007d2de826758b65a93dd24ce629ed66842531df6699...   685687003   \n",
              "4  2018-09-20  00007d2de826758b65a93dd24ce629ed66842531df6699...   685687004   \n",
              "\n",
              "      price  sales_channel_id  \n",
              "0  0.050831                 2  \n",
              "1  0.030492                 2  \n",
              "2  0.015237                 2  \n",
              "3  0.016932                 2  \n",
              "4  0.016932                 2  "
            ],
            "text/html": [
              "\n",
              "  <div id=\"df-c1bb6937-52dc-4542-b352-de508bafac2e\">\n",
              "    <div class=\"colab-df-container\">\n",
              "      <div>\n",
              "<style scoped>\n",
              "    .dataframe tbody tr th:only-of-type {\n",
              "        vertical-align: middle;\n",
              "    }\n",
              "\n",
              "    .dataframe tbody tr th {\n",
              "        vertical-align: top;\n",
              "    }\n",
              "\n",
              "    .dataframe thead th {\n",
              "        text-align: right;\n",
              "    }\n",
              "</style>\n",
              "<table border=\"1\" class=\"dataframe\">\n",
              "  <thead>\n",
              "    <tr style=\"text-align: right;\">\n",
              "      <th></th>\n",
              "      <th>t_dat</th>\n",
              "      <th>customer_id</th>\n",
              "      <th>article_id</th>\n",
              "      <th>price</th>\n",
              "      <th>sales_channel_id</th>\n",
              "    </tr>\n",
              "  </thead>\n",
              "  <tbody>\n",
              "    <tr>\n",
              "      <th>0</th>\n",
              "      <td>2018-09-20</td>\n",
              "      <td>000058a12d5b43e67d225668fa1f8d618c13dc232df0ca...</td>\n",
              "      <td>663713001</td>\n",
              "      <td>0.050831</td>\n",
              "      <td>2</td>\n",
              "    </tr>\n",
              "    <tr>\n",
              "      <th>1</th>\n",
              "      <td>2018-09-20</td>\n",
              "      <td>000058a12d5b43e67d225668fa1f8d618c13dc232df0ca...</td>\n",
              "      <td>541518023</td>\n",
              "      <td>0.030492</td>\n",
              "      <td>2</td>\n",
              "    </tr>\n",
              "    <tr>\n",
              "      <th>2</th>\n",
              "      <td>2018-09-20</td>\n",
              "      <td>00007d2de826758b65a93dd24ce629ed66842531df6699...</td>\n",
              "      <td>505221004</td>\n",
              "      <td>0.015237</td>\n",
              "      <td>2</td>\n",
              "    </tr>\n",
              "    <tr>\n",
              "      <th>3</th>\n",
              "      <td>2018-09-20</td>\n",
              "      <td>00007d2de826758b65a93dd24ce629ed66842531df6699...</td>\n",
              "      <td>685687003</td>\n",
              "      <td>0.016932</td>\n",
              "      <td>2</td>\n",
              "    </tr>\n",
              "    <tr>\n",
              "      <th>4</th>\n",
              "      <td>2018-09-20</td>\n",
              "      <td>00007d2de826758b65a93dd24ce629ed66842531df6699...</td>\n",
              "      <td>685687004</td>\n",
              "      <td>0.016932</td>\n",
              "      <td>2</td>\n",
              "    </tr>\n",
              "  </tbody>\n",
              "</table>\n",
              "</div>\n",
              "      <button class=\"colab-df-convert\" onclick=\"convertToInteractive('df-c1bb6937-52dc-4542-b352-de508bafac2e')\"\n",
              "              title=\"Convert this dataframe to an interactive table.\"\n",
              "              style=\"display:none;\">\n",
              "        \n",
              "  <svg xmlns=\"http://www.w3.org/2000/svg\" height=\"24px\"viewBox=\"0 0 24 24\"\n",
              "       width=\"24px\">\n",
              "    <path d=\"M0 0h24v24H0V0z\" fill=\"none\"/>\n",
              "    <path d=\"M18.56 5.44l.94 2.06.94-2.06 2.06-.94-2.06-.94-.94-2.06-.94 2.06-2.06.94zm-11 1L8.5 8.5l.94-2.06 2.06-.94-2.06-.94L8.5 2.5l-.94 2.06-2.06.94zm10 10l.94 2.06.94-2.06 2.06-.94-2.06-.94-.94-2.06-.94 2.06-2.06.94z\"/><path d=\"M17.41 7.96l-1.37-1.37c-.4-.4-.92-.59-1.43-.59-.52 0-1.04.2-1.43.59L10.3 9.45l-7.72 7.72c-.78.78-.78 2.05 0 2.83L4 21.41c.39.39.9.59 1.41.59.51 0 1.02-.2 1.41-.59l7.78-7.78 2.81-2.81c.8-.78.8-2.07 0-2.86zM5.41 20L4 18.59l7.72-7.72 1.47 1.35L5.41 20z\"/>\n",
              "  </svg>\n",
              "      </button>\n",
              "      \n",
              "  <style>\n",
              "    .colab-df-container {\n",
              "      display:flex;\n",
              "      flex-wrap:wrap;\n",
              "      gap: 12px;\n",
              "    }\n",
              "\n",
              "    .colab-df-convert {\n",
              "      background-color: #E8F0FE;\n",
              "      border: none;\n",
              "      border-radius: 50%;\n",
              "      cursor: pointer;\n",
              "      display: none;\n",
              "      fill: #1967D2;\n",
              "      height: 32px;\n",
              "      padding: 0 0 0 0;\n",
              "      width: 32px;\n",
              "    }\n",
              "\n",
              "    .colab-df-convert:hover {\n",
              "      background-color: #E2EBFA;\n",
              "      box-shadow: 0px 1px 2px rgba(60, 64, 67, 0.3), 0px 1px 3px 1px rgba(60, 64, 67, 0.15);\n",
              "      fill: #174EA6;\n",
              "    }\n",
              "\n",
              "    [theme=dark] .colab-df-convert {\n",
              "      background-color: #3B4455;\n",
              "      fill: #D2E3FC;\n",
              "    }\n",
              "\n",
              "    [theme=dark] .colab-df-convert:hover {\n",
              "      background-color: #434B5C;\n",
              "      box-shadow: 0px 1px 3px 1px rgba(0, 0, 0, 0.15);\n",
              "      filter: drop-shadow(0px 1px 2px rgba(0, 0, 0, 0.3));\n",
              "      fill: #FFFFFF;\n",
              "    }\n",
              "  </style>\n",
              "\n",
              "      <script>\n",
              "        const buttonEl =\n",
              "          document.querySelector('#df-c1bb6937-52dc-4542-b352-de508bafac2e button.colab-df-convert');\n",
              "        buttonEl.style.display =\n",
              "          google.colab.kernel.accessAllowed ? 'block' : 'none';\n",
              "\n",
              "        async function convertToInteractive(key) {\n",
              "          const element = document.querySelector('#df-c1bb6937-52dc-4542-b352-de508bafac2e');\n",
              "          const dataTable =\n",
              "            await google.colab.kernel.invokeFunction('convertToInteractive',\n",
              "                                                     [key], {});\n",
              "          if (!dataTable) return;\n",
              "\n",
              "          const docLinkHtml = 'Like what you see? Visit the ' +\n",
              "            '<a target=\"_blank\" href=https://colab.research.google.com/notebooks/data_table.ipynb>data table notebook</a>'\n",
              "            + ' to learn more about interactive tables.';\n",
              "          element.innerHTML = '';\n",
              "          dataTable['output_type'] = 'display_data';\n",
              "          await google.colab.output.renderOutput(dataTable, element);\n",
              "          const docLink = document.createElement('div');\n",
              "          docLink.innerHTML = docLinkHtml;\n",
              "          element.appendChild(docLink);\n",
              "        }\n",
              "      </script>\n",
              "    </div>\n",
              "  </div>\n",
              "  "
            ]
          },
          "metadata": {},
          "execution_count": 41
        }
      ],
      "source": [
        "# Load the data\n",
        "\n",
        "df_transaction = pd.read_csv('transactions_train.csv')\n",
        "\n",
        "#View basic info about data and data itself\n",
        "df_transaction.info()\n",
        "df_transaction.describe()\n",
        "df_transaction.head()"
      ]
    },
    {
      "cell_type": "markdown",
      "metadata": {
        "id": "omLM_HoFrOu9"
      },
      "source": [
        "### Sales Channel ID\n",
        "\n",
        "1 - In Store Purchase\n",
        "\n",
        "2 - Online Purchase"
      ]
    },
    {
      "cell_type": "code",
      "execution_count": 42,
      "metadata": {
        "colab": {
          "base_uri": "https://localhost:8080/"
        },
        "id": "f0Y0PmzluCEN",
        "outputId": "034163ec-d090-4fb5-da08-5e25988a955e"
      },
      "outputs": [
        {
          "output_type": "execute_result",
          "data": {
            "text/plain": [
              "sales_channel_id\n",
              "1     9408462\n",
              "2    22379862\n",
              "Name: article_id, dtype: int64"
            ]
          },
          "metadata": {},
          "execution_count": 42
        }
      ],
      "source": [
        "df_transaction.groupby(['sales_channel_id']).count()['article_id']"
      ]
    },
    {
      "cell_type": "code",
      "execution_count": 43,
      "metadata": {
        "colab": {
          "base_uri": "https://localhost:8080/"
        },
        "id": "TEnNnQnw9Fed",
        "outputId": "f6e6612c-64a8-4d2a-849e-748e3161ad96"
      },
      "outputs": [
        {
          "output_type": "stream",
          "name": "stdout",
          "text": [
            "Online purchases make up  29.59722569834132 %\n",
            "In-store purchases make up  70.4027743016587 %\n"
          ]
        }
      ],
      "source": [
        "print('Online purchases make up ', 9408462/(9408462+22379862)*100 , '%')\n",
        "print('In-store purchases make up ', 22379862/(9408462+22379862)*100 , '%')"
      ]
    },
    {
      "cell_type": "markdown",
      "metadata": {
        "id": "1MCGBwEMF9aZ"
      },
      "source": [
        "### Article Prices"
      ]
    },
    {
      "cell_type": "code",
      "execution_count": 44,
      "metadata": {
        "colab": {
          "base_uri": "https://localhost:8080/",
          "height": 206
        },
        "id": "2zZhF8wYCWxb",
        "outputId": "4770eb44-4d2c-42e3-bc56-c47516b7dcac"
      },
      "outputs": [
        {
          "output_type": "execute_result",
          "data": {
            "text/plain": [
              "   article_id  sales_channel_id     price\n",
              "0   663713001                 2  0.050831\n",
              "1   541518023                 2  0.030492\n",
              "2   505221004                 2  0.015237\n",
              "3   685687003                 2  0.016932\n",
              "4   685687004                 2  0.016932"
            ],
            "text/html": [
              "\n",
              "  <div id=\"df-deba5295-c83d-4dd0-9492-5737db69099f\">\n",
              "    <div class=\"colab-df-container\">\n",
              "      <div>\n",
              "<style scoped>\n",
              "    .dataframe tbody tr th:only-of-type {\n",
              "        vertical-align: middle;\n",
              "    }\n",
              "\n",
              "    .dataframe tbody tr th {\n",
              "        vertical-align: top;\n",
              "    }\n",
              "\n",
              "    .dataframe thead th {\n",
              "        text-align: right;\n",
              "    }\n",
              "</style>\n",
              "<table border=\"1\" class=\"dataframe\">\n",
              "  <thead>\n",
              "    <tr style=\"text-align: right;\">\n",
              "      <th></th>\n",
              "      <th>article_id</th>\n",
              "      <th>sales_channel_id</th>\n",
              "      <th>price</th>\n",
              "    </tr>\n",
              "  </thead>\n",
              "  <tbody>\n",
              "    <tr>\n",
              "      <th>0</th>\n",
              "      <td>663713001</td>\n",
              "      <td>2</td>\n",
              "      <td>0.050831</td>\n",
              "    </tr>\n",
              "    <tr>\n",
              "      <th>1</th>\n",
              "      <td>541518023</td>\n",
              "      <td>2</td>\n",
              "      <td>0.030492</td>\n",
              "    </tr>\n",
              "    <tr>\n",
              "      <th>2</th>\n",
              "      <td>505221004</td>\n",
              "      <td>2</td>\n",
              "      <td>0.015237</td>\n",
              "    </tr>\n",
              "    <tr>\n",
              "      <th>3</th>\n",
              "      <td>685687003</td>\n",
              "      <td>2</td>\n",
              "      <td>0.016932</td>\n",
              "    </tr>\n",
              "    <tr>\n",
              "      <th>4</th>\n",
              "      <td>685687004</td>\n",
              "      <td>2</td>\n",
              "      <td>0.016932</td>\n",
              "    </tr>\n",
              "  </tbody>\n",
              "</table>\n",
              "</div>\n",
              "      <button class=\"colab-df-convert\" onclick=\"convertToInteractive('df-deba5295-c83d-4dd0-9492-5737db69099f')\"\n",
              "              title=\"Convert this dataframe to an interactive table.\"\n",
              "              style=\"display:none;\">\n",
              "        \n",
              "  <svg xmlns=\"http://www.w3.org/2000/svg\" height=\"24px\"viewBox=\"0 0 24 24\"\n",
              "       width=\"24px\">\n",
              "    <path d=\"M0 0h24v24H0V0z\" fill=\"none\"/>\n",
              "    <path d=\"M18.56 5.44l.94 2.06.94-2.06 2.06-.94-2.06-.94-.94-2.06-.94 2.06-2.06.94zm-11 1L8.5 8.5l.94-2.06 2.06-.94-2.06-.94L8.5 2.5l-.94 2.06-2.06.94zm10 10l.94 2.06.94-2.06 2.06-.94-2.06-.94-.94-2.06-.94 2.06-2.06.94z\"/><path d=\"M17.41 7.96l-1.37-1.37c-.4-.4-.92-.59-1.43-.59-.52 0-1.04.2-1.43.59L10.3 9.45l-7.72 7.72c-.78.78-.78 2.05 0 2.83L4 21.41c.39.39.9.59 1.41.59.51 0 1.02-.2 1.41-.59l7.78-7.78 2.81-2.81c.8-.78.8-2.07 0-2.86zM5.41 20L4 18.59l7.72-7.72 1.47 1.35L5.41 20z\"/>\n",
              "  </svg>\n",
              "      </button>\n",
              "      \n",
              "  <style>\n",
              "    .colab-df-container {\n",
              "      display:flex;\n",
              "      flex-wrap:wrap;\n",
              "      gap: 12px;\n",
              "    }\n",
              "\n",
              "    .colab-df-convert {\n",
              "      background-color: #E8F0FE;\n",
              "      border: none;\n",
              "      border-radius: 50%;\n",
              "      cursor: pointer;\n",
              "      display: none;\n",
              "      fill: #1967D2;\n",
              "      height: 32px;\n",
              "      padding: 0 0 0 0;\n",
              "      width: 32px;\n",
              "    }\n",
              "\n",
              "    .colab-df-convert:hover {\n",
              "      background-color: #E2EBFA;\n",
              "      box-shadow: 0px 1px 2px rgba(60, 64, 67, 0.3), 0px 1px 3px 1px rgba(60, 64, 67, 0.15);\n",
              "      fill: #174EA6;\n",
              "    }\n",
              "\n",
              "    [theme=dark] .colab-df-convert {\n",
              "      background-color: #3B4455;\n",
              "      fill: #D2E3FC;\n",
              "    }\n",
              "\n",
              "    [theme=dark] .colab-df-convert:hover {\n",
              "      background-color: #434B5C;\n",
              "      box-shadow: 0px 1px 3px 1px rgba(0, 0, 0, 0.15);\n",
              "      filter: drop-shadow(0px 1px 2px rgba(0, 0, 0, 0.3));\n",
              "      fill: #FFFFFF;\n",
              "    }\n",
              "  </style>\n",
              "\n",
              "      <script>\n",
              "        const buttonEl =\n",
              "          document.querySelector('#df-deba5295-c83d-4dd0-9492-5737db69099f button.colab-df-convert');\n",
              "        buttonEl.style.display =\n",
              "          google.colab.kernel.accessAllowed ? 'block' : 'none';\n",
              "\n",
              "        async function convertToInteractive(key) {\n",
              "          const element = document.querySelector('#df-deba5295-c83d-4dd0-9492-5737db69099f');\n",
              "          const dataTable =\n",
              "            await google.colab.kernel.invokeFunction('convertToInteractive',\n",
              "                                                     [key], {});\n",
              "          if (!dataTable) return;\n",
              "\n",
              "          const docLinkHtml = 'Like what you see? Visit the ' +\n",
              "            '<a target=\"_blank\" href=https://colab.research.google.com/notebooks/data_table.ipynb>data table notebook</a>'\n",
              "            + ' to learn more about interactive tables.';\n",
              "          element.innerHTML = '';\n",
              "          dataTable['output_type'] = 'display_data';\n",
              "          await google.colab.output.renderOutput(dataTable, element);\n",
              "          const docLink = document.createElement('div');\n",
              "          docLink.innerHTML = docLinkHtml;\n",
              "          element.appendChild(docLink);\n",
              "        }\n",
              "      </script>\n",
              "    </div>\n",
              "  </div>\n",
              "  "
            ]
          },
          "metadata": {},
          "execution_count": 44
        }
      ],
      "source": [
        "# copy the transaction df\n",
        "df_articleprice = df_transaction[['article_id','sales_channel_id','price']].copy()\n",
        "df_articleprice.head()\n",
        "\n",
        "# check to see shape and other info\n",
        "# df_articleprice.info()\n",
        "\n",
        "df_articleprice = df_articleprice.drop_duplicates()\n",
        "\n",
        "# check to see shape and other info\n",
        "# df_articleprice.info()\n",
        "\n",
        "df_articleprice.head()"
      ]
    },
    {
      "cell_type": "code",
      "execution_count": 45,
      "metadata": {
        "id": "y2n9OlZkcUzz"
      },
      "outputs": [],
      "source": [
        "df_articleprice2 = df_articleprice.groupby(['article_id','sales_channel_id']).mean()[['price']].reset_index()\n",
        "df_articleprice2.rename(columns = {'price':'mean_price'}, inplace = True)\n",
        "df_articleprice2['min_price'] = df_articleprice.groupby(['article_id','sales_channel_id']).min().sort_values(by='article_id', ascending=True)['price'].tolist()\n",
        "df_articleprice2['max_price'] = df_articleprice.groupby(['article_id','sales_channel_id']).max().sort_values(by='article_id', ascending=True)['price'].tolist()\n",
        "\n",
        "df_instore_price = df_articleprice2[df_articleprice2.sales_channel_id ==1]\n",
        "df_online_price = df_articleprice2[df_articleprice2.sales_channel_id ==2]"
      ]
    },
    {
      "cell_type": "code",
      "execution_count": 46,
      "metadata": {
        "colab": {
          "base_uri": "https://localhost:8080/",
          "height": 426
        },
        "id": "yDyK9am9BTY3",
        "outputId": "15d5e7d3-26d4-4207-b142-d67ce6f7431b"
      },
      "outputs": [
        {
          "output_type": "execute_result",
          "data": {
            "text/plain": [
              "<matplotlib.legend.Legend at 0x7ff034835150>"
            ]
          },
          "metadata": {},
          "execution_count": 46
        },
        {
          "output_type": "display_data",
          "data": {
            "text/plain": [
              "<Figure size 576x432 with 1 Axes>"
            ],
            "image/png": "[encoded data removed]"
          },
          "metadata": {
            "needs_background": "light"
          }
        }
      ],
      "source": [
        "plt.figure(figsize=(8,6))\n",
        "plt.hist(df_instore_price['mean_price'], bins=100, alpha=0.5, label=\"Store Mean Price\")\n",
        "plt.hist(df_online_price['mean_price'], bins=100, alpha=0.5, label=\"Online Mean Price\")\n",
        "\n",
        "plt.xlabel(\"Average Price\", size=14)\n",
        "plt.ylabel(\"Count of Articles\", size=14)\n",
        "plt.title(\"Histograms of Price of Items sold Online vs In Store\")\n",
        "plt.legend(loc='upper right')\n",
        "# plt.savefig(\"overlapping_histograms_with_matplotlib_Python.png\")"
      ]
    },
    {
      "cell_type": "markdown",
      "metadata": {
        "id": "edFuGIZcXmls"
      },
      "source": [
        "Items sold online were generally more expensive than items sold in-store."
      ]
    },
    {
      "cell_type": "markdown",
      "metadata": {
        "id": "TrYH4urs_Uj7"
      },
      "source": [
        "### Time Series Plot"
      ]
    },
    {
      "cell_type": "code",
      "execution_count": 47,
      "metadata": {
        "colab": {
          "base_uri": "https://localhost:8080/",
          "height": 461
        },
        "id": "M2HE3OB9GiZj",
        "outputId": "35d12123-d870-4237-875d-615b63def9b4"
      },
      "outputs": [
        {
          "output_type": "stream",
          "name": "stdout",
          "text": [
            "<class 'pandas.core.frame.DataFrame'>\n",
            "RangeIndex: 734 entries, 0 to 733\n",
            "Data columns (total 2 columns):\n",
            " #   Column           Non-Null Count  Dtype         \n",
            "---  ------           --------------  -----         \n",
            " 0   t_dat            734 non-null    datetime64[ns]\n",
            " 1   num_transaction  734 non-null    int64         \n",
            "dtypes: datetime64[ns](1), int64(1)\n",
            "memory usage: 11.6 KB\n"
          ]
        },
        {
          "output_type": "execute_result",
          "data": {
            "text/plain": [
              "       num_transaction\n",
              "count       734.000000\n",
              "mean      43308.343324\n",
              "std       17075.025144\n",
              "min       12760.000000\n",
              "25%       33935.750000\n",
              "50%       39515.500000\n",
              "75%       47447.500000\n",
              "max      198622.000000"
            ],
            "text/html": [
              "\n",
              "  <div id=\"df-98c6885e-01ea-4a14-ba4d-6c6a811f9c70\">\n",
              "    <div class=\"colab-df-container\">\n",
              "      <div>\n",
              "<style scoped>\n",
              "    .dataframe tbody tr th:only-of-type {\n",
              "        vertical-align: middle;\n",
              "    }\n",
              "\n",
              "    .dataframe tbody tr th {\n",
              "        vertical-align: top;\n",
              "    }\n",
              "\n",
              "    .dataframe thead th {\n",
              "        text-align: right;\n",
              "    }\n",
              "</style>\n",
              "<table border=\"1\" class=\"dataframe\">\n",
              "  <thead>\n",
              "    <tr style=\"text-align: right;\">\n",
              "      <th></th>\n",
              "      <th>num_transaction</th>\n",
              "    </tr>\n",
              "  </thead>\n",
              "  <tbody>\n",
              "    <tr>\n",
              "      <th>count</th>\n",
              "      <td>734.000000</td>\n",
              "    </tr>\n",
              "    <tr>\n",
              "      <th>mean</th>\n",
              "      <td>43308.343324</td>\n",
              "    </tr>\n",
              "    <tr>\n",
              "      <th>std</th>\n",
              "      <td>17075.025144</td>\n",
              "    </tr>\n",
              "    <tr>\n",
              "      <th>min</th>\n",
              "      <td>12760.000000</td>\n",
              "    </tr>\n",
              "    <tr>\n",
              "      <th>25%</th>\n",
              "      <td>33935.750000</td>\n",
              "    </tr>\n",
              "    <tr>\n",
              "      <th>50%</th>\n",
              "      <td>39515.500000</td>\n",
              "    </tr>\n",
              "    <tr>\n",
              "      <th>75%</th>\n",
              "      <td>47447.500000</td>\n",
              "    </tr>\n",
              "    <tr>\n",
              "      <th>max</th>\n",
              "      <td>198622.000000</td>\n",
              "    </tr>\n",
              "  </tbody>\n",
              "</table>\n",
              "</div>\n",
              "      <button class=\"colab-df-convert\" onclick=\"convertToInteractive('df-98c6885e-01ea-4a14-ba4d-6c6a811f9c70')\"\n",
              "              title=\"Convert this dataframe to an interactive table.\"\n",
              "              style=\"display:none;\">\n",
              "        \n",
              "  <svg xmlns=\"http://www.w3.org/2000/svg\" height=\"24px\"viewBox=\"0 0 24 24\"\n",
              "       width=\"24px\">\n",
              "    <path d=\"M0 0h24v24H0V0z\" fill=\"none\"/>\n",
              "    <path d=\"M18.56 5.44l.94 2.06.94-2.06 2.06-.94-2.06-.94-.94-2.06-.94 2.06-2.06.94zm-11 1L8.5 8.5l.94-2.06 2.06-.94-2.06-.94L8.5 2.5l-.94 2.06-2.06.94zm10 10l.94 2.06.94-2.06 2.06-.94-2.06-.94-.94-2.06-.94 2.06-2.06.94z\"/><path d=\"M17.41 7.96l-1.37-1.37c-.4-.4-.92-.59-1.43-.59-.52 0-1.04.2-1.43.59L10.3 9.45l-7.72 7.72c-.78.78-.78 2.05 0 2.83L4 21.41c.39.39.9.59 1.41.59.51 0 1.02-.2 1.41-.59l7.78-7.78 2.81-2.81c.8-.78.8-2.07 0-2.86zM5.41 20L4 18.59l7.72-7.72 1.47 1.35L5.41 20z\"/>\n",
              "  </svg>\n",
              "      </button>\n",
              "      \n",
              "  <style>\n",
              "    .colab-df-container {\n",
              "      display:flex;\n",
              "      flex-wrap:wrap;\n",
              "      gap: 12px;\n",
              "    }\n",
              "\n",
              "    .colab-df-convert {\n",
              "      background-color: #E8F0FE;\n",
              "      border: none;\n",
              "      border-radius: 50%;\n",
              "      cursor: pointer;\n",
              "      display: none;\n",
              "      fill: #1967D2;\n",
              "      height: 32px;\n",
              "      padding: 0 0 0 0;\n",
              "      width: 32px;\n",
              "    }\n",
              "\n",
              "    .colab-df-convert:hover {\n",
              "      background-color: #E2EBFA;\n",
              "      box-shadow: 0px 1px 2px rgba(60, 64, 67, 0.3), 0px 1px 3px 1px rgba(60, 64, 67, 0.15);\n",
              "      fill: #174EA6;\n",
              "    }\n",
              "\n",
              "    [theme=dark] .colab-df-convert {\n",
              "      background-color: #3B4455;\n",
              "      fill: #D2E3FC;\n",
              "    }\n",
              "\n",
              "    [theme=dark] .colab-df-convert:hover {\n",
              "      background-color: #434B5C;\n",
              "      box-shadow: 0px 1px 3px 1px rgba(0, 0, 0, 0.15);\n",
              "      filter: drop-shadow(0px 1px 2px rgba(0, 0, 0, 0.3));\n",
              "      fill: #FFFFFF;\n",
              "    }\n",
              "  </style>\n",
              "\n",
              "      <script>\n",
              "        const buttonEl =\n",
              "          document.querySelector('#df-98c6885e-01ea-4a14-ba4d-6c6a811f9c70 button.colab-df-convert');\n",
              "        buttonEl.style.display =\n",
              "          google.colab.kernel.accessAllowed ? 'block' : 'none';\n",
              "\n",
              "        async function convertToInteractive(key) {\n",
              "          const element = document.querySelector('#df-98c6885e-01ea-4a14-ba4d-6c6a811f9c70');\n",
              "          const dataTable =\n",
              "            await google.colab.kernel.invokeFunction('convertToInteractive',\n",
              "                                                     [key], {});\n",
              "          if (!dataTable) return;\n",
              "\n",
              "          const docLinkHtml = 'Like what you see? Visit the ' +\n",
              "            '<a target=\"_blank\" href=https://colab.research.google.com/notebooks/data_table.ipynb>data table notebook</a>'\n",
              "            + ' to learn more about interactive tables.';\n",
              "          element.innerHTML = '';\n",
              "          dataTable['output_type'] = 'display_data';\n",
              "          await google.colab.output.renderOutput(dataTable, element);\n",
              "          const docLink = document.createElement('div');\n",
              "          docLink.innerHTML = docLinkHtml;\n",
              "          element.appendChild(docLink);\n",
              "        }\n",
              "      </script>\n",
              "    </div>\n",
              "  </div>\n",
              "  "
            ]
          },
          "metadata": {},
          "execution_count": 47
        }
      ],
      "source": [
        "df_num_trans = df_transaction.groupby('t_dat').count()[['article_id']].reset_index()\n",
        "df_num_trans.rename(columns = {'article_id':'num_transaction'}, inplace = True)\n",
        "df_num_trans['t_dat'] = df_num_trans['t_dat'].astype(\"datetime64\")\n",
        "\n",
        "df_num_trans.head()\n",
        "df_num_trans.info()\n",
        "df_num_trans.describe()"
      ]
    },
    {
      "cell_type": "code",
      "execution_count": 48,
      "metadata": {
        "colab": {
          "base_uri": "https://localhost:8080/",
          "height": 292
        },
        "id": "iSpv7U2GWU-E",
        "outputId": "ffa3160e-5ca1-44e8-c027-105bdc6a0dc1"
      },
      "outputs": [
        {
          "output_type": "display_data",
          "data": {
            "text/plain": [
              "<Figure size 432x288 with 1 Axes>"
            ],
            "image/png": "[encoded data removed]"
          },
          "metadata": {
            "needs_background": "light"
          }
        }
      ],
      "source": [
        "# plot = df_num_trans[\"num_transaction\"].plot()\n",
        "df_num_trans.plot( 't_dat' , 'num_transaction' )\n",
        "plt.show()"
      ]
    },
    {
      "cell_type": "code",
      "execution_count": 49,
      "metadata": {
        "colab": {
          "base_uri": "https://localhost:8080/",
          "height": 444
        },
        "id": "TdjRzKWwWoSa",
        "outputId": "64e2487d-eb5a-40e2-8725-cb98b4d083fc"
      },
      "outputs": [
        {
          "output_type": "stream",
          "name": "stderr",
          "text": [
            "/usr/local/lib/python3.7/dist-packages/seaborn/_decorators.py:43: FutureWarning: Pass the following variables as keyword args: x, y. From version 0.12, the only valid positional argument will be `data`, and passing other arguments without an explicit keyword will result in an error or misinterpretation.\n",
            "  FutureWarning\n"
          ]
        },
        {
          "output_type": "display_data",
          "data": {
            "text/plain": [
              "<Figure size 864x432 with 1 Axes>"
            ],
            "image/png": "[encoded data removed]"
          },
          "metadata": {
            "needs_background": "light"
          }
        }
      ],
      "source": [
        "# Code from Deep Learning Lectures\n",
        "\n",
        "import seaborn as sns\n",
        "reindexed_df = df_num_trans.copy()\n",
        "reindexed_df = reindexed_df.set_index(\"t_dat\")\n",
        "\n",
        "plt.close()\n",
        "#It is sometimes good to make sure the canvas prior is rendered and plot is closed.\n",
        "\n",
        "fig, ax = plt.subplots(figsize=(12,6))\n",
        "sns.boxplot(reindexed_df.index.month, reindexed_df[\"num_transaction\"], ax=ax)#, width=20)\n",
        "plt.xlabel(\"Months\")\n",
        "plt.show()"
      ]
    }
  ],
  "metadata": {
    "colab": {
      "collapsed_sections": [],
      "provenance": [],
      "toc_visible": true
    },
    "kernelspec": {
      "display_name": "Python 3",
      "name": "python3"
    },
    "language_info": {
      "name": "python"
    }
  },
  "nbformat": 4,
  "nbformat_minor": 0
}