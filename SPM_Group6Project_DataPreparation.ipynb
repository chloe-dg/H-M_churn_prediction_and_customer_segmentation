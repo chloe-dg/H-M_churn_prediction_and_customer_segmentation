{
  "cells": [
    {
      "cell_type": "markdown",
      "metadata": {
        "id": "XMUaaz7vfOo3"
      },
      "source": [
        "# Strategy and Performance Management - Fall 2022 - Group Project\n",
        "## H&M Customer Segmentation and Strategies\n",
        "### Group 6: Thi Anh Ba Dang, Eduardo Garcia, Thu Lam, Carla Weidner\n",
        "\n",
        "---\n",
        "\n"
      ]
    },
    {
      "cell_type": "markdown",
      "metadata": {
        "id": "PmkIl_KR0xFi"
      },
      "source": [
        "# Exploratory Data Analysis"
      ]
    },
    {
      "cell_type": "markdown",
      "metadata": {
        "id": "GktetwuK4xp5"
      },
      "source": [
        "## Importing Data from Kaggle to Colab"
      ]
    },
    {
      "cell_type": "code",
      "execution_count": null,
      "metadata": {
        "colab": {
          "base_uri": "https://localhost:8080/",
          "height": 92
        },
        "id": "dt_azwy1fTg8",
        "outputId": "9165e4fb-32a3-419f-afec-8f6ad905648d"
      },
      "outputs": [],
      "source": [
        "# upload API's key JSON file to \n",
        "\n",
        "from google.colab import files\n",
        "files.upload()"
      ]
    },
    {
      "cell_type": "code",
      "execution_count": null,
      "metadata": {
        "colab": {
          "base_uri": "https://localhost:8080/"
        },
        "id": "gwXnxnLU_ygh",
        "outputId": "47f006e1-91b9-485b-e8ca-c91ce3d0d63c"
      },
      "outputs": [],
      "source": [
        "!mkdir ~/.kaggle\n",
        "!cp kaggle.json ~/.kaggle/\n",
        "!chmod 600 ~/.kaggle/kaggle.json"
      ]
    },
    {
      "cell_type": "code",
      "execution_count": null,
      "metadata": {
        "colab": {
          "base_uri": "https://localhost:8080/"
        },
        "id": "oj5fnSD0Ajnl",
        "outputId": "182dc967-2073-4816-c762-e01953116264"
      },
      "outputs": [],
      "source": [
        "!kaggle competitions download -c h-and-m-personalized-fashion-recommendations --force"
      ]
    },
    {
      "cell_type": "code",
      "execution_count": null,
      "metadata": {
        "id": "uy29jdiDA0mT"
      },
      "outputs": [],
      "source": [
        "!unzip -qq h-and-m-personalized-fashion-recommendations.zip\n"
      ]
    },
    {
      "cell_type": "code",
      "execution_count": null,
      "metadata": {
        "id": "M9flaVoy7HiW"
      },
      "outputs": [],
      "source": [
        "import shutil\n",
        "shutil.rmtree('images')"
      ]
    },
    {
      "cell_type": "markdown",
      "metadata": {
        "id": "BOOSF8G5KV8G"
      },
      "source": [
        "## Import and Load Libraries"
      ]
    },
    {
      "cell_type": "code",
      "execution_count": 23,
      "metadata": {
        "id": "cq7TTKF4Ka-_"
      },
      "outputs": [],
      "source": [
        "import pandas as pd\n",
        "import numpy as np\n",
        "import matplotlib.pyplot as plt\n",
        "\n",
        "#import label encoder\n",
        "from sklearn import preprocessing\n",
        "\n",
        "# import one hot encoder\n",
        "from sklearn.preprocessing import OneHotEncoder"
      ]
    },
    {
      "cell_type": "markdown",
      "metadata": {
        "id": "1oqK57xWoQ6Z"
      },
      "source": [
        "## Cleaning customers.csv\n",
        "\n",
        "This dataset has seven (7) features and 1,371,980 records."
      ]
    },
    {
      "cell_type": "code",
      "execution_count": 45,
      "metadata": {
        "id": "ZrUkmm0yUxfZ"
      },
      "outputs": [],
      "source": [
        "# Load the data\n",
        "df_customers = pd.read_csv('/Users/mythulam/Desktop/Masters/03_Fall_2022/02_Strategy_and_Performance_Management/Session_10_Group_Project/Data/customers.csv')"
      ]
    },
    {
      "cell_type": "code",
      "execution_count": 46,
      "metadata": {
        "colab": {
          "base_uri": "https://localhost:8080/"
        },
        "id": "yTNjGxlVm_Za",
        "outputId": "edf12156-0047-421c-e11c-6e55a40ca324"
      },
      "outputs": [
        {
          "name": "stdout",
          "output_type": "stream",
          "text": [
            "<class 'pandas.core.frame.DataFrame'>\n",
            "RangeIndex: 1371980 entries, 0 to 1371979\n",
            "Data columns (total 7 columns):\n",
            " #   Column                  Non-Null Count    Dtype  \n",
            "---  ------                  --------------    -----  \n",
            " 0   customer_id             1371980 non-null  object \n",
            " 1   FN                      476930 non-null   float64\n",
            " 2   Active                  464404 non-null   float64\n",
            " 3   club_member_status      1365918 non-null  object \n",
            " 4   fashion_news_frequency  1355971 non-null  object \n",
            " 5   age                     1356119 non-null  float64\n",
            " 6   postal_code             1371980 non-null  object \n",
            "dtypes: float64(3), object(4)\n",
            "memory usage: 73.3+ MB\n"
          ]
        }
      ],
      "source": [
        "df_customers.info()"
      ]
    },
    {
      "cell_type": "code",
      "execution_count": 47,
      "metadata": {
        "id": "xcez2Wunl0N_"
      },
      "outputs": [],
      "source": [
        "# data cleaning\n",
        "df_customers['FN'] = df_customers['FN'].fillna(0)   #fill nulls/NaN with 0\n",
        "df_customers['Active'] = df_customers['Active'].fillna(0) #fill nulls/NaN with 0\n",
        "df_customers['fashion_news_frequency'] = df_customers['fashion_news_frequency'].replace('None', np.NaN)\n",
        "df_customers['fashion_news_frequency'] = df_customers['fashion_news_frequency'].replace('NONE', np.NaN)\n",
        "df_customers['age'] = df_customers['age'].fillna(df_customers['age'].median())   #fill nulls/NaN with median age\n",
        "df_customers.drop(\"postal_code\", axis=1, inplace=True) #drop the postal code field\n",
        "\n",
        "# one hot encoding\n",
        "obj_cols = df_customers.select_dtypes(\"object\").columns.to_list()\n",
        "obj_cols.remove('customer_id')\n",
        "df_cust_new = pd.get_dummies(df_customers, columns=obj_cols, drop_first=False) \n",
        "\n",
        "# view df\n",
        "# df_cust_new.head()\n",
        "# df_cust_new.info()\n",
        "# df_cust_new.describe()"
      ]
    },
    {
      "cell_type": "markdown",
      "metadata": {
        "id": "gILtCQZPq1Pe"
      },
      "source": [
        "## Cleaning articles.csv\n",
        "This dataset contains 25 features and 105,542 records."
      ]
    },
    {
      "cell_type": "code",
      "execution_count": 48,
      "metadata": {
        "id": "nd4IZjkxq5S3"
      },
      "outputs": [],
      "source": [
        "# Load the data\n",
        "df_articles = pd.read_csv('/Users/mythulam/Desktop/Masters/03_Fall_2022/02_Strategy_and_Performance_Management/Session_10_Group_Project/Data/articles.csv')\n",
        "\n",
        "# extract columns to make new df\n",
        "df_arti_new = df_articles[['article_id', 'index_name']]\n",
        "\n",
        "# view new df\n",
        "# df_arti_new.info()\n",
        "# df_arti_new.head()"
      ]
    },
    {
      "cell_type": "markdown",
      "metadata": {
        "id": "VLh7QTnatz4f"
      },
      "source": [
        "# merge new articles.csv with transactions.csv"
      ]
    },
    {
      "cell_type": "code",
      "execution_count": 49,
      "metadata": {
        "colab": {
          "base_uri": "https://localhost:8080/",
          "height": 468
        },
        "id": "x6-pH4qAuAbP",
        "outputId": "61b031ce-7817-457b-ceb1-21657af7c869"
      },
      "outputs": [],
      "source": [
        "# Load the data\n",
        "df_transaction = pd.read_csv('/Users/mythulam/Desktop/Masters/03_Fall_2022/02_Strategy_and_Performance_Management/Session_10_Group_Project/Data/transactions_train.csv')\n",
        "\n",
        "# copy df and merge to articles to get index name\n",
        "df_trans_new = df_transaction.copy()\n",
        "df_trans_new = df_trans_new.merge(df_arti_new, on='article_id', how='left', indicator=False)\n",
        "\n",
        "# change date type\n",
        "df_trans_new['t_dat'] = df_trans_new['t_dat'].astype(\"datetime64\")\n",
        "\n",
        "# view df\n",
        "# df_trans_new.head()"
      ]
    },
    {
      "cell_type": "code",
      "execution_count": 50,
      "metadata": {},
      "outputs": [
        {
          "data": {
            "text/plain": [
              "index_name\n",
              "Baby Sizes 50-98                    254137\n",
              "Children Accessories, Swimwear      109191\n",
              "Children Sizes 134-170              503507\n",
              "Children Sizes 92-140               350514\n",
              "Divided                            7138254\n",
              "Ladies Accessories                 1774731\n",
              "Ladieswear                        13058283\n",
              "Lingeries/Tights                   5582246\n",
              "Menswear                           1771053\n",
              "Sport                              1246408\n",
              "dtype: int64"
            ]
          },
          "execution_count": 50,
          "metadata": {},
          "output_type": "execute_result"
        }
      ],
      "source": [
        "df_trans_new.groupby(['index_name']).size()"
      ]
    },
    {
      "cell_type": "markdown",
      "metadata": {
        "id": "y9tNy3AO1h27"
      },
      "source": [
        "## Aggregating Transaction Data by Customer ID\n",
        "\n",
        "new columns:\n",
        "\n",
        "\n",
        "*   Number of in-store transactions\n",
        "*   Number of online transactions\n",
        "*   Percent in-store purchases\n",
        "*   Sum of total transaction prices\n",
        "\n",
        "For all 10 index names:\n",
        "*   Number of index name category transactions\n",
        "*   Sum of index name category transactions prices (MAYBE)\n",
        "\n",
        "For all 12 months:\n",
        "*   Number of transactions per month\n",
        "*   Sum of transaction prices per month (MAYBE)\n",
        "\n"
      ]
    },
    {
      "cell_type": "code",
      "execution_count": 51,
      "metadata": {},
      "outputs": [
        {
          "data": {
            "text/html": [
              "<div>\n",
              "<style scoped>\n",
              "    .dataframe tbody tr th:only-of-type {\n",
              "        vertical-align: middle;\n",
              "    }\n",
              "\n",
              "    .dataframe tbody tr th {\n",
              "        vertical-align: top;\n",
              "    }\n",
              "\n",
              "    .dataframe thead th {\n",
              "        text-align: right;\n",
              "    }\n",
              "</style>\n",
              "<table border=\"1\" class=\"dataframe\">\n",
              "  <thead>\n",
              "    <tr style=\"text-align: right;\">\n",
              "      <th>sales_channel_id</th>\n",
              "      <th>num_instore</th>\n",
              "      <th>num_online</th>\n",
              "      <th>total_trans</th>\n",
              "      <th>perc_instore</th>\n",
              "      <th>total_spent</th>\n",
              "    </tr>\n",
              "    <tr>\n",
              "      <th>customer_id</th>\n",
              "      <th></th>\n",
              "      <th></th>\n",
              "      <th></th>\n",
              "      <th></th>\n",
              "      <th></th>\n",
              "    </tr>\n",
              "  </thead>\n",
              "  <tbody>\n",
              "    <tr>\n",
              "      <th>00000dbacae5abe5e23885899a1fa44253a17956c6d1c3d25f88aa139fdfc657</th>\n",
              "      <td>9.0</td>\n",
              "      <td>12.0</td>\n",
              "      <td>21.0</td>\n",
              "      <td>0.428571</td>\n",
              "      <td>0.648983</td>\n",
              "    </tr>\n",
              "    <tr>\n",
              "      <th>0000423b00ade91418cceaf3b26c6af3dd342b51fd051eec9c12fb36984420fa</th>\n",
              "      <td>5.0</td>\n",
              "      <td>81.0</td>\n",
              "      <td>86.0</td>\n",
              "      <td>0.058140</td>\n",
              "      <td>2.601932</td>\n",
              "    </tr>\n",
              "    <tr>\n",
              "      <th>000058a12d5b43e67d225668fa1f8d618c13dc232df0cad8ffe7ad4a1091e318</th>\n",
              "      <td>0.0</td>\n",
              "      <td>18.0</td>\n",
              "      <td>18.0</td>\n",
              "      <td>0.000000</td>\n",
              "      <td>0.704780</td>\n",
              "    </tr>\n",
              "    <tr>\n",
              "      <th>00005ca1c9ed5f5146b52ac8639a40ca9d57aeff4d1bd2c5feb1ca5dff07c43e</th>\n",
              "      <td>0.0</td>\n",
              "      <td>2.0</td>\n",
              "      <td>2.0</td>\n",
              "      <td>0.000000</td>\n",
              "      <td>0.060983</td>\n",
              "    </tr>\n",
              "    <tr>\n",
              "      <th>00006413d8573cd20ed7128e53b7b13819fe5cfc2d801fe7fc0f26dd8d65a85a</th>\n",
              "      <td>2.0</td>\n",
              "      <td>11.0</td>\n",
              "      <td>13.0</td>\n",
              "      <td>0.153846</td>\n",
              "      <td>0.469695</td>\n",
              "    </tr>\n",
              "  </tbody>\n",
              "</table>\n",
              "</div>"
            ],
            "text/plain": [
              "sales_channel_id                                    num_instore  num_online  \\\n",
              "customer_id                                                                   \n",
              "00000dbacae5abe5e23885899a1fa44253a17956c6d1c3d...          9.0        12.0   \n",
              "0000423b00ade91418cceaf3b26c6af3dd342b51fd051ee...          5.0        81.0   \n",
              "000058a12d5b43e67d225668fa1f8d618c13dc232df0cad...          0.0        18.0   \n",
              "00005ca1c9ed5f5146b52ac8639a40ca9d57aeff4d1bd2c...          0.0         2.0   \n",
              "00006413d8573cd20ed7128e53b7b13819fe5cfc2d801fe...          2.0        11.0   \n",
              "\n",
              "sales_channel_id                                    total_trans  perc_instore  \\\n",
              "customer_id                                                                     \n",
              "00000dbacae5abe5e23885899a1fa44253a17956c6d1c3d...         21.0      0.428571   \n",
              "0000423b00ade91418cceaf3b26c6af3dd342b51fd051ee...         86.0      0.058140   \n",
              "000058a12d5b43e67d225668fa1f8d618c13dc232df0cad...         18.0      0.000000   \n",
              "00005ca1c9ed5f5146b52ac8639a40ca9d57aeff4d1bd2c...          2.0      0.000000   \n",
              "00006413d8573cd20ed7128e53b7b13819fe5cfc2d801fe...         13.0      0.153846   \n",
              "\n",
              "sales_channel_id                                    total_spent  \n",
              "customer_id                                                      \n",
              "00000dbacae5abe5e23885899a1fa44253a17956c6d1c3d...     0.648983  \n",
              "0000423b00ade91418cceaf3b26c6af3dd342b51fd051ee...     2.601932  \n",
              "000058a12d5b43e67d225668fa1f8d618c13dc232df0cad...     0.704780  \n",
              "00005ca1c9ed5f5146b52ac8639a40ca9d57aeff4d1bd2c...     0.060983  \n",
              "00006413d8573cd20ed7128e53b7b13819fe5cfc2d801fe...     0.469695  "
            ]
          },
          "execution_count": 51,
          "metadata": {},
          "output_type": "execute_result"
        }
      ],
      "source": [
        "# create first customer df based on transactions\n",
        "df_cust_trans = df_trans_new.groupby(['customer_id','sales_channel_id']).size()\n",
        "df_cust_trans = df_cust_trans.unstack()\n",
        "df_cust_trans.rename(columns = {1:'num_instore', 2:'num_online'}, inplace = True)\n",
        "df_cust_trans = df_cust_trans.fillna(0)\n",
        "\n",
        "# add more columns\n",
        "df_cust_trans['total_trans'] = df_cust_trans['num_instore'] + df_cust_trans['num_online']\n",
        "df_cust_trans['perc_instore'] = df_cust_trans['num_instore'] / df_cust_trans['total_trans']\n",
        "df_cust_trans['total_spent'] = df_trans_new.groupby('customer_id').sum()['price'].tolist()\n",
        "\n",
        "#view df\n",
        "df_cust_trans.head()"
      ]
    },
    {
      "cell_type": "code",
      "execution_count": 52,
      "metadata": {},
      "outputs": [
        {
          "data": {
            "text/html": [
              "<div>\n",
              "<style scoped>\n",
              "    .dataframe tbody tr th:only-of-type {\n",
              "        vertical-align: middle;\n",
              "    }\n",
              "\n",
              "    .dataframe tbody tr th {\n",
              "        vertical-align: top;\n",
              "    }\n",
              "\n",
              "    .dataframe thead th {\n",
              "        text-align: right;\n",
              "    }\n",
              "</style>\n",
              "<table border=\"1\" class=\"dataframe\">\n",
              "  <thead>\n",
              "    <tr style=\"text-align: right;\">\n",
              "      <th>index_name</th>\n",
              "      <th>num_bb50_98</th>\n",
              "      <th>num_child_acc</th>\n",
              "      <th>num_child134_170</th>\n",
              "      <th>num_child92_140</th>\n",
              "      <th>num_divided</th>\n",
              "      <th>num_ladies_acc</th>\n",
              "      <th>num_ladies</th>\n",
              "      <th>num_lingeries</th>\n",
              "      <th>num_mens</th>\n",
              "      <th>num_sport</th>\n",
              "    </tr>\n",
              "    <tr>\n",
              "      <th>customer_id</th>\n",
              "      <th></th>\n",
              "      <th></th>\n",
              "      <th></th>\n",
              "      <th></th>\n",
              "      <th></th>\n",
              "      <th></th>\n",
              "      <th></th>\n",
              "      <th></th>\n",
              "      <th></th>\n",
              "      <th></th>\n",
              "    </tr>\n",
              "  </thead>\n",
              "  <tbody>\n",
              "    <tr>\n",
              "      <th>00000dbacae5abe5e23885899a1fa44253a17956c6d1c3d25f88aa139fdfc657</th>\n",
              "      <td>0.0</td>\n",
              "      <td>1.0</td>\n",
              "      <td>2.0</td>\n",
              "      <td>2.0</td>\n",
              "      <td>2.0</td>\n",
              "      <td>0.0</td>\n",
              "      <td>13.0</td>\n",
              "      <td>0.0</td>\n",
              "      <td>1.0</td>\n",
              "      <td>0.0</td>\n",
              "    </tr>\n",
              "    <tr>\n",
              "      <th>0000423b00ade91418cceaf3b26c6af3dd342b51fd051eec9c12fb36984420fa</th>\n",
              "      <td>4.0</td>\n",
              "      <td>0.0</td>\n",
              "      <td>0.0</td>\n",
              "      <td>0.0</td>\n",
              "      <td>19.0</td>\n",
              "      <td>6.0</td>\n",
              "      <td>20.0</td>\n",
              "      <td>36.0</td>\n",
              "      <td>0.0</td>\n",
              "      <td>1.0</td>\n",
              "    </tr>\n",
              "    <tr>\n",
              "      <th>000058a12d5b43e67d225668fa1f8d618c13dc232df0cad8ffe7ad4a1091e318</th>\n",
              "      <td>0.0</td>\n",
              "      <td>0.0</td>\n",
              "      <td>0.0</td>\n",
              "      <td>0.0</td>\n",
              "      <td>1.0</td>\n",
              "      <td>0.0</td>\n",
              "      <td>6.0</td>\n",
              "      <td>6.0</td>\n",
              "      <td>4.0</td>\n",
              "      <td>1.0</td>\n",
              "    </tr>\n",
              "    <tr>\n",
              "      <th>00005ca1c9ed5f5146b52ac8639a40ca9d57aeff4d1bd2c5feb1ca5dff07c43e</th>\n",
              "      <td>0.0</td>\n",
              "      <td>0.0</td>\n",
              "      <td>0.0</td>\n",
              "      <td>0.0</td>\n",
              "      <td>0.0</td>\n",
              "      <td>0.0</td>\n",
              "      <td>0.0</td>\n",
              "      <td>0.0</td>\n",
              "      <td>0.0</td>\n",
              "      <td>2.0</td>\n",
              "    </tr>\n",
              "    <tr>\n",
              "      <th>00006413d8573cd20ed7128e53b7b13819fe5cfc2d801fe7fc0f26dd8d65a85a</th>\n",
              "      <td>0.0</td>\n",
              "      <td>0.0</td>\n",
              "      <td>0.0</td>\n",
              "      <td>0.0</td>\n",
              "      <td>0.0</td>\n",
              "      <td>0.0</td>\n",
              "      <td>6.0</td>\n",
              "      <td>5.0</td>\n",
              "      <td>0.0</td>\n",
              "      <td>2.0</td>\n",
              "    </tr>\n",
              "  </tbody>\n",
              "</table>\n",
              "</div>"
            ],
            "text/plain": [
              "index_name                                          num_bb50_98  \\\n",
              "customer_id                                                       \n",
              "00000dbacae5abe5e23885899a1fa44253a17956c6d1c3d...          0.0   \n",
              "0000423b00ade91418cceaf3b26c6af3dd342b51fd051ee...          4.0   \n",
              "000058a12d5b43e67d225668fa1f8d618c13dc232df0cad...          0.0   \n",
              "00005ca1c9ed5f5146b52ac8639a40ca9d57aeff4d1bd2c...          0.0   \n",
              "00006413d8573cd20ed7128e53b7b13819fe5cfc2d801fe...          0.0   \n",
              "\n",
              "index_name                                          num_child_acc  \\\n",
              "customer_id                                                         \n",
              "00000dbacae5abe5e23885899a1fa44253a17956c6d1c3d...            1.0   \n",
              "0000423b00ade91418cceaf3b26c6af3dd342b51fd051ee...            0.0   \n",
              "000058a12d5b43e67d225668fa1f8d618c13dc232df0cad...            0.0   \n",
              "00005ca1c9ed5f5146b52ac8639a40ca9d57aeff4d1bd2c...            0.0   \n",
              "00006413d8573cd20ed7128e53b7b13819fe5cfc2d801fe...            0.0   \n",
              "\n",
              "index_name                                          num_child134_170  \\\n",
              "customer_id                                                            \n",
              "00000dbacae5abe5e23885899a1fa44253a17956c6d1c3d...               2.0   \n",
              "0000423b00ade91418cceaf3b26c6af3dd342b51fd051ee...               0.0   \n",
              "000058a12d5b43e67d225668fa1f8d618c13dc232df0cad...               0.0   \n",
              "00005ca1c9ed5f5146b52ac8639a40ca9d57aeff4d1bd2c...               0.0   \n",
              "00006413d8573cd20ed7128e53b7b13819fe5cfc2d801fe...               0.0   \n",
              "\n",
              "index_name                                          num_child92_140  \\\n",
              "customer_id                                                           \n",
              "00000dbacae5abe5e23885899a1fa44253a17956c6d1c3d...              2.0   \n",
              "0000423b00ade91418cceaf3b26c6af3dd342b51fd051ee...              0.0   \n",
              "000058a12d5b43e67d225668fa1f8d618c13dc232df0cad...              0.0   \n",
              "00005ca1c9ed5f5146b52ac8639a40ca9d57aeff4d1bd2c...              0.0   \n",
              "00006413d8573cd20ed7128e53b7b13819fe5cfc2d801fe...              0.0   \n",
              "\n",
              "index_name                                          num_divided  \\\n",
              "customer_id                                                       \n",
              "00000dbacae5abe5e23885899a1fa44253a17956c6d1c3d...          2.0   \n",
              "0000423b00ade91418cceaf3b26c6af3dd342b51fd051ee...         19.0   \n",
              "000058a12d5b43e67d225668fa1f8d618c13dc232df0cad...          1.0   \n",
              "00005ca1c9ed5f5146b52ac8639a40ca9d57aeff4d1bd2c...          0.0   \n",
              "00006413d8573cd20ed7128e53b7b13819fe5cfc2d801fe...          0.0   \n",
              "\n",
              "index_name                                          num_ladies_acc  \\\n",
              "customer_id                                                          \n",
              "00000dbacae5abe5e23885899a1fa44253a17956c6d1c3d...             0.0   \n",
              "0000423b00ade91418cceaf3b26c6af3dd342b51fd051ee...             6.0   \n",
              "000058a12d5b43e67d225668fa1f8d618c13dc232df0cad...             0.0   \n",
              "00005ca1c9ed5f5146b52ac8639a40ca9d57aeff4d1bd2c...             0.0   \n",
              "00006413d8573cd20ed7128e53b7b13819fe5cfc2d801fe...             0.0   \n",
              "\n",
              "index_name                                          num_ladies  num_lingeries  \\\n",
              "customer_id                                                                     \n",
              "00000dbacae5abe5e23885899a1fa44253a17956c6d1c3d...        13.0            0.0   \n",
              "0000423b00ade91418cceaf3b26c6af3dd342b51fd051ee...        20.0           36.0   \n",
              "000058a12d5b43e67d225668fa1f8d618c13dc232df0cad...         6.0            6.0   \n",
              "00005ca1c9ed5f5146b52ac8639a40ca9d57aeff4d1bd2c...         0.0            0.0   \n",
              "00006413d8573cd20ed7128e53b7b13819fe5cfc2d801fe...         6.0            5.0   \n",
              "\n",
              "index_name                                          num_mens  num_sport  \n",
              "customer_id                                                              \n",
              "00000dbacae5abe5e23885899a1fa44253a17956c6d1c3d...       1.0        0.0  \n",
              "0000423b00ade91418cceaf3b26c6af3dd342b51fd051ee...       0.0        1.0  \n",
              "000058a12d5b43e67d225668fa1f8d618c13dc232df0cad...       4.0        1.0  \n",
              "00005ca1c9ed5f5146b52ac8639a40ca9d57aeff4d1bd2c...       0.0        2.0  \n",
              "00006413d8573cd20ed7128e53b7b13819fe5cfc2d801fe...       0.0        2.0  "
            ]
          },
          "execution_count": 52,
          "metadata": {},
          "output_type": "execute_result"
        }
      ],
      "source": [
        "# dataframe of customer by index (number of transactions)\n",
        "df_ct_index = df_trans_new.groupby(['customer_id','index_name']).size()\n",
        "df_ct_index = df_ct_index.unstack()\n",
        "df_ct_index.rename(columns = {'Ladieswear':'num_ladies', 'Lingeries/Tights':'num_lingeries','Baby Sizes 50-98':'num_bb50_98', 'Menswear': 'num_mens',\n",
        "       'Ladies Accessories':'num_ladies_acc', 'Sport':'num_sport', 'Children Sizes 92-140':'num_child92_140', 'Divided':'num_divided',\n",
        "       'Children Sizes 134-170':'num_child134_170', 'Children Accessories, Swimwear':'num_child_acc' }, inplace = True)\n",
        "df_ct_index = df_ct_index.fillna(0)\n",
        "\n",
        "# view df\n",
        "df_ct_index.head()"
      ]
    },
    {
      "cell_type": "code",
      "execution_count": 53,
      "metadata": {},
      "outputs": [
        {
          "data": {
            "text/html": [
              "<div>\n",
              "<style scoped>\n",
              "    .dataframe tbody tr th:only-of-type {\n",
              "        vertical-align: middle;\n",
              "    }\n",
              "\n",
              "    .dataframe tbody tr th {\n",
              "        vertical-align: top;\n",
              "    }\n",
              "\n",
              "    .dataframe thead th {\n",
              "        text-align: right;\n",
              "    }\n",
              "</style>\n",
              "<table border=\"1\" class=\"dataframe\">\n",
              "  <thead>\n",
              "    <tr style=\"text-align: right;\">\n",
              "      <th>index_name</th>\n",
              "      <th>price_bb50_98</th>\n",
              "      <th>price_child_acc</th>\n",
              "      <th>price_child134_170</th>\n",
              "      <th>price_child92_140</th>\n",
              "      <th>price_divided</th>\n",
              "      <th>price_ladies_acc</th>\n",
              "      <th>price_ladies</th>\n",
              "      <th>price_lingeries</th>\n",
              "      <th>price_mens</th>\n",
              "      <th>price_sport</th>\n",
              "    </tr>\n",
              "    <tr>\n",
              "      <th>customer_id</th>\n",
              "      <th></th>\n",
              "      <th></th>\n",
              "      <th></th>\n",
              "      <th></th>\n",
              "      <th></th>\n",
              "      <th></th>\n",
              "      <th></th>\n",
              "      <th></th>\n",
              "      <th></th>\n",
              "      <th></th>\n",
              "    </tr>\n",
              "  </thead>\n",
              "  <tbody>\n",
              "    <tr>\n",
              "      <th>00000dbacae5abe5e23885899a1fa44253a17956c6d1c3d25f88aa139fdfc657</th>\n",
              "      <td>0.000000</td>\n",
              "      <td>0.018288</td>\n",
              "      <td>0.060983</td>\n",
              "      <td>0.040644</td>\n",
              "      <td>0.052932</td>\n",
              "      <td>0.000000</td>\n",
              "      <td>0.440559</td>\n",
              "      <td>0.000000</td>\n",
              "      <td>0.035576</td>\n",
              "      <td>0.000000</td>\n",
              "    </tr>\n",
              "    <tr>\n",
              "      <th>0000423b00ade91418cceaf3b26c6af3dd342b51fd051eec9c12fb36984420fa</th>\n",
              "      <td>0.089763</td>\n",
              "      <td>0.000000</td>\n",
              "      <td>0.000000</td>\n",
              "      <td>0.000000</td>\n",
              "      <td>0.826797</td>\n",
              "      <td>0.230407</td>\n",
              "      <td>0.603051</td>\n",
              "      <td>0.829898</td>\n",
              "      <td>0.000000</td>\n",
              "      <td>0.022017</td>\n",
              "    </tr>\n",
              "    <tr>\n",
              "      <th>000058a12d5b43e67d225668fa1f8d618c13dc232df0cad8ffe7ad4a1091e318</th>\n",
              "      <td>0.000000</td>\n",
              "      <td>0.000000</td>\n",
              "      <td>0.000000</td>\n",
              "      <td>0.000000</td>\n",
              "      <td>0.030492</td>\n",
              "      <td>0.000000</td>\n",
              "      <td>0.225322</td>\n",
              "      <td>0.201593</td>\n",
              "      <td>0.186373</td>\n",
              "      <td>0.061000</td>\n",
              "    </tr>\n",
              "    <tr>\n",
              "      <th>00005ca1c9ed5f5146b52ac8639a40ca9d57aeff4d1bd2c5feb1ca5dff07c43e</th>\n",
              "      <td>0.000000</td>\n",
              "      <td>0.000000</td>\n",
              "      <td>0.000000</td>\n",
              "      <td>0.000000</td>\n",
              "      <td>0.000000</td>\n",
              "      <td>0.000000</td>\n",
              "      <td>0.000000</td>\n",
              "      <td>0.000000</td>\n",
              "      <td>0.000000</td>\n",
              "      <td>0.060983</td>\n",
              "    </tr>\n",
              "    <tr>\n",
              "      <th>00006413d8573cd20ed7128e53b7b13819fe5cfc2d801fe7fc0f26dd8d65a85a</th>\n",
              "      <td>0.000000</td>\n",
              "      <td>0.000000</td>\n",
              "      <td>0.000000</td>\n",
              "      <td>0.000000</td>\n",
              "      <td>0.000000</td>\n",
              "      <td>0.000000</td>\n",
              "      <td>0.246085</td>\n",
              "      <td>0.169407</td>\n",
              "      <td>0.000000</td>\n",
              "      <td>0.054203</td>\n",
              "    </tr>\n",
              "  </tbody>\n",
              "</table>\n",
              "</div>"
            ],
            "text/plain": [
              "index_name                                          price_bb50_98  \\\n",
              "customer_id                                                         \n",
              "00000dbacae5abe5e23885899a1fa44253a17956c6d1c3d...       0.000000   \n",
              "0000423b00ade91418cceaf3b26c6af3dd342b51fd051ee...       0.089763   \n",
              "000058a12d5b43e67d225668fa1f8d618c13dc232df0cad...       0.000000   \n",
              "00005ca1c9ed5f5146b52ac8639a40ca9d57aeff4d1bd2c...       0.000000   \n",
              "00006413d8573cd20ed7128e53b7b13819fe5cfc2d801fe...       0.000000   \n",
              "\n",
              "index_name                                          price_child_acc  \\\n",
              "customer_id                                                           \n",
              "00000dbacae5abe5e23885899a1fa44253a17956c6d1c3d...         0.018288   \n",
              "0000423b00ade91418cceaf3b26c6af3dd342b51fd051ee...         0.000000   \n",
              "000058a12d5b43e67d225668fa1f8d618c13dc232df0cad...         0.000000   \n",
              "00005ca1c9ed5f5146b52ac8639a40ca9d57aeff4d1bd2c...         0.000000   \n",
              "00006413d8573cd20ed7128e53b7b13819fe5cfc2d801fe...         0.000000   \n",
              "\n",
              "index_name                                          price_child134_170  \\\n",
              "customer_id                                                              \n",
              "00000dbacae5abe5e23885899a1fa44253a17956c6d1c3d...            0.060983   \n",
              "0000423b00ade91418cceaf3b26c6af3dd342b51fd051ee...            0.000000   \n",
              "000058a12d5b43e67d225668fa1f8d618c13dc232df0cad...            0.000000   \n",
              "00005ca1c9ed5f5146b52ac8639a40ca9d57aeff4d1bd2c...            0.000000   \n",
              "00006413d8573cd20ed7128e53b7b13819fe5cfc2d801fe...            0.000000   \n",
              "\n",
              "index_name                                          price_child92_140  \\\n",
              "customer_id                                                             \n",
              "00000dbacae5abe5e23885899a1fa44253a17956c6d1c3d...           0.040644   \n",
              "0000423b00ade91418cceaf3b26c6af3dd342b51fd051ee...           0.000000   \n",
              "000058a12d5b43e67d225668fa1f8d618c13dc232df0cad...           0.000000   \n",
              "00005ca1c9ed5f5146b52ac8639a40ca9d57aeff4d1bd2c...           0.000000   \n",
              "00006413d8573cd20ed7128e53b7b13819fe5cfc2d801fe...           0.000000   \n",
              "\n",
              "index_name                                          price_divided  \\\n",
              "customer_id                                                         \n",
              "00000dbacae5abe5e23885899a1fa44253a17956c6d1c3d...       0.052932   \n",
              "0000423b00ade91418cceaf3b26c6af3dd342b51fd051ee...       0.826797   \n",
              "000058a12d5b43e67d225668fa1f8d618c13dc232df0cad...       0.030492   \n",
              "00005ca1c9ed5f5146b52ac8639a40ca9d57aeff4d1bd2c...       0.000000   \n",
              "00006413d8573cd20ed7128e53b7b13819fe5cfc2d801fe...       0.000000   \n",
              "\n",
              "index_name                                          price_ladies_acc  \\\n",
              "customer_id                                                            \n",
              "00000dbacae5abe5e23885899a1fa44253a17956c6d1c3d...          0.000000   \n",
              "0000423b00ade91418cceaf3b26c6af3dd342b51fd051ee...          0.230407   \n",
              "000058a12d5b43e67d225668fa1f8d618c13dc232df0cad...          0.000000   \n",
              "00005ca1c9ed5f5146b52ac8639a40ca9d57aeff4d1bd2c...          0.000000   \n",
              "00006413d8573cd20ed7128e53b7b13819fe5cfc2d801fe...          0.000000   \n",
              "\n",
              "index_name                                          price_ladies  \\\n",
              "customer_id                                                        \n",
              "00000dbacae5abe5e23885899a1fa44253a17956c6d1c3d...      0.440559   \n",
              "0000423b00ade91418cceaf3b26c6af3dd342b51fd051ee...      0.603051   \n",
              "000058a12d5b43e67d225668fa1f8d618c13dc232df0cad...      0.225322   \n",
              "00005ca1c9ed5f5146b52ac8639a40ca9d57aeff4d1bd2c...      0.000000   \n",
              "00006413d8573cd20ed7128e53b7b13819fe5cfc2d801fe...      0.246085   \n",
              "\n",
              "index_name                                          price_lingeries  \\\n",
              "customer_id                                                           \n",
              "00000dbacae5abe5e23885899a1fa44253a17956c6d1c3d...         0.000000   \n",
              "0000423b00ade91418cceaf3b26c6af3dd342b51fd051ee...         0.829898   \n",
              "000058a12d5b43e67d225668fa1f8d618c13dc232df0cad...         0.201593   \n",
              "00005ca1c9ed5f5146b52ac8639a40ca9d57aeff4d1bd2c...         0.000000   \n",
              "00006413d8573cd20ed7128e53b7b13819fe5cfc2d801fe...         0.169407   \n",
              "\n",
              "index_name                                          price_mens  price_sport  \n",
              "customer_id                                                                  \n",
              "00000dbacae5abe5e23885899a1fa44253a17956c6d1c3d...    0.035576     0.000000  \n",
              "0000423b00ade91418cceaf3b26c6af3dd342b51fd051ee...    0.000000     0.022017  \n",
              "000058a12d5b43e67d225668fa1f8d618c13dc232df0cad...    0.186373     0.061000  \n",
              "00005ca1c9ed5f5146b52ac8639a40ca9d57aeff4d1bd2c...    0.000000     0.060983  \n",
              "00006413d8573cd20ed7128e53b7b13819fe5cfc2d801fe...    0.000000     0.054203  "
            ]
          },
          "execution_count": 53,
          "metadata": {},
          "output_type": "execute_result"
        }
      ],
      "source": [
        "# dataframe of customer by index (sum of price of transactions)\n",
        "df_ct_indexp = df_trans_new.groupby(['customer_id','index_name']).sum()['price']\n",
        "df_ct_indexp = df_ct_indexp.unstack()\n",
        "df_ct_indexp.rename(columns = {'Ladieswear':'price_ladies', 'Lingeries/Tights':'price_lingeries','Baby Sizes 50-98':'price_bb50_98', 'Menswear': 'price_mens',\n",
        "       'Ladies Accessories':'price_ladies_acc', 'Sport':'price_sport', 'Children Sizes 92-140':'price_child92_140', 'Divided':'price_divided',\n",
        "       'Children Sizes 134-170':'price_child134_170', 'Children Accessories, Swimwear':'price_child_acc' }, inplace = True)\n",
        "df_ct_indexp = df_ct_indexp.fillna(0)\n",
        "\n",
        "# view df\n",
        "df_ct_indexp.head()"
      ]
    },
    {
      "cell_type": "code",
      "execution_count": 35,
      "metadata": {},
      "outputs": [
        {
          "ename": "KeyboardInterrupt",
          "evalue": "",
          "output_type": "error",
          "traceback": [
            "\u001b[0;31m---------------------------------------------------------------------------\u001b[0m",
            "\u001b[0;31mKeyboardInterrupt\u001b[0m                         Traceback (most recent call last)",
            "\u001b[1;32m/Users/mythulam/Desktop/Masters/03_Fall_2022/02_Strategy_and_Performance_Management/Session_10_Group_Project/SPM_Group6Project_DataPreparation.ipynb Cell 24\u001b[0m in \u001b[0;36m<cell line: 2>\u001b[0;34m()\u001b[0m\n\u001b[1;32m      <a href='vscode-notebook-cell:/Users/mythulam/Desktop/Masters/03_Fall_2022/02_Strategy_and_Performance_Management/Session_10_Group_Project/SPM_Group6Project_DataPreparation.ipynb#X32sZmlsZQ%3D%3D?line=0'>1</a>\u001b[0m \u001b[39m# create new month column in transaction df\u001b[39;00m\n\u001b[0;32m----> <a href='vscode-notebook-cell:/Users/mythulam/Desktop/Masters/03_Fall_2022/02_Strategy_and_Performance_Management/Session_10_Group_Project/SPM_Group6Project_DataPreparation.ipynb#X32sZmlsZQ%3D%3D?line=1'>2</a>\u001b[0m df_trans_new[\u001b[39m'\u001b[39m\u001b[39mmonth\u001b[39m\u001b[39m'\u001b[39m] \u001b[39m=\u001b[39m pd\u001b[39m.\u001b[39;49mDatetimeIndex(df_trans_new[\u001b[39m'\u001b[39;49m\u001b[39mt_dat\u001b[39;49m\u001b[39m'\u001b[39;49m])\u001b[39m.\u001b[39;49mmonth\n\u001b[1;32m      <a href='vscode-notebook-cell:/Users/mythulam/Desktop/Masters/03_Fall_2022/02_Strategy_and_Performance_Management/Session_10_Group_Project/SPM_Group6Project_DataPreparation.ipynb#X32sZmlsZQ%3D%3D?line=2'>3</a>\u001b[0m df_trans_new[\u001b[39m'\u001b[39m\u001b[39myear\u001b[39m\u001b[39m'\u001b[39m] \u001b[39m=\u001b[39m pd\u001b[39m.\u001b[39mDatetimeIndex(df_trans_new[\u001b[39m'\u001b[39m\u001b[39mt_dat\u001b[39m\u001b[39m'\u001b[39m])\u001b[39m.\u001b[39myear\n\u001b[1;32m      <a href='vscode-notebook-cell:/Users/mythulam/Desktop/Masters/03_Fall_2022/02_Strategy_and_Performance_Management/Session_10_Group_Project/SPM_Group6Project_DataPreparation.ipynb#X32sZmlsZQ%3D%3D?line=3'>4</a>\u001b[0m df_trans_new[\u001b[39m'\u001b[39m\u001b[39myear_month\u001b[39m\u001b[39m'\u001b[39m] \u001b[39m=\u001b[39m df_trans_new[\u001b[39m\"\u001b[39m\u001b[39myear\u001b[39m\u001b[39m\"\u001b[39m]\u001b[39m.\u001b[39mastype(\u001b[39mstr\u001b[39m) \u001b[39m+\u001b[39m df_trans_new[\u001b[39m\"\u001b[39m\u001b[39mmonth\u001b[39m\u001b[39m\"\u001b[39m]\u001b[39m.\u001b[39mastype(\u001b[39mstr\u001b[39m)\n",
            "File \u001b[0;32m/Library/Frameworks/Python.framework/Versions/3.9/lib/python3.9/site-packages/pandas/core/indexes/extension.py:87\u001b[0m, in \u001b[0;36minherit_from_data.<locals>.fget\u001b[0;34m(self)\u001b[0m\n\u001b[1;32m     85\u001b[0m     \u001b[39melif\u001b[39;00m \u001b[39misinstance\u001b[39m(result, ABCDataFrame):\n\u001b[1;32m     86\u001b[0m         \u001b[39mreturn\u001b[39;00m result\u001b[39m.\u001b[39mset_index(\u001b[39mself\u001b[39m)\n\u001b[0;32m---> 87\u001b[0m     \u001b[39mreturn\u001b[39;00m Index(result, name\u001b[39m=\u001b[39;49m\u001b[39mself\u001b[39;49m\u001b[39m.\u001b[39;49mname)\n\u001b[1;32m     88\u001b[0m \u001b[39mreturn\u001b[39;00m result\n",
            "File \u001b[0;32m/Library/Frameworks/Python.framework/Versions/3.9/lib/python3.9/site-packages/pandas/core/indexes/base.py:469\u001b[0m, in \u001b[0;36mIndex.__new__\u001b[0;34m(cls, data, dtype, copy, name, tupleize_cols, **kwargs)\u001b[0m\n\u001b[1;32m    466\u001b[0m             \u001b[39mreturn\u001b[39;00m \u001b[39mcls\u001b[39m(arr, dtype, copy\u001b[39m=\u001b[39mcopy, name\u001b[39m=\u001b[39mname, \u001b[39m*\u001b[39m\u001b[39m*\u001b[39mkwargs)\n\u001b[1;32m    468\u001b[0m klass \u001b[39m=\u001b[39m \u001b[39mcls\u001b[39m\u001b[39m.\u001b[39m_dtype_to_subclass(arr\u001b[39m.\u001b[39mdtype)\n\u001b[0;32m--> 469\u001b[0m arr \u001b[39m=\u001b[39m klass\u001b[39m.\u001b[39;49m_ensure_array(arr, dtype, copy)\n\u001b[1;32m    470\u001b[0m disallow_kwargs(kwargs)\n\u001b[1;32m    471\u001b[0m \u001b[39mreturn\u001b[39;00m klass\u001b[39m.\u001b[39m_simple_new(arr, name)\n",
            "File \u001b[0;32m/Library/Frameworks/Python.framework/Versions/3.9/lib/python3.9/site-packages/pandas/core/indexes/numeric.py:164\u001b[0m, in \u001b[0;36mNumericIndex._ensure_array\u001b[0;34m(cls, data, dtype, copy)\u001b[0m\n\u001b[1;32m    161\u001b[0m dtype \u001b[39m=\u001b[39m \u001b[39mcls\u001b[39m\u001b[39m.\u001b[39m_ensure_dtype(dtype)\n\u001b[1;32m    163\u001b[0m \u001b[39mif\u001b[39;00m copy \u001b[39mor\u001b[39;00m \u001b[39mnot\u001b[39;00m is_dtype_equal(data\u001b[39m.\u001b[39mdtype, dtype):\n\u001b[0;32m--> 164\u001b[0m     subarr \u001b[39m=\u001b[39m np\u001b[39m.\u001b[39;49marray(data, dtype\u001b[39m=\u001b[39;49mdtype, copy\u001b[39m=\u001b[39;49mcopy)\n\u001b[1;32m    165\u001b[0m     \u001b[39mcls\u001b[39m\u001b[39m.\u001b[39m_assert_safe_casting(data, subarr)\n\u001b[1;32m    166\u001b[0m \u001b[39melse\u001b[39;00m:\n",
            "\u001b[0;31mKeyboardInterrupt\u001b[0m: "
          ]
        }
      ],
      "source": [
        "# create new month column in transaction df\n",
        "# df_trans_new['month'] = pd.DatetimeIndex(df_trans_new['t_dat']).month\n",
        "\n",
        "# view df\n",
        "# df_trans_new.head()"
      ]
    },
    {
      "cell_type": "code",
      "execution_count": null,
      "metadata": {},
      "outputs": [],
      "source": [
        "# dataframe of customer by month (total transactions)\n",
        "# df_ct_month = df_trans_new.groupby(['customer_id','month']).size()\n",
        "# df_ct_month = df_ct_month.unstack()\n",
        "# df_ct_month.rename(columns = {1:'num_jan', 2:'num_feb', 3:'num_mar', 4:'num_apr', 5:'num_may', 6:'num_jun', 7:'num_jul', 8:'num_aug', 9:'num_sep', 10:'num_oct', 11:'num_nov', 12:'num_dec'}, inplace = True)\n",
        "# df_ct_month = df_ct_month.fillna(0)\n",
        "\n",
        "# view df\n",
        "# df_ct_month.head()"
      ]
    },
    {
      "cell_type": "code",
      "execution_count": null,
      "metadata": {},
      "outputs": [],
      "source": [
        "# dataframe of customer by month (total transactions)\n",
        "# df_ct_monthp = df_trans_new.groupby(['customer_id','month']).sum()['price']\n",
        "# df_ct_monthp = df_ct_monthp.unstack()\n",
        "# df_ct_monthp.rename(columns = {1:'price_jan', 2:'price_feb', 3:'price_mar', 4:'price_apr', 5:'price_may', 6:'price_jun', 7:'price_jul', 8:'price_aug', 9:'price_sep', 10:'price_oct', 11:'price_nov', 12:'price_dec'}, inplace = True)\n",
        "# df_ct_monthp = df_ct_monthp.fillna(0)\n",
        "\n",
        "# view df\n",
        "# df_ct_monthp.head()"
      ]
    },
    {
      "cell_type": "code",
      "execution_count": 54,
      "metadata": {},
      "outputs": [
        {
          "name": "stdout",
          "output_type": "stream",
          "text": [
            "<class 'pandas.core.frame.DataFrame'>\n",
            "Int64Index: 1371980 entries, 0 to 1371979\n",
            "Data columns (total 34 columns):\n",
            " #   Column                            Non-Null Count    Dtype  \n",
            "---  ------                            --------------    -----  \n",
            " 0   customer_id                       1371980 non-null  object \n",
            " 1   FN                                1371980 non-null  float64\n",
            " 2   Active                            1371980 non-null  float64\n",
            " 3   age                               1371980 non-null  float64\n",
            " 4   club_member_status_ACTIVE         1371980 non-null  uint8  \n",
            " 5   club_member_status_LEFT CLUB      1371980 non-null  uint8  \n",
            " 6   club_member_status_PRE-CREATE     1371980 non-null  uint8  \n",
            " 7   fashion_news_frequency_Monthly    1371980 non-null  uint8  \n",
            " 8   fashion_news_frequency_Regularly  1371980 non-null  uint8  \n",
            " 9   num_instore                       1371980 non-null  float64\n",
            " 10  num_online                        1371980 non-null  float64\n",
            " 11  total_trans                       1371980 non-null  float64\n",
            " 12  perc_instore                      1371980 non-null  float64\n",
            " 13  total_spent                       1371980 non-null  float64\n",
            " 14  num_bb50_98                       1371980 non-null  float64\n",
            " 15  num_child_acc                     1371980 non-null  float64\n",
            " 16  num_child134_170                  1371980 non-null  float64\n",
            " 17  num_child92_140                   1371980 non-null  float64\n",
            " 18  num_divided                       1371980 non-null  float64\n",
            " 19  num_ladies_acc                    1371980 non-null  float64\n",
            " 20  num_ladies                        1371980 non-null  float64\n",
            " 21  num_lingeries                     1371980 non-null  float64\n",
            " 22  num_mens                          1371980 non-null  float64\n",
            " 23  num_sport                         1371980 non-null  float64\n",
            " 24  price_bb50_98                     1371980 non-null  float64\n",
            " 25  price_child_acc                   1371980 non-null  float64\n",
            " 26  price_child134_170                1371980 non-null  float64\n",
            " 27  price_child92_140                 1371980 non-null  float64\n",
            " 28  price_divided                     1371980 non-null  float64\n",
            " 29  price_ladies_acc                  1371980 non-null  float64\n",
            " 30  price_ladies                      1371980 non-null  float64\n",
            " 31  price_lingeries                   1371980 non-null  float64\n",
            " 32  price_mens                        1371980 non-null  float64\n",
            " 33  price_sport                       1371980 non-null  float64\n",
            "dtypes: float64(28), object(1), uint8(5)\n",
            "memory usage: 320.6+ MB\n"
          ]
        }
      ],
      "source": [
        "# merge all transaction dataframes together\n",
        "df_cust_trans = df_cust_trans.merge(df_ct_index, on='customer_id', how='left', indicator=False)\n",
        "df_cust_trans = df_cust_trans.merge(df_ct_indexp, on='customer_id', how='left', indicator=False)\n",
        "# df_cust_trans = df_cust_trans.merge(df_ct_month, on='customer_id', how='left', indicator=False)\n",
        "# df_cust_trans = df_cust_trans.merge(df_ct_monthp, on='customer_id', how='left', indicator=False)\n",
        "\n",
        "# view df\n",
        "# df_cust_trans.info()\n",
        "# df_cust_trans.head()\n",
        "\n",
        "# merge customer and transaction together\n",
        "df_cust_new = df_cust_new.merge(df_cust_trans, on='customer_id', how='left', indicator=False)\n",
        "# fill na\n",
        "df_cust_new = df_cust_new.fillna(0)\n",
        "\n",
        "# view df\n",
        "df_cust_new.info()"
      ]
    },
    {
      "cell_type": "code",
      "execution_count": 55,
      "metadata": {},
      "outputs": [],
      "source": [
        "# export df to csv\n",
        "df_cust_new.to_csv('/Users/mythulam/Desktop/Masters/03_Fall_2022/02_Strategy_and_Performance_Management/Session_10_Group_Project/Data/df_cust_new3.csv', encoding = 'utf-8-sig', index=False) "
      ]
    },
    {
      "cell_type": "markdown",
      "metadata": {},
      "source": [
        "We will use this csv with the churn prediction analysis results to inform our customer segmentation."
      ]
    }
  ],
  "metadata": {
    "colab": {
      "collapsed_sections": [],
      "provenance": [],
      "toc_visible": true
    },
    "interpreter": {
      "hash": "aee8b7b246df8f9039afb4144a1f6fd8d2ca17a180786b69acc140d282b71a49"
    },
    "kernelspec": {
      "display_name": "Python 3.9.6 64-bit",
      "language": "python",
      "name": "python3"
    },
    "language_info": {
      "codemirror_mode": {
        "name": "ipython",
        "version": 3
      },
      "file_extension": ".py",
      "mimetype": "text/x-python",
      "name": "python",
      "nbconvert_exporter": "python",
      "pygments_lexer": "ipython3",
      "version": "3.9.6"
    }
  },
  "nbformat": 4,
  "nbformat_minor": 0
}
