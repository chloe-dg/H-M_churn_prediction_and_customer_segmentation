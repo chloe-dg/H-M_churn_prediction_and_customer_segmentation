{
  "cells": [
    {
      "cell_type": "markdown",
      "metadata": {
        "id": "XMUaaz7vfOo3"
      },
      "source": [
        "# Strategy and Performance Management - Fall 2022 - Group Project\n",
        "## H&M Customer Segmentation and Strategies\n",
        "### Group 6: Thi Anh Ba Dang, Eduardo Garcia, Thu Lam, Carla Weidner\n",
        "\n",
        "---\n",
        "\n"
      ]
    },
    {
      "cell_type": "markdown",
      "metadata": {
        "id": "PmkIl_KR0xFi"
      },
      "source": [
        "# Exploratory Data Analysis"
      ]
    },
    {
      "cell_type": "markdown",
      "metadata": {
        "id": "GktetwuK4xp5"
      },
      "source": [
        "## Importing Data from Kaggle to Colab"
      ]
    },
    {
      "cell_type": "code",
      "execution_count": null,
      "metadata": {
        "colab": {
          "base_uri": "https://localhost:8080/",
          "height": 92
        },
        "id": "dt_azwy1fTg8",
        "outputId": "9165e4fb-32a3-419f-afec-8f6ad905648d"
      },
      "outputs": [],
      "source": [
        "# upload API's key JSON file to \n",
        "\n",
        "from google.colab import files\n",
        "files.upload()"
      ]
    },
    {
      "cell_type": "code",
      "execution_count": null,
      "metadata": {
        "colab": {
          "base_uri": "https://localhost:8080/"
        },
        "id": "gwXnxnLU_ygh",
        "outputId": "47f006e1-91b9-485b-e8ca-c91ce3d0d63c"
      },
      "outputs": [],
      "source": [
        "!mkdir ~/.kaggle\n",
        "!cp kaggle.json ~/.kaggle/\n",
        "!chmod 600 ~/.kaggle/kaggle.json"
      ]
    },
    {
      "cell_type": "code",
      "execution_count": null,
      "metadata": {
        "colab": {
          "base_uri": "https://localhost:8080/"
        },
        "id": "oj5fnSD0Ajnl",
        "outputId": "182dc967-2073-4816-c762-e01953116264"
      },
      "outputs": [],
      "source": [
        "!kaggle competitions download -c h-and-m-personalized-fashion-recommendations --force"
      ]
    },
    {
      "cell_type": "code",
      "execution_count": null,
      "metadata": {
        "id": "uy29jdiDA0mT"
      },
      "outputs": [],
      "source": [
        "!unzip -qq h-and-m-personalized-fashion-recommendations.zip\n"
      ]
    },
    {
      "cell_type": "code",
      "execution_count": null,
      "metadata": {
        "id": "M9flaVoy7HiW"
      },
      "outputs": [],
      "source": [
        "import shutil\n",
        "shutil.rmtree('images')"
      ]
    },
    {
      "cell_type": "markdown",
      "metadata": {
        "id": "BOOSF8G5KV8G"
      },
      "source": [
        "## Import and Load Libraries"
      ]
    },
    {
      "cell_type": "code",
      "execution_count": 16,
      "metadata": {
        "id": "cq7TTKF4Ka-_"
      },
      "outputs": [],
      "source": [
        "import pandas as pd\n",
        "import numpy as np\n",
        "import matplotlib.pyplot as plt\n",
        "\n",
        "#import label encoder\n",
        "from sklearn import preprocessing\n",
        "\n",
        "# import one hot encoder\n",
        "from sklearn.preprocessing import OneHotEncoder"
      ]
    },
    {
      "cell_type": "markdown",
      "metadata": {
        "id": "1oqK57xWoQ6Z"
      },
      "source": [
        "## Cleaning Customer raw data\n",
        "\n",
        "This dataset has seven (7) features and 1,371,980 records."
      ]
    },
    {
      "cell_type": "code",
      "execution_count": 2,
      "metadata": {
        "id": "ZrUkmm0yUxfZ"
      },
      "outputs": [],
      "source": [
        "# Load the data\n",
        "df_customers = pd.read_csv('dataset/customers.csv')"
      ]
    },
    {
      "cell_type": "code",
      "execution_count": 18,
      "metadata": {
        "colab": {
          "base_uri": "https://localhost:8080/"
        },
        "id": "yTNjGxlVm_Za",
        "outputId": "edf12156-0047-421c-e11c-6e55a40ca324"
      },
      "outputs": [
        {
          "name": "stdout",
          "output_type": "stream",
          "text": [
            "<class 'pandas.core.frame.DataFrame'>\n",
            "RangeIndex: 1371980 entries, 0 to 1371979\n",
            "Data columns (total 7 columns):\n",
            " #   Column                  Non-Null Count    Dtype  \n",
            "---  ------                  --------------    -----  \n",
            " 0   customer_id             1371980 non-null  object \n",
            " 1   FN                      476930 non-null   float64\n",
            " 2   Active                  464404 non-null   float64\n",
            " 3   club_member_status      1365918 non-null  object \n",
            " 4   fashion_news_frequency  1355971 non-null  object \n",
            " 5   age                     1356119 non-null  float64\n",
            " 6   postal_code             1371980 non-null  object \n",
            "dtypes: float64(3), object(4)\n",
            "memory usage: 73.3+ MB\n"
          ]
        }
      ],
      "source": [
        "# create the summary of dataset\n",
        "df_customers.info()"
      ]
    },
    {
      "cell_type": "code",
      "execution_count": 19,
      "metadata": {
        "id": "xcez2Wunl0N_"
      },
      "outputs": [],
      "source": [
        "# remove error in dataset\n",
        "df_customers['FN'] = df_customers['FN'].fillna(0)   #fill nulls/NaN with 0\n",
        "df_customers['Active'] = df_customers['Active'].fillna(0) #fill nulls/NaN with 0\n",
        "df_customers['fashion_news_frequency'] = df_customers['fashion_news_frequency'].replace('None', np.NaN)\n",
        "df_customers['fashion_news_frequency'] = df_customers['fashion_news_frequency'].replace('NONE', np.NaN)\n",
        "df_customers['age'] = df_customers['age'].fillna(df_customers['age'].median())   #fill nulls/NaN with median age\n",
        "df_customers.drop(\"postal_code\", axis=1, inplace=True) #drop the postal code field\n",
        "\n",
        "# create one hot encoding columns for customer_id\n",
        "obj_cols = df_customers.select_dtypes(\"object\").columns.to_list()\n",
        "obj_cols.remove('customer_id')\n",
        "df_cust_new = pd.get_dummies(df_customers, columns=obj_cols, drop_first=False) \n"
      ]
    },
    {
      "cell_type": "markdown",
      "metadata": {
        "id": "gILtCQZPq1Pe"
      },
      "source": [
        "## Cleaning Articles raw data\n",
        "This dataset contains 25 features and 105,542 records."
      ]
    },
    {
      "cell_type": "code",
      "execution_count": 20,
      "metadata": {
        "id": "nd4IZjkxq5S3"
      },
      "outputs": [],
      "source": [
        "# Load the data\n",
        "df_articles = pd.read_csv('/Users/mythulam/Desktop/Masters/03_Fall_2022/02_Strategy_and_Performance_Management/Session_10_Group_Project/Data/articles.csv')\n",
        "\n",
        "# extract columns to make new df\n",
        "df_arti_new = df_articles[['article_id', 'index_group_name']]\n"
      ]
    },
    {
      "cell_type": "markdown",
      "metadata": {
        "id": "VLh7QTnatz4f"
      },
      "source": [
        "# Merge Article with Transaction dataset"
      ]
    },
    {
      "cell_type": "code",
      "execution_count": 21,
      "metadata": {
        "colab": {
          "base_uri": "https://localhost:8080/",
          "height": 468
        },
        "id": "x6-pH4qAuAbP",
        "outputId": "61b031ce-7817-457b-ceb1-21657af7c869"
      },
      "outputs": [],
      "source": [
        "# Load the data\n",
        "df_transaction = pd.read_csv('/Users/mythulam/Desktop/Masters/03_Fall_2022/02_Strategy_and_Performance_Management/Session_10_Group_Project/Data/transactions_train.csv')\n",
        "\n",
        "# copy df and merge to articles to get index name\n",
        "df_trans_new = df_transaction.copy()\n",
        "df_trans_new = df_trans_new.merge(df_arti_new, on='article_id', how='left', indicator=False)\n",
        "\n",
        "# change date type\n",
        "df_trans_new['t_dat'] = df_trans_new['t_dat'].astype(\"datetime64\")\n",
        "\n",
        "# view df\n",
        "# df_trans_new.head()"
      ]
    },
    {
      "cell_type": "code",
      "execution_count": 22,
      "metadata": {},
      "outputs": [
        {
          "data": {
            "text/plain": [
              "index_group_name\n",
              "Baby/Children     1217349\n",
              "Divided           7138254\n",
              "Ladieswear       20415260\n",
              "Menswear          1771053\n",
              "Sport             1246408\n",
              "dtype: int64"
            ]
          },
          "execution_count": 22,
          "metadata": {},
          "output_type": "execute_result"
        }
      ],
      "source": [
        "# Group merge dataset by index to check the size of each clothing style\n",
        "df_trans_new.groupby(['index_group_name']).size()"
      ]
    },
    {
      "cell_type": "markdown",
      "metadata": {
        "id": "y9tNy3AO1h27"
      },
      "source": [
        "## Aggregating Transaction Data by Customer ID\n",
        "\n",
        "new columns:\n",
        "\n",
        "\n",
        "*   Number of in-store transactions\n",
        "*   Number of online transactions\n",
        "*   Percent in-store purchases\n",
        "*   Sum of total transaction prices\n",
        "\n",
        "For all 10 index names:\n",
        "*   Number of index name category transactions\n",
        "*   Sum of index name category transactions prices (MAYBE)\n",
        "\n",
        "For all 12 months:\n",
        "*   Number of transactions per month\n",
        "*   Sum of transaction prices per month (MAYBE)\n",
        "\n"
      ]
    },
    {
      "cell_type": "code",
      "execution_count": 23,
      "metadata": {},
      "outputs": [
        {
          "data": {
            "text/html": [
              "<div>\n",
              "<style scoped>\n",
              "    .dataframe tbody tr th:only-of-type {\n",
              "        vertical-align: middle;\n",
              "    }\n",
              "\n",
              "    .dataframe tbody tr th {\n",
              "        vertical-align: top;\n",
              "    }\n",
              "\n",
              "    .dataframe thead th {\n",
              "        text-align: right;\n",
              "    }\n",
              "</style>\n",
              "<table border=\"1\" class=\"dataframe\">\n",
              "  <thead>\n",
              "    <tr style=\"text-align: right;\">\n",
              "      <th>sales_channel_id</th>\n",
              "      <th>num_online</th>\n",
              "      <th>num_instore</th>\n",
              "      <th>total_trans</th>\n",
              "      <th>perc_online</th>\n",
              "      <th>total_spent</th>\n",
              "    </tr>\n",
              "    <tr>\n",
              "      <th>customer_id</th>\n",
              "      <th></th>\n",
              "      <th></th>\n",
              "      <th></th>\n",
              "      <th></th>\n",
              "      <th></th>\n",
              "    </tr>\n",
              "  </thead>\n",
              "  <tbody>\n",
              "    <tr>\n",
              "      <th>00000dbacae5abe5e23885899a1fa44253a17956c6d1c3d25f88aa139fdfc657</th>\n",
              "      <td>9.0</td>\n",
              "      <td>12.0</td>\n",
              "      <td>21.0</td>\n",
              "      <td>0.428571</td>\n",
              "      <td>0.648983</td>\n",
              "    </tr>\n",
              "    <tr>\n",
              "      <th>0000423b00ade91418cceaf3b26c6af3dd342b51fd051eec9c12fb36984420fa</th>\n",
              "      <td>5.0</td>\n",
              "      <td>81.0</td>\n",
              "      <td>86.0</td>\n",
              "      <td>0.058140</td>\n",
              "      <td>2.601932</td>\n",
              "    </tr>\n",
              "    <tr>\n",
              "      <th>000058a12d5b43e67d225668fa1f8d618c13dc232df0cad8ffe7ad4a1091e318</th>\n",
              "      <td>0.0</td>\n",
              "      <td>18.0</td>\n",
              "      <td>18.0</td>\n",
              "      <td>0.000000</td>\n",
              "      <td>0.704780</td>\n",
              "    </tr>\n",
              "    <tr>\n",
              "      <th>00005ca1c9ed5f5146b52ac8639a40ca9d57aeff4d1bd2c5feb1ca5dff07c43e</th>\n",
              "      <td>0.0</td>\n",
              "      <td>2.0</td>\n",
              "      <td>2.0</td>\n",
              "      <td>0.000000</td>\n",
              "      <td>0.060983</td>\n",
              "    </tr>\n",
              "    <tr>\n",
              "      <th>00006413d8573cd20ed7128e53b7b13819fe5cfc2d801fe7fc0f26dd8d65a85a</th>\n",
              "      <td>2.0</td>\n",
              "      <td>11.0</td>\n",
              "      <td>13.0</td>\n",
              "      <td>0.153846</td>\n",
              "      <td>0.469695</td>\n",
              "    </tr>\n",
              "  </tbody>\n",
              "</table>\n",
              "</div>"
            ],
            "text/plain": [
              "sales_channel_id                                    num_online  num_instore  \\\n",
              "customer_id                                                                   \n",
              "00000dbacae5abe5e23885899a1fa44253a17956c6d1c3d...         9.0         12.0   \n",
              "0000423b00ade91418cceaf3b26c6af3dd342b51fd051ee...         5.0         81.0   \n",
              "000058a12d5b43e67d225668fa1f8d618c13dc232df0cad...         0.0         18.0   \n",
              "00005ca1c9ed5f5146b52ac8639a40ca9d57aeff4d1bd2c...         0.0          2.0   \n",
              "00006413d8573cd20ed7128e53b7b13819fe5cfc2d801fe...         2.0         11.0   \n",
              "\n",
              "sales_channel_id                                    total_trans  perc_online  \\\n",
              "customer_id                                                                    \n",
              "00000dbacae5abe5e23885899a1fa44253a17956c6d1c3d...         21.0     0.428571   \n",
              "0000423b00ade91418cceaf3b26c6af3dd342b51fd051ee...         86.0     0.058140   \n",
              "000058a12d5b43e67d225668fa1f8d618c13dc232df0cad...         18.0     0.000000   \n",
              "00005ca1c9ed5f5146b52ac8639a40ca9d57aeff4d1bd2c...          2.0     0.000000   \n",
              "00006413d8573cd20ed7128e53b7b13819fe5cfc2d801fe...         13.0     0.153846   \n",
              "\n",
              "sales_channel_id                                    total_spent  \n",
              "customer_id                                                      \n",
              "00000dbacae5abe5e23885899a1fa44253a17956c6d1c3d...     0.648983  \n",
              "0000423b00ade91418cceaf3b26c6af3dd342b51fd051ee...     2.601932  \n",
              "000058a12d5b43e67d225668fa1f8d618c13dc232df0cad...     0.704780  \n",
              "00005ca1c9ed5f5146b52ac8639a40ca9d57aeff4d1bd2c...     0.060983  \n",
              "00006413d8573cd20ed7128e53b7b13819fe5cfc2d801fe...     0.469695  "
            ]
          },
          "execution_count": 23,
          "metadata": {},
          "output_type": "execute_result"
        }
      ],
      "source": [
        "# create first customer df based on transactions\n",
        "df_cust_trans = df_trans_new.groupby(['customer_id','sales_channel_id']).size()\n",
        "df_cust_trans = df_cust_trans.unstack()\n",
        "df_cust_trans.rename(columns = {1:'num_online', 2:'num_instore'}, inplace = True)\n",
        "df_cust_trans = df_cust_trans.fillna(0)\n",
        "\n",
        "# add more columns\n",
        "df_cust_trans['total_trans'] = df_cust_trans['num_online'] + df_cust_trans['num_instore']\n",
        "df_cust_trans['perc_online'] = df_cust_trans['num_online'] / df_cust_trans['total_trans']\n",
        "df_cust_trans['total_spent'] = df_trans_new.groupby('customer_id').sum()['price'].tolist()\n",
        "\n",
        "#view df\n",
        "df_cust_trans.head()"
      ]
    },
    {
      "cell_type": "code",
      "execution_count": 24,
      "metadata": {},
      "outputs": [
        {
          "data": {
            "text/html": [
              "<div>\n",
              "<style scoped>\n",
              "    .dataframe tbody tr th:only-of-type {\n",
              "        vertical-align: middle;\n",
              "    }\n",
              "\n",
              "    .dataframe tbody tr th {\n",
              "        vertical-align: top;\n",
              "    }\n",
              "\n",
              "    .dataframe thead th {\n",
              "        text-align: right;\n",
              "    }\n",
              "</style>\n",
              "<table border=\"1\" class=\"dataframe\">\n",
              "  <thead>\n",
              "    <tr style=\"text-align: right;\">\n",
              "      <th>index_group_name</th>\n",
              "      <th>num_babychild</th>\n",
              "      <th>num_divided</th>\n",
              "      <th>num_ladies</th>\n",
              "      <th>num_mens</th>\n",
              "      <th>num_sport</th>\n",
              "    </tr>\n",
              "    <tr>\n",
              "      <th>customer_id</th>\n",
              "      <th></th>\n",
              "      <th></th>\n",
              "      <th></th>\n",
              "      <th></th>\n",
              "      <th></th>\n",
              "    </tr>\n",
              "  </thead>\n",
              "  <tbody>\n",
              "    <tr>\n",
              "      <th>00000dbacae5abe5e23885899a1fa44253a17956c6d1c3d25f88aa139fdfc657</th>\n",
              "      <td>5.0</td>\n",
              "      <td>2.0</td>\n",
              "      <td>13.0</td>\n",
              "      <td>1.0</td>\n",
              "      <td>0.0</td>\n",
              "    </tr>\n",
              "    <tr>\n",
              "      <th>0000423b00ade91418cceaf3b26c6af3dd342b51fd051eec9c12fb36984420fa</th>\n",
              "      <td>4.0</td>\n",
              "      <td>19.0</td>\n",
              "      <td>62.0</td>\n",
              "      <td>0.0</td>\n",
              "      <td>1.0</td>\n",
              "    </tr>\n",
              "    <tr>\n",
              "      <th>000058a12d5b43e67d225668fa1f8d618c13dc232df0cad8ffe7ad4a1091e318</th>\n",
              "      <td>0.0</td>\n",
              "      <td>1.0</td>\n",
              "      <td>12.0</td>\n",
              "      <td>4.0</td>\n",
              "      <td>1.0</td>\n",
              "    </tr>\n",
              "    <tr>\n",
              "      <th>00005ca1c9ed5f5146b52ac8639a40ca9d57aeff4d1bd2c5feb1ca5dff07c43e</th>\n",
              "      <td>0.0</td>\n",
              "      <td>0.0</td>\n",
              "      <td>0.0</td>\n",
              "      <td>0.0</td>\n",
              "      <td>2.0</td>\n",
              "    </tr>\n",
              "    <tr>\n",
              "      <th>00006413d8573cd20ed7128e53b7b13819fe5cfc2d801fe7fc0f26dd8d65a85a</th>\n",
              "      <td>0.0</td>\n",
              "      <td>0.0</td>\n",
              "      <td>11.0</td>\n",
              "      <td>0.0</td>\n",
              "      <td>2.0</td>\n",
              "    </tr>\n",
              "  </tbody>\n",
              "</table>\n",
              "</div>"
            ],
            "text/plain": [
              "index_group_name                                    num_babychild  \\\n",
              "customer_id                                                         \n",
              "00000dbacae5abe5e23885899a1fa44253a17956c6d1c3d...            5.0   \n",
              "0000423b00ade91418cceaf3b26c6af3dd342b51fd051ee...            4.0   \n",
              "000058a12d5b43e67d225668fa1f8d618c13dc232df0cad...            0.0   \n",
              "00005ca1c9ed5f5146b52ac8639a40ca9d57aeff4d1bd2c...            0.0   \n",
              "00006413d8573cd20ed7128e53b7b13819fe5cfc2d801fe...            0.0   \n",
              "\n",
              "index_group_name                                    num_divided  num_ladies  \\\n",
              "customer_id                                                                   \n",
              "00000dbacae5abe5e23885899a1fa44253a17956c6d1c3d...          2.0        13.0   \n",
              "0000423b00ade91418cceaf3b26c6af3dd342b51fd051ee...         19.0        62.0   \n",
              "000058a12d5b43e67d225668fa1f8d618c13dc232df0cad...          1.0        12.0   \n",
              "00005ca1c9ed5f5146b52ac8639a40ca9d57aeff4d1bd2c...          0.0         0.0   \n",
              "00006413d8573cd20ed7128e53b7b13819fe5cfc2d801fe...          0.0        11.0   \n",
              "\n",
              "index_group_name                                    num_mens  num_sport  \n",
              "customer_id                                                              \n",
              "00000dbacae5abe5e23885899a1fa44253a17956c6d1c3d...       1.0        0.0  \n",
              "0000423b00ade91418cceaf3b26c6af3dd342b51fd051ee...       0.0        1.0  \n",
              "000058a12d5b43e67d225668fa1f8d618c13dc232df0cad...       4.0        1.0  \n",
              "00005ca1c9ed5f5146b52ac8639a40ca9d57aeff4d1bd2c...       0.0        2.0  \n",
              "00006413d8573cd20ed7128e53b7b13819fe5cfc2d801fe...       0.0        2.0  "
            ]
          },
          "execution_count": 24,
          "metadata": {},
          "output_type": "execute_result"
        }
      ],
      "source": [
        "# dataframe of customer by index (number of transactions)\n",
        "df_ct_index = df_trans_new.groupby(['customer_id','index_group_name']).size()\n",
        "df_ct_index = df_ct_index.unstack()\n",
        "df_ct_index.rename(columns = {'Baby/Children':'num_babychild', 'Divided':'num_divided','Ladieswear':'num_ladies', 'Menswear': 'num_mens','Sport':'num_sport'}, inplace = True)\n",
        "df_ct_index = df_ct_index.fillna(0)\n",
        "\n",
        "# view the first few rows of dataframe\n",
        "df_ct_index.head()"
      ]
    },
    {
      "cell_type": "code",
      "execution_count": 15,
      "metadata": {},
      "outputs": [
        {
          "data": {
            "text/html": [
              "<div>\n",
              "<style scoped>\n",
              "    .dataframe tbody tr th:only-of-type {\n",
              "        vertical-align: middle;\n",
              "    }\n",
              "\n",
              "    .dataframe tbody tr th {\n",
              "        vertical-align: top;\n",
              "    }\n",
              "\n",
              "    .dataframe thead th {\n",
              "        text-align: right;\n",
              "    }\n",
              "</style>\n",
              "<table border=\"1\" class=\"dataframe\">\n",
              "  <thead>\n",
              "    <tr style=\"text-align: right;\">\n",
              "      <th>index_group_name</th>\n",
              "      <th>price_babychild</th>\n",
              "      <th>price_divided</th>\n",
              "      <th>price_ladies</th>\n",
              "      <th>price_mens</th>\n",
              "      <th>price_sport</th>\n",
              "    </tr>\n",
              "    <tr>\n",
              "      <th>customer_id</th>\n",
              "      <th></th>\n",
              "      <th></th>\n",
              "      <th></th>\n",
              "      <th></th>\n",
              "      <th></th>\n",
              "    </tr>\n",
              "  </thead>\n",
              "  <tbody>\n",
              "    <tr>\n",
              "      <th>00000dbacae5abe5e23885899a1fa44253a17956c6d1c3d25f88aa139fdfc657</th>\n",
              "      <td>0.119915</td>\n",
              "      <td>0.052932</td>\n",
              "      <td>0.440559</td>\n",
              "      <td>0.035576</td>\n",
              "      <td>0.000000</td>\n",
              "    </tr>\n",
              "    <tr>\n",
              "      <th>0000423b00ade91418cceaf3b26c6af3dd342b51fd051eec9c12fb36984420fa</th>\n",
              "      <td>0.089763</td>\n",
              "      <td>0.826797</td>\n",
              "      <td>1.663356</td>\n",
              "      <td>0.000000</td>\n",
              "      <td>0.022017</td>\n",
              "    </tr>\n",
              "    <tr>\n",
              "      <th>000058a12d5b43e67d225668fa1f8d618c13dc232df0cad8ffe7ad4a1091e318</th>\n",
              "      <td>0.000000</td>\n",
              "      <td>0.030492</td>\n",
              "      <td>0.426915</td>\n",
              "      <td>0.186373</td>\n",
              "      <td>0.061000</td>\n",
              "    </tr>\n",
              "    <tr>\n",
              "      <th>00005ca1c9ed5f5146b52ac8639a40ca9d57aeff4d1bd2c5feb1ca5dff07c43e</th>\n",
              "      <td>0.000000</td>\n",
              "      <td>0.000000</td>\n",
              "      <td>0.000000</td>\n",
              "      <td>0.000000</td>\n",
              "      <td>0.060983</td>\n",
              "    </tr>\n",
              "    <tr>\n",
              "      <th>00006413d8573cd20ed7128e53b7b13819fe5cfc2d801fe7fc0f26dd8d65a85a</th>\n",
              "      <td>0.000000</td>\n",
              "      <td>0.000000</td>\n",
              "      <td>0.415492</td>\n",
              "      <td>0.000000</td>\n",
              "      <td>0.054203</td>\n",
              "    </tr>\n",
              "  </tbody>\n",
              "</table>\n",
              "</div>"
            ],
            "text/plain": [
              "index_group_name                                    price_babychild  \\\n",
              "customer_id                                                           \n",
              "00000dbacae5abe5e23885899a1fa44253a17956c6d1c3d...         0.119915   \n",
              "0000423b00ade91418cceaf3b26c6af3dd342b51fd051ee...         0.089763   \n",
              "000058a12d5b43e67d225668fa1f8d618c13dc232df0cad...         0.000000   \n",
              "00005ca1c9ed5f5146b52ac8639a40ca9d57aeff4d1bd2c...         0.000000   \n",
              "00006413d8573cd20ed7128e53b7b13819fe5cfc2d801fe...         0.000000   \n",
              "\n",
              "index_group_name                                    price_divided  \\\n",
              "customer_id                                                         \n",
              "00000dbacae5abe5e23885899a1fa44253a17956c6d1c3d...       0.052932   \n",
              "0000423b00ade91418cceaf3b26c6af3dd342b51fd051ee...       0.826797   \n",
              "000058a12d5b43e67d225668fa1f8d618c13dc232df0cad...       0.030492   \n",
              "00005ca1c9ed5f5146b52ac8639a40ca9d57aeff4d1bd2c...       0.000000   \n",
              "00006413d8573cd20ed7128e53b7b13819fe5cfc2d801fe...       0.000000   \n",
              "\n",
              "index_group_name                                    price_ladies  price_mens  \\\n",
              "customer_id                                                                    \n",
              "00000dbacae5abe5e23885899a1fa44253a17956c6d1c3d...      0.440559    0.035576   \n",
              "0000423b00ade91418cceaf3b26c6af3dd342b51fd051ee...      1.663356    0.000000   \n",
              "000058a12d5b43e67d225668fa1f8d618c13dc232df0cad...      0.426915    0.186373   \n",
              "00005ca1c9ed5f5146b52ac8639a40ca9d57aeff4d1bd2c...      0.000000    0.000000   \n",
              "00006413d8573cd20ed7128e53b7b13819fe5cfc2d801fe...      0.415492    0.000000   \n",
              "\n",
              "index_group_name                                    price_sport  \n",
              "customer_id                                                      \n",
              "00000dbacae5abe5e23885899a1fa44253a17956c6d1c3d...     0.000000  \n",
              "0000423b00ade91418cceaf3b26c6af3dd342b51fd051ee...     0.022017  \n",
              "000058a12d5b43e67d225668fa1f8d618c13dc232df0cad...     0.061000  \n",
              "00005ca1c9ed5f5146b52ac8639a40ca9d57aeff4d1bd2c...     0.060983  \n",
              "00006413d8573cd20ed7128e53b7b13819fe5cfc2d801fe...     0.054203  "
            ]
          },
          "execution_count": 15,
          "metadata": {},
          "output_type": "execute_result"
        }
      ],
      "source": [
        "# dataframe of customer by index (sum of price of transactions)\n",
        "df_ct_indexp = df_trans_new.groupby(['customer_id','index_group_name']).sum()['price']\n",
        "df_ct_indexp = df_ct_indexp.unstack()\n",
        "df_ct_indexp.rename(columns = {'Baby/Children':'price_babychild', 'Divided':'price_divided','Ladieswear':'price_ladies', 'Menswear': 'price_mens','Sport':'price_sport'}, inplace = True)\n",
        "df_ct_indexp = df_ct_indexp.fillna(0)\n",
        "\n",
        "# view the first few rows of dataframe\n",
        "df_ct_indexp.head()"
      ]
    },
    {
      "cell_type": "code",
      "execution_count": 28,
      "metadata": {},
      "outputs": [
        {
          "name": "stdout",
          "output_type": "stream",
          "text": [
            "<class 'pandas.core.frame.DataFrame'>\n",
            "Int64Index: 1371980 entries, 0 to 1371979\n",
            "Data columns (total 24 columns):\n",
            " #   Column                            Non-Null Count    Dtype  \n",
            "---  ------                            --------------    -----  \n",
            " 0   customer_id                       1371980 non-null  object \n",
            " 1   FN                                1371980 non-null  float64\n",
            " 2   Active                            1371980 non-null  float64\n",
            " 3   age                               1371980 non-null  float64\n",
            " 4   club_member_status_ACTIVE         1371980 non-null  uint8  \n",
            " 5   club_member_status_LEFT CLUB      1371980 non-null  uint8  \n",
            " 6   club_member_status_PRE-CREATE     1371980 non-null  uint8  \n",
            " 7   fashion_news_frequency_Monthly    1371980 non-null  uint8  \n",
            " 8   fashion_news_frequency_Regularly  1371980 non-null  uint8  \n",
            " 9   num_online                        1371980 non-null  float64\n",
            " 10  num_instore                       1371980 non-null  float64\n",
            " 11  total_trans                       1371980 non-null  float64\n",
            " 12  perc_online                       1371980 non-null  float64\n",
            " 13  total_spent                       1371980 non-null  float64\n",
            " 14  num_babychild                     1371980 non-null  float64\n",
            " 15  num_divided                       1371980 non-null  float64\n",
            " 16  num_ladies                        1371980 non-null  float64\n",
            " 17  num_mens                          1371980 non-null  float64\n",
            " 18  num_sport                         1371980 non-null  float64\n",
            " 19  price_babychild                   1371980 non-null  float64\n",
            " 20  price_divided                     1371980 non-null  float64\n",
            " 21  price_ladies                      1371980 non-null  float64\n",
            " 22  price_mens                        1371980 non-null  float64\n",
            " 23  price_sport                       1371980 non-null  float64\n",
            "dtypes: float64(18), object(1), uint8(5)\n",
            "memory usage: 215.9+ MB\n"
          ]
        }
      ],
      "source": [
        "# merge all transaction dataframes together\n",
        "df_cust_trans = df_cust_trans.merge(df_ct_index, on='customer_id', how='left', indicator=False)\n",
        "df_cust_trans = df_cust_trans.merge(df_ct_indexp, on='customer_id', how='left', indicator=False)\n",
        "\n",
        "# merge customer and transaction dataframes together\n",
        "df_cust_new = df_cust_new.merge(df_cust_trans, on='customer_id', how='left', indicator=False)\n",
        "\n",
        "# replace N/A values with 0\n",
        "df_cust_new = df_cust_new.fillna(0)\n",
        "\n",
        "# view the first few rows of dataframe\n",
        "df_cust_new.info()"
      ]
    },
    {
      "cell_type": "code",
      "execution_count": 29,
      "metadata": {},
      "outputs": [],
      "source": [
        "# export final dataframe to csv\n",
        "df_cust_new.to_csv('dataset/df_cust_new4.csv', encoding = 'utf-8-sig', index=False) "
      ]
    },
    {
      "cell_type": "markdown",
      "metadata": {},
      "source": [
        "We will use this csv with the churn prediction analysis results to inform our customer segmentation."
      ]
    }
  ],
  "metadata": {
    "colab": {
      "collapsed_sections": [],
      "provenance": [],
      "toc_visible": true
    },
    "kernelspec": {
      "display_name": "base",
      "language": "python",
      "name": "python3"
    },
    "language_info": {
      "codemirror_mode": {
        "name": "ipython",
        "version": 3
      },
      "file_extension": ".py",
      "mimetype": "text/x-python",
      "name": "python",
      "nbconvert_exporter": "python",
      "pygments_lexer": "ipython3",
      "version": "3.9.13"
    },
    "vscode": {
      "interpreter": {
        "hash": "3d597f4c481aa0f25dceb95d2a0067e73c0966dcbd003d741d821a7208527ecf"
      }
    }
  },
  "nbformat": 4,
  "nbformat_minor": 0
}
